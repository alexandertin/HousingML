{
 "cells": [
  {
   "cell_type": "markdown",
   "metadata": {},
   "source": [
    "# Tori Lowery's Data Cleaning"
   ]
  },
  {
   "cell_type": "code",
   "execution_count": 139,
   "metadata": {
    "scrolled": false
   },
   "outputs": [
    {
     "data": {
      "text/html": [
       "<div>\n",
       "<style scoped>\n",
       "    .dataframe tbody tr th:only-of-type {\n",
       "        vertical-align: middle;\n",
       "    }\n",
       "\n",
       "    .dataframe tbody tr th {\n",
       "        vertical-align: top;\n",
       "    }\n",
       "\n",
       "    .dataframe thead th {\n",
       "        text-align: right;\n",
       "    }\n",
       "</style>\n",
       "<table border=\"1\" class=\"dataframe\">\n",
       "  <thead>\n",
       "    <tr style=\"text-align: right;\">\n",
       "      <th></th>\n",
       "      <th>MSSubClass</th>\n",
       "      <th>MSZoning</th>\n",
       "      <th>LotFrontage</th>\n",
       "      <th>LotArea</th>\n",
       "      <th>Street</th>\n",
       "      <th>Alley</th>\n",
       "      <th>LotShape</th>\n",
       "      <th>LandContour</th>\n",
       "      <th>Utilities</th>\n",
       "      <th>LandSlope</th>\n",
       "      <th>Neighborhood</th>\n",
       "      <th>Condition1</th>\n",
       "      <th>Condition2</th>\n",
       "      <th>BldgType</th>\n",
       "      <th>HouseStyle</th>\n",
       "      <th>OverallQual</th>\n",
       "      <th>OverallCond</th>\n",
       "      <th>YearBuilt</th>\n",
       "      <th>YearRemodAdd</th>\n",
       "      <th>RoofStyle</th>\n",
       "      <th>RoofMatl</th>\n",
       "      <th>Exterior1st</th>\n",
       "      <th>Exterior2nd</th>\n",
       "      <th>MasVnrType</th>\n",
       "      <th>MasVnrArea</th>\n",
       "      <th>ExterQual</th>\n",
       "      <th>ExterCond</th>\n",
       "      <th>Foundation</th>\n",
       "      <th>BsmtQual</th>\n",
       "      <th>BsmtCond</th>\n",
       "      <th>BsmtExposure</th>\n",
       "      <th>BsmtFinType1</th>\n",
       "      <th>BsmtFinType2</th>\n",
       "      <th>BsmtUnfSF</th>\n",
       "      <th>TotalBsmtSF</th>\n",
       "      <th>Heating</th>\n",
       "      <th>HeatingQC</th>\n",
       "      <th>CentralAir</th>\n",
       "      <th>Electrical</th>\n",
       "      <th>1stFlrSF</th>\n",
       "      <th>2ndFlrSF</th>\n",
       "      <th>LowQualFinSF</th>\n",
       "      <th>GrLivArea</th>\n",
       "      <th>BsmtFullBath</th>\n",
       "      <th>BsmtHalfBath</th>\n",
       "      <th>FullBath</th>\n",
       "      <th>HalfBath</th>\n",
       "      <th>BedroomAbvGr</th>\n",
       "      <th>KitchenAbvGr</th>\n",
       "      <th>KitchenQual</th>\n",
       "      <th>TotRmsAbvGrd</th>\n",
       "      <th>Functional</th>\n",
       "      <th>Fireplaces</th>\n",
       "      <th>FireplaceQu</th>\n",
       "      <th>GarageType</th>\n",
       "      <th>GarageYrBlt</th>\n",
       "      <th>GarageFinish</th>\n",
       "      <th>GarageArea</th>\n",
       "      <th>GarageQual</th>\n",
       "      <th>PavedDrive</th>\n",
       "      <th>MiscVal</th>\n",
       "      <th>MoSold</th>\n",
       "      <th>YrSold</th>\n",
       "      <th>SaleType</th>\n",
       "      <th>SaleCondition</th>\n",
       "      <th>SalePrice</th>\n",
       "      <th>TotalPorchSqft</th>\n",
       "    </tr>\n",
       "    <tr>\n",
       "      <th>Id</th>\n",
       "      <th></th>\n",
       "      <th></th>\n",
       "      <th></th>\n",
       "      <th></th>\n",
       "      <th></th>\n",
       "      <th></th>\n",
       "      <th></th>\n",
       "      <th></th>\n",
       "      <th></th>\n",
       "      <th></th>\n",
       "      <th></th>\n",
       "      <th></th>\n",
       "      <th></th>\n",
       "      <th></th>\n",
       "      <th></th>\n",
       "      <th></th>\n",
       "      <th></th>\n",
       "      <th></th>\n",
       "      <th></th>\n",
       "      <th></th>\n",
       "      <th></th>\n",
       "      <th></th>\n",
       "      <th></th>\n",
       "      <th></th>\n",
       "      <th></th>\n",
       "      <th></th>\n",
       "      <th></th>\n",
       "      <th></th>\n",
       "      <th></th>\n",
       "      <th></th>\n",
       "      <th></th>\n",
       "      <th></th>\n",
       "      <th></th>\n",
       "      <th></th>\n",
       "      <th></th>\n",
       "      <th></th>\n",
       "      <th></th>\n",
       "      <th></th>\n",
       "      <th></th>\n",
       "      <th></th>\n",
       "      <th></th>\n",
       "      <th></th>\n",
       "      <th></th>\n",
       "      <th></th>\n",
       "      <th></th>\n",
       "      <th></th>\n",
       "      <th></th>\n",
       "      <th></th>\n",
       "      <th></th>\n",
       "      <th></th>\n",
       "      <th></th>\n",
       "      <th></th>\n",
       "      <th></th>\n",
       "      <th></th>\n",
       "      <th></th>\n",
       "      <th></th>\n",
       "      <th></th>\n",
       "      <th></th>\n",
       "      <th></th>\n",
       "      <th></th>\n",
       "      <th></th>\n",
       "      <th></th>\n",
       "      <th></th>\n",
       "      <th></th>\n",
       "      <th></th>\n",
       "      <th></th>\n",
       "      <th></th>\n",
       "    </tr>\n",
       "  </thead>\n",
       "  <tbody>\n",
       "    <tr>\n",
       "      <th>1</th>\n",
       "      <td>60</td>\n",
       "      <td>RL</td>\n",
       "      <td>65.000000</td>\n",
       "      <td>8450</td>\n",
       "      <td>Pave</td>\n",
       "      <td>0</td>\n",
       "      <td>Reg</td>\n",
       "      <td>Lvl</td>\n",
       "      <td>AllPub</td>\n",
       "      <td>Gtl</td>\n",
       "      <td>CollgCr</td>\n",
       "      <td>Norm</td>\n",
       "      <td>Norm</td>\n",
       "      <td>1Fam</td>\n",
       "      <td>2Story</td>\n",
       "      <td>7</td>\n",
       "      <td>5</td>\n",
       "      <td>2003</td>\n",
       "      <td>2003</td>\n",
       "      <td>Gable</td>\n",
       "      <td>CompShg</td>\n",
       "      <td>VinylSd</td>\n",
       "      <td>VinylSd</td>\n",
       "      <td>BrkFace</td>\n",
       "      <td>196.0</td>\n",
       "      <td>3</td>\n",
       "      <td>2</td>\n",
       "      <td>PConc</td>\n",
       "      <td>4</td>\n",
       "      <td>3</td>\n",
       "      <td>1</td>\n",
       "      <td>6</td>\n",
       "      <td>1</td>\n",
       "      <td>150</td>\n",
       "      <td>856</td>\n",
       "      <td>GasA</td>\n",
       "      <td>5</td>\n",
       "      <td>Y</td>\n",
       "      <td>SBrkr</td>\n",
       "      <td>856</td>\n",
       "      <td>854</td>\n",
       "      <td>0</td>\n",
       "      <td>1710</td>\n",
       "      <td>1</td>\n",
       "      <td>0</td>\n",
       "      <td>2</td>\n",
       "      <td>1</td>\n",
       "      <td>3</td>\n",
       "      <td>1</td>\n",
       "      <td>4</td>\n",
       "      <td>8</td>\n",
       "      <td>Typ</td>\n",
       "      <td>0</td>\n",
       "      <td>5</td>\n",
       "      <td>Attchd</td>\n",
       "      <td>2003.0</td>\n",
       "      <td>2</td>\n",
       "      <td>548</td>\n",
       "      <td>3</td>\n",
       "      <td>Y</td>\n",
       "      <td>0</td>\n",
       "      <td>2</td>\n",
       "      <td>2008</td>\n",
       "      <td>WD</td>\n",
       "      <td>Normal</td>\n",
       "      <td>208500</td>\n",
       "      <td>61</td>\n",
       "    </tr>\n",
       "    <tr>\n",
       "      <th>2</th>\n",
       "      <td>20</td>\n",
       "      <td>RL</td>\n",
       "      <td>80.000000</td>\n",
       "      <td>9600</td>\n",
       "      <td>Pave</td>\n",
       "      <td>0</td>\n",
       "      <td>Reg</td>\n",
       "      <td>Lvl</td>\n",
       "      <td>AllPub</td>\n",
       "      <td>Gtl</td>\n",
       "      <td>Veenker</td>\n",
       "      <td>Feedr</td>\n",
       "      <td>Norm</td>\n",
       "      <td>1Fam</td>\n",
       "      <td>1Story</td>\n",
       "      <td>6</td>\n",
       "      <td>8</td>\n",
       "      <td>1976</td>\n",
       "      <td>1976</td>\n",
       "      <td>Gable</td>\n",
       "      <td>CompShg</td>\n",
       "      <td>MetalSd</td>\n",
       "      <td>MetalSd</td>\n",
       "      <td>None</td>\n",
       "      <td>0.0</td>\n",
       "      <td>2</td>\n",
       "      <td>2</td>\n",
       "      <td>CBlock</td>\n",
       "      <td>4</td>\n",
       "      <td>3</td>\n",
       "      <td>4</td>\n",
       "      <td>5</td>\n",
       "      <td>1</td>\n",
       "      <td>284</td>\n",
       "      <td>1262</td>\n",
       "      <td>GasA</td>\n",
       "      <td>5</td>\n",
       "      <td>Y</td>\n",
       "      <td>SBrkr</td>\n",
       "      <td>1262</td>\n",
       "      <td>0</td>\n",
       "      <td>0</td>\n",
       "      <td>1262</td>\n",
       "      <td>0</td>\n",
       "      <td>1</td>\n",
       "      <td>2</td>\n",
       "      <td>0</td>\n",
       "      <td>3</td>\n",
       "      <td>1</td>\n",
       "      <td>3</td>\n",
       "      <td>6</td>\n",
       "      <td>Typ</td>\n",
       "      <td>1</td>\n",
       "      <td>3</td>\n",
       "      <td>Attchd</td>\n",
       "      <td>1976.0</td>\n",
       "      <td>2</td>\n",
       "      <td>460</td>\n",
       "      <td>3</td>\n",
       "      <td>Y</td>\n",
       "      <td>0</td>\n",
       "      <td>5</td>\n",
       "      <td>2007</td>\n",
       "      <td>WD</td>\n",
       "      <td>Normal</td>\n",
       "      <td>181500</td>\n",
       "      <td>298</td>\n",
       "    </tr>\n",
       "    <tr>\n",
       "      <th>3</th>\n",
       "      <td>60</td>\n",
       "      <td>RL</td>\n",
       "      <td>68.000000</td>\n",
       "      <td>11250</td>\n",
       "      <td>Pave</td>\n",
       "      <td>0</td>\n",
       "      <td>IR1</td>\n",
       "      <td>Lvl</td>\n",
       "      <td>AllPub</td>\n",
       "      <td>Gtl</td>\n",
       "      <td>CollgCr</td>\n",
       "      <td>Norm</td>\n",
       "      <td>Norm</td>\n",
       "      <td>1Fam</td>\n",
       "      <td>2Story</td>\n",
       "      <td>7</td>\n",
       "      <td>5</td>\n",
       "      <td>2001</td>\n",
       "      <td>2002</td>\n",
       "      <td>Gable</td>\n",
       "      <td>CompShg</td>\n",
       "      <td>VinylSd</td>\n",
       "      <td>VinylSd</td>\n",
       "      <td>BrkFace</td>\n",
       "      <td>162.0</td>\n",
       "      <td>3</td>\n",
       "      <td>2</td>\n",
       "      <td>PConc</td>\n",
       "      <td>4</td>\n",
       "      <td>3</td>\n",
       "      <td>2</td>\n",
       "      <td>6</td>\n",
       "      <td>1</td>\n",
       "      <td>434</td>\n",
       "      <td>920</td>\n",
       "      <td>GasA</td>\n",
       "      <td>5</td>\n",
       "      <td>Y</td>\n",
       "      <td>SBrkr</td>\n",
       "      <td>920</td>\n",
       "      <td>866</td>\n",
       "      <td>0</td>\n",
       "      <td>1786</td>\n",
       "      <td>1</td>\n",
       "      <td>0</td>\n",
       "      <td>2</td>\n",
       "      <td>1</td>\n",
       "      <td>3</td>\n",
       "      <td>1</td>\n",
       "      <td>4</td>\n",
       "      <td>6</td>\n",
       "      <td>Typ</td>\n",
       "      <td>1</td>\n",
       "      <td>3</td>\n",
       "      <td>Attchd</td>\n",
       "      <td>2001.0</td>\n",
       "      <td>2</td>\n",
       "      <td>608</td>\n",
       "      <td>3</td>\n",
       "      <td>Y</td>\n",
       "      <td>0</td>\n",
       "      <td>9</td>\n",
       "      <td>2008</td>\n",
       "      <td>WD</td>\n",
       "      <td>Normal</td>\n",
       "      <td>223500</td>\n",
       "      <td>42</td>\n",
       "    </tr>\n",
       "    <tr>\n",
       "      <th>4</th>\n",
       "      <td>70</td>\n",
       "      <td>RL</td>\n",
       "      <td>60.000000</td>\n",
       "      <td>9550</td>\n",
       "      <td>Pave</td>\n",
       "      <td>0</td>\n",
       "      <td>IR1</td>\n",
       "      <td>Lvl</td>\n",
       "      <td>AllPub</td>\n",
       "      <td>Gtl</td>\n",
       "      <td>Crawfor</td>\n",
       "      <td>Norm</td>\n",
       "      <td>Norm</td>\n",
       "      <td>1Fam</td>\n",
       "      <td>2Story</td>\n",
       "      <td>7</td>\n",
       "      <td>5</td>\n",
       "      <td>1915</td>\n",
       "      <td>1970</td>\n",
       "      <td>Gable</td>\n",
       "      <td>CompShg</td>\n",
       "      <td>Wd Sdng</td>\n",
       "      <td>Wd Shng</td>\n",
       "      <td>None</td>\n",
       "      <td>0.0</td>\n",
       "      <td>2</td>\n",
       "      <td>2</td>\n",
       "      <td>BrkTil</td>\n",
       "      <td>3</td>\n",
       "      <td>4</td>\n",
       "      <td>1</td>\n",
       "      <td>5</td>\n",
       "      <td>1</td>\n",
       "      <td>540</td>\n",
       "      <td>756</td>\n",
       "      <td>GasA</td>\n",
       "      <td>4</td>\n",
       "      <td>Y</td>\n",
       "      <td>SBrkr</td>\n",
       "      <td>961</td>\n",
       "      <td>756</td>\n",
       "      <td>0</td>\n",
       "      <td>1717</td>\n",
       "      <td>1</td>\n",
       "      <td>0</td>\n",
       "      <td>1</td>\n",
       "      <td>0</td>\n",
       "      <td>3</td>\n",
       "      <td>1</td>\n",
       "      <td>4</td>\n",
       "      <td>7</td>\n",
       "      <td>Typ</td>\n",
       "      <td>1</td>\n",
       "      <td>4</td>\n",
       "      <td>Detchd</td>\n",
       "      <td>1998.0</td>\n",
       "      <td>1</td>\n",
       "      <td>642</td>\n",
       "      <td>3</td>\n",
       "      <td>Y</td>\n",
       "      <td>0</td>\n",
       "      <td>2</td>\n",
       "      <td>2006</td>\n",
       "      <td>WD</td>\n",
       "      <td>Abnorml</td>\n",
       "      <td>140000</td>\n",
       "      <td>307</td>\n",
       "    </tr>\n",
       "    <tr>\n",
       "      <th>5</th>\n",
       "      <td>60</td>\n",
       "      <td>RL</td>\n",
       "      <td>84.000000</td>\n",
       "      <td>14260</td>\n",
       "      <td>Pave</td>\n",
       "      <td>0</td>\n",
       "      <td>IR1</td>\n",
       "      <td>Lvl</td>\n",
       "      <td>AllPub</td>\n",
       "      <td>Gtl</td>\n",
       "      <td>NoRidge</td>\n",
       "      <td>Norm</td>\n",
       "      <td>Norm</td>\n",
       "      <td>1Fam</td>\n",
       "      <td>2Story</td>\n",
       "      <td>8</td>\n",
       "      <td>5</td>\n",
       "      <td>2000</td>\n",
       "      <td>2000</td>\n",
       "      <td>Gable</td>\n",
       "      <td>CompShg</td>\n",
       "      <td>VinylSd</td>\n",
       "      <td>VinylSd</td>\n",
       "      <td>BrkFace</td>\n",
       "      <td>350.0</td>\n",
       "      <td>3</td>\n",
       "      <td>2</td>\n",
       "      <td>PConc</td>\n",
       "      <td>4</td>\n",
       "      <td>3</td>\n",
       "      <td>3</td>\n",
       "      <td>6</td>\n",
       "      <td>1</td>\n",
       "      <td>490</td>\n",
       "      <td>1145</td>\n",
       "      <td>GasA</td>\n",
       "      <td>5</td>\n",
       "      <td>Y</td>\n",
       "      <td>SBrkr</td>\n",
       "      <td>1145</td>\n",
       "      <td>1053</td>\n",
       "      <td>0</td>\n",
       "      <td>2198</td>\n",
       "      <td>1</td>\n",
       "      <td>0</td>\n",
       "      <td>2</td>\n",
       "      <td>1</td>\n",
       "      <td>4</td>\n",
       "      <td>1</td>\n",
       "      <td>4</td>\n",
       "      <td>9</td>\n",
       "      <td>Typ</td>\n",
       "      <td>1</td>\n",
       "      <td>3</td>\n",
       "      <td>Attchd</td>\n",
       "      <td>2000.0</td>\n",
       "      <td>2</td>\n",
       "      <td>836</td>\n",
       "      <td>3</td>\n",
       "      <td>Y</td>\n",
       "      <td>0</td>\n",
       "      <td>12</td>\n",
       "      <td>2008</td>\n",
       "      <td>WD</td>\n",
       "      <td>Normal</td>\n",
       "      <td>250000</td>\n",
       "      <td>276</td>\n",
       "    </tr>\n",
       "    <tr>\n",
       "      <th>6</th>\n",
       "      <td>50</td>\n",
       "      <td>RL</td>\n",
       "      <td>85.000000</td>\n",
       "      <td>14115</td>\n",
       "      <td>Pave</td>\n",
       "      <td>0</td>\n",
       "      <td>IR1</td>\n",
       "      <td>Lvl</td>\n",
       "      <td>AllPub</td>\n",
       "      <td>Gtl</td>\n",
       "      <td>Mitchel</td>\n",
       "      <td>Norm</td>\n",
       "      <td>Norm</td>\n",
       "      <td>1Fam</td>\n",
       "      <td>1.5Fin</td>\n",
       "      <td>5</td>\n",
       "      <td>5</td>\n",
       "      <td>1993</td>\n",
       "      <td>1995</td>\n",
       "      <td>Gable</td>\n",
       "      <td>CompShg</td>\n",
       "      <td>VinylSd</td>\n",
       "      <td>VinylSd</td>\n",
       "      <td>None</td>\n",
       "      <td>0.0</td>\n",
       "      <td>2</td>\n",
       "      <td>2</td>\n",
       "      <td>Wood</td>\n",
       "      <td>4</td>\n",
       "      <td>3</td>\n",
       "      <td>1</td>\n",
       "      <td>6</td>\n",
       "      <td>1</td>\n",
       "      <td>64</td>\n",
       "      <td>796</td>\n",
       "      <td>GasA</td>\n",
       "      <td>5</td>\n",
       "      <td>Y</td>\n",
       "      <td>SBrkr</td>\n",
       "      <td>796</td>\n",
       "      <td>566</td>\n",
       "      <td>0</td>\n",
       "      <td>1362</td>\n",
       "      <td>1</td>\n",
       "      <td>0</td>\n",
       "      <td>1</td>\n",
       "      <td>1</td>\n",
       "      <td>1</td>\n",
       "      <td>1</td>\n",
       "      <td>3</td>\n",
       "      <td>5</td>\n",
       "      <td>Typ</td>\n",
       "      <td>0</td>\n",
       "      <td>5</td>\n",
       "      <td>Attchd</td>\n",
       "      <td>1993.0</td>\n",
       "      <td>1</td>\n",
       "      <td>480</td>\n",
       "      <td>3</td>\n",
       "      <td>Y</td>\n",
       "      <td>700</td>\n",
       "      <td>10</td>\n",
       "      <td>2009</td>\n",
       "      <td>WD</td>\n",
       "      <td>Normal</td>\n",
       "      <td>143000</td>\n",
       "      <td>390</td>\n",
       "    </tr>\n",
       "    <tr>\n",
       "      <th>7</th>\n",
       "      <td>20</td>\n",
       "      <td>RL</td>\n",
       "      <td>75.000000</td>\n",
       "      <td>10084</td>\n",
       "      <td>Pave</td>\n",
       "      <td>0</td>\n",
       "      <td>Reg</td>\n",
       "      <td>Lvl</td>\n",
       "      <td>AllPub</td>\n",
       "      <td>Gtl</td>\n",
       "      <td>Somerst</td>\n",
       "      <td>Norm</td>\n",
       "      <td>Norm</td>\n",
       "      <td>1Fam</td>\n",
       "      <td>1Story</td>\n",
       "      <td>8</td>\n",
       "      <td>5</td>\n",
       "      <td>2004</td>\n",
       "      <td>2005</td>\n",
       "      <td>Gable</td>\n",
       "      <td>CompShg</td>\n",
       "      <td>VinylSd</td>\n",
       "      <td>VinylSd</td>\n",
       "      <td>Stone</td>\n",
       "      <td>186.0</td>\n",
       "      <td>3</td>\n",
       "      <td>2</td>\n",
       "      <td>PConc</td>\n",
       "      <td>5</td>\n",
       "      <td>3</td>\n",
       "      <td>3</td>\n",
       "      <td>6</td>\n",
       "      <td>1</td>\n",
       "      <td>317</td>\n",
       "      <td>1686</td>\n",
       "      <td>GasA</td>\n",
       "      <td>5</td>\n",
       "      <td>Y</td>\n",
       "      <td>SBrkr</td>\n",
       "      <td>1694</td>\n",
       "      <td>0</td>\n",
       "      <td>0</td>\n",
       "      <td>1694</td>\n",
       "      <td>1</td>\n",
       "      <td>0</td>\n",
       "      <td>2</td>\n",
       "      <td>0</td>\n",
       "      <td>3</td>\n",
       "      <td>1</td>\n",
       "      <td>4</td>\n",
       "      <td>7</td>\n",
       "      <td>Typ</td>\n",
       "      <td>1</td>\n",
       "      <td>4</td>\n",
       "      <td>Attchd</td>\n",
       "      <td>2004.0</td>\n",
       "      <td>2</td>\n",
       "      <td>636</td>\n",
       "      <td>3</td>\n",
       "      <td>Y</td>\n",
       "      <td>0</td>\n",
       "      <td>8</td>\n",
       "      <td>2007</td>\n",
       "      <td>WD</td>\n",
       "      <td>Normal</td>\n",
       "      <td>307000</td>\n",
       "      <td>312</td>\n",
       "    </tr>\n",
       "    <tr>\n",
       "      <th>8</th>\n",
       "      <td>60</td>\n",
       "      <td>RL</td>\n",
       "      <td>84.039801</td>\n",
       "      <td>10382</td>\n",
       "      <td>Pave</td>\n",
       "      <td>0</td>\n",
       "      <td>IR1</td>\n",
       "      <td>Lvl</td>\n",
       "      <td>AllPub</td>\n",
       "      <td>Gtl</td>\n",
       "      <td>NWAmes</td>\n",
       "      <td>PosN</td>\n",
       "      <td>Norm</td>\n",
       "      <td>1Fam</td>\n",
       "      <td>2Story</td>\n",
       "      <td>7</td>\n",
       "      <td>6</td>\n",
       "      <td>1973</td>\n",
       "      <td>1973</td>\n",
       "      <td>Gable</td>\n",
       "      <td>CompShg</td>\n",
       "      <td>HdBoard</td>\n",
       "      <td>HdBoard</td>\n",
       "      <td>Stone</td>\n",
       "      <td>240.0</td>\n",
       "      <td>2</td>\n",
       "      <td>2</td>\n",
       "      <td>CBlock</td>\n",
       "      <td>4</td>\n",
       "      <td>3</td>\n",
       "      <td>2</td>\n",
       "      <td>5</td>\n",
       "      <td>4</td>\n",
       "      <td>216</td>\n",
       "      <td>1107</td>\n",
       "      <td>GasA</td>\n",
       "      <td>5</td>\n",
       "      <td>Y</td>\n",
       "      <td>SBrkr</td>\n",
       "      <td>1107</td>\n",
       "      <td>983</td>\n",
       "      <td>0</td>\n",
       "      <td>2090</td>\n",
       "      <td>1</td>\n",
       "      <td>0</td>\n",
       "      <td>2</td>\n",
       "      <td>1</td>\n",
       "      <td>3</td>\n",
       "      <td>1</td>\n",
       "      <td>3</td>\n",
       "      <td>7</td>\n",
       "      <td>Typ</td>\n",
       "      <td>2</td>\n",
       "      <td>3</td>\n",
       "      <td>Attchd</td>\n",
       "      <td>1973.0</td>\n",
       "      <td>2</td>\n",
       "      <td>484</td>\n",
       "      <td>3</td>\n",
       "      <td>Y</td>\n",
       "      <td>350</td>\n",
       "      <td>11</td>\n",
       "      <td>2009</td>\n",
       "      <td>WD</td>\n",
       "      <td>Normal</td>\n",
       "      <td>200000</td>\n",
       "      <td>667</td>\n",
       "    </tr>\n",
       "    <tr>\n",
       "      <th>9</th>\n",
       "      <td>50</td>\n",
       "      <td>RM</td>\n",
       "      <td>51.000000</td>\n",
       "      <td>6120</td>\n",
       "      <td>Pave</td>\n",
       "      <td>0</td>\n",
       "      <td>Reg</td>\n",
       "      <td>Lvl</td>\n",
       "      <td>AllPub</td>\n",
       "      <td>Gtl</td>\n",
       "      <td>OldTown</td>\n",
       "      <td>Artery</td>\n",
       "      <td>Norm</td>\n",
       "      <td>1Fam</td>\n",
       "      <td>1.5Fin</td>\n",
       "      <td>7</td>\n",
       "      <td>5</td>\n",
       "      <td>1931</td>\n",
       "      <td>1950</td>\n",
       "      <td>Gable</td>\n",
       "      <td>CompShg</td>\n",
       "      <td>BrkFace</td>\n",
       "      <td>Wd Shng</td>\n",
       "      <td>None</td>\n",
       "      <td>0.0</td>\n",
       "      <td>2</td>\n",
       "      <td>2</td>\n",
       "      <td>BrkTil</td>\n",
       "      <td>3</td>\n",
       "      <td>3</td>\n",
       "      <td>1</td>\n",
       "      <td>1</td>\n",
       "      <td>1</td>\n",
       "      <td>952</td>\n",
       "      <td>952</td>\n",
       "      <td>GasA</td>\n",
       "      <td>4</td>\n",
       "      <td>Y</td>\n",
       "      <td>FuseF</td>\n",
       "      <td>1022</td>\n",
       "      <td>752</td>\n",
       "      <td>0</td>\n",
       "      <td>1774</td>\n",
       "      <td>0</td>\n",
       "      <td>0</td>\n",
       "      <td>2</td>\n",
       "      <td>0</td>\n",
       "      <td>2</td>\n",
       "      <td>2</td>\n",
       "      <td>3</td>\n",
       "      <td>8</td>\n",
       "      <td>Min1</td>\n",
       "      <td>2</td>\n",
       "      <td>3</td>\n",
       "      <td>Detchd</td>\n",
       "      <td>1931.0</td>\n",
       "      <td>1</td>\n",
       "      <td>468</td>\n",
       "      <td>2</td>\n",
       "      <td>Y</td>\n",
       "      <td>0</td>\n",
       "      <td>4</td>\n",
       "      <td>2008</td>\n",
       "      <td>WD</td>\n",
       "      <td>Abnorml</td>\n",
       "      <td>129900</td>\n",
       "      <td>295</td>\n",
       "    </tr>\n",
       "    <tr>\n",
       "      <th>10</th>\n",
       "      <td>190</td>\n",
       "      <td>RL</td>\n",
       "      <td>50.000000</td>\n",
       "      <td>7420</td>\n",
       "      <td>Pave</td>\n",
       "      <td>0</td>\n",
       "      <td>Reg</td>\n",
       "      <td>Lvl</td>\n",
       "      <td>AllPub</td>\n",
       "      <td>Gtl</td>\n",
       "      <td>BrkSide</td>\n",
       "      <td>Artery</td>\n",
       "      <td>Artery</td>\n",
       "      <td>2fmCon</td>\n",
       "      <td>1.5Unf</td>\n",
       "      <td>5</td>\n",
       "      <td>6</td>\n",
       "      <td>1939</td>\n",
       "      <td>1950</td>\n",
       "      <td>Gable</td>\n",
       "      <td>CompShg</td>\n",
       "      <td>MetalSd</td>\n",
       "      <td>MetalSd</td>\n",
       "      <td>None</td>\n",
       "      <td>0.0</td>\n",
       "      <td>2</td>\n",
       "      <td>2</td>\n",
       "      <td>BrkTil</td>\n",
       "      <td>3</td>\n",
       "      <td>3</td>\n",
       "      <td>1</td>\n",
       "      <td>6</td>\n",
       "      <td>1</td>\n",
       "      <td>140</td>\n",
       "      <td>991</td>\n",
       "      <td>GasA</td>\n",
       "      <td>5</td>\n",
       "      <td>Y</td>\n",
       "      <td>SBrkr</td>\n",
       "      <td>1077</td>\n",
       "      <td>0</td>\n",
       "      <td>0</td>\n",
       "      <td>1077</td>\n",
       "      <td>1</td>\n",
       "      <td>0</td>\n",
       "      <td>1</td>\n",
       "      <td>0</td>\n",
       "      <td>2</td>\n",
       "      <td>2</td>\n",
       "      <td>3</td>\n",
       "      <td>5</td>\n",
       "      <td>Typ</td>\n",
       "      <td>2</td>\n",
       "      <td>3</td>\n",
       "      <td>Attchd</td>\n",
       "      <td>1939.0</td>\n",
       "      <td>2</td>\n",
       "      <td>205</td>\n",
       "      <td>4</td>\n",
       "      <td>Y</td>\n",
       "      <td>0</td>\n",
       "      <td>1</td>\n",
       "      <td>2008</td>\n",
       "      <td>WD</td>\n",
       "      <td>Normal</td>\n",
       "      <td>118000</td>\n",
       "      <td>4</td>\n",
       "    </tr>\n",
       "  </tbody>\n",
       "</table>\n",
       "</div>"
      ],
      "text/plain": [
       "   MSSubClass MSZoning  LotFrontage  LotArea Street  Alley LotShape  \\\n",
       "Id                                                                    \n",
       "1          60       RL    65.000000     8450   Pave      0      Reg   \n",
       "2          20       RL    80.000000     9600   Pave      0      Reg   \n",
       "3          60       RL    68.000000    11250   Pave      0      IR1   \n",
       "4          70       RL    60.000000     9550   Pave      0      IR1   \n",
       "5          60       RL    84.000000    14260   Pave      0      IR1   \n",
       "6          50       RL    85.000000    14115   Pave      0      IR1   \n",
       "7          20       RL    75.000000    10084   Pave      0      Reg   \n",
       "8          60       RL    84.039801    10382   Pave      0      IR1   \n",
       "9          50       RM    51.000000     6120   Pave      0      Reg   \n",
       "10        190       RL    50.000000     7420   Pave      0      Reg   \n",
       "\n",
       "   LandContour Utilities LandSlope Neighborhood Condition1 Condition2  \\\n",
       "Id                                                                      \n",
       "1          Lvl    AllPub       Gtl      CollgCr       Norm       Norm   \n",
       "2          Lvl    AllPub       Gtl      Veenker      Feedr       Norm   \n",
       "3          Lvl    AllPub       Gtl      CollgCr       Norm       Norm   \n",
       "4          Lvl    AllPub       Gtl      Crawfor       Norm       Norm   \n",
       "5          Lvl    AllPub       Gtl      NoRidge       Norm       Norm   \n",
       "6          Lvl    AllPub       Gtl      Mitchel       Norm       Norm   \n",
       "7          Lvl    AllPub       Gtl      Somerst       Norm       Norm   \n",
       "8          Lvl    AllPub       Gtl       NWAmes       PosN       Norm   \n",
       "9          Lvl    AllPub       Gtl      OldTown     Artery       Norm   \n",
       "10         Lvl    AllPub       Gtl      BrkSide     Artery     Artery   \n",
       "\n",
       "   BldgType HouseStyle  OverallQual  OverallCond  YearBuilt  YearRemodAdd  \\\n",
       "Id                                                                          \n",
       "1      1Fam     2Story            7            5       2003          2003   \n",
       "2      1Fam     1Story            6            8       1976          1976   \n",
       "3      1Fam     2Story            7            5       2001          2002   \n",
       "4      1Fam     2Story            7            5       1915          1970   \n",
       "5      1Fam     2Story            8            5       2000          2000   \n",
       "6      1Fam     1.5Fin            5            5       1993          1995   \n",
       "7      1Fam     1Story            8            5       2004          2005   \n",
       "8      1Fam     2Story            7            6       1973          1973   \n",
       "9      1Fam     1.5Fin            7            5       1931          1950   \n",
       "10   2fmCon     1.5Unf            5            6       1939          1950   \n",
       "\n",
       "   RoofStyle RoofMatl Exterior1st Exterior2nd MasVnrType  MasVnrArea  \\\n",
       "Id                                                                     \n",
       "1      Gable  CompShg     VinylSd     VinylSd    BrkFace       196.0   \n",
       "2      Gable  CompShg     MetalSd     MetalSd       None         0.0   \n",
       "3      Gable  CompShg     VinylSd     VinylSd    BrkFace       162.0   \n",
       "4      Gable  CompShg     Wd Sdng     Wd Shng       None         0.0   \n",
       "5      Gable  CompShg     VinylSd     VinylSd    BrkFace       350.0   \n",
       "6      Gable  CompShg     VinylSd     VinylSd       None         0.0   \n",
       "7      Gable  CompShg     VinylSd     VinylSd      Stone       186.0   \n",
       "8      Gable  CompShg     HdBoard     HdBoard      Stone       240.0   \n",
       "9      Gable  CompShg     BrkFace     Wd Shng       None         0.0   \n",
       "10     Gable  CompShg     MetalSd     MetalSd       None         0.0   \n",
       "\n",
       "    ExterQual  ExterCond Foundation  BsmtQual  BsmtCond  BsmtExposure  \\\n",
       "Id                                                                      \n",
       "1           3          2      PConc         4         3             1   \n",
       "2           2          2     CBlock         4         3             4   \n",
       "3           3          2      PConc         4         3             2   \n",
       "4           2          2     BrkTil         3         4             1   \n",
       "5           3          2      PConc         4         3             3   \n",
       "6           2          2       Wood         4         3             1   \n",
       "7           3          2      PConc         5         3             3   \n",
       "8           2          2     CBlock         4         3             2   \n",
       "9           2          2     BrkTil         3         3             1   \n",
       "10          2          2     BrkTil         3         3             1   \n",
       "\n",
       "    BsmtFinType1  BsmtFinType2  BsmtUnfSF  TotalBsmtSF Heating  HeatingQC  \\\n",
       "Id                                                                          \n",
       "1              6             1        150          856    GasA          5   \n",
       "2              5             1        284         1262    GasA          5   \n",
       "3              6             1        434          920    GasA          5   \n",
       "4              5             1        540          756    GasA          4   \n",
       "5              6             1        490         1145    GasA          5   \n",
       "6              6             1         64          796    GasA          5   \n",
       "7              6             1        317         1686    GasA          5   \n",
       "8              5             4        216         1107    GasA          5   \n",
       "9              1             1        952          952    GasA          4   \n",
       "10             6             1        140          991    GasA          5   \n",
       "\n",
       "   CentralAir Electrical  1stFlrSF  2ndFlrSF  LowQualFinSF  GrLivArea  \\\n",
       "Id                                                                      \n",
       "1           Y      SBrkr       856       854             0       1710   \n",
       "2           Y      SBrkr      1262         0             0       1262   \n",
       "3           Y      SBrkr       920       866             0       1786   \n",
       "4           Y      SBrkr       961       756             0       1717   \n",
       "5           Y      SBrkr      1145      1053             0       2198   \n",
       "6           Y      SBrkr       796       566             0       1362   \n",
       "7           Y      SBrkr      1694         0             0       1694   \n",
       "8           Y      SBrkr      1107       983             0       2090   \n",
       "9           Y      FuseF      1022       752             0       1774   \n",
       "10          Y      SBrkr      1077         0             0       1077   \n",
       "\n",
       "    BsmtFullBath  BsmtHalfBath  FullBath  HalfBath  BedroomAbvGr  \\\n",
       "Id                                                                 \n",
       "1              1             0         2         1             3   \n",
       "2              0             1         2         0             3   \n",
       "3              1             0         2         1             3   \n",
       "4              1             0         1         0             3   \n",
       "5              1             0         2         1             4   \n",
       "6              1             0         1         1             1   \n",
       "7              1             0         2         0             3   \n",
       "8              1             0         2         1             3   \n",
       "9              0             0         2         0             2   \n",
       "10             1             0         1         0             2   \n",
       "\n",
       "    KitchenAbvGr  KitchenQual  TotRmsAbvGrd Functional  Fireplaces  \\\n",
       "Id                                                                   \n",
       "1              1            4             8        Typ           0   \n",
       "2              1            3             6        Typ           1   \n",
       "3              1            4             6        Typ           1   \n",
       "4              1            4             7        Typ           1   \n",
       "5              1            4             9        Typ           1   \n",
       "6              1            3             5        Typ           0   \n",
       "7              1            4             7        Typ           1   \n",
       "8              1            3             7        Typ           2   \n",
       "9              2            3             8       Min1           2   \n",
       "10             2            3             5        Typ           2   \n",
       "\n",
       "    FireplaceQu GarageType  GarageYrBlt  GarageFinish  GarageArea  GarageQual  \\\n",
       "Id                                                                              \n",
       "1             5     Attchd       2003.0             2         548           3   \n",
       "2             3     Attchd       1976.0             2         460           3   \n",
       "3             3     Attchd       2001.0             2         608           3   \n",
       "4             4     Detchd       1998.0             1         642           3   \n",
       "5             3     Attchd       2000.0             2         836           3   \n",
       "6             5     Attchd       1993.0             1         480           3   \n",
       "7             4     Attchd       2004.0             2         636           3   \n",
       "8             3     Attchd       1973.0             2         484           3   \n",
       "9             3     Detchd       1931.0             1         468           2   \n",
       "10            3     Attchd       1939.0             2         205           4   \n",
       "\n",
       "   PavedDrive  MiscVal  MoSold  YrSold SaleType SaleCondition  SalePrice  \\\n",
       "Id                                                                         \n",
       "1           Y        0       2    2008       WD        Normal     208500   \n",
       "2           Y        0       5    2007       WD        Normal     181500   \n",
       "3           Y        0       9    2008       WD        Normal     223500   \n",
       "4           Y        0       2    2006       WD       Abnorml     140000   \n",
       "5           Y        0      12    2008       WD        Normal     250000   \n",
       "6           Y      700      10    2009       WD        Normal     143000   \n",
       "7           Y        0       8    2007       WD        Normal     307000   \n",
       "8           Y      350      11    2009       WD        Normal     200000   \n",
       "9           Y        0       4    2008       WD       Abnorml     129900   \n",
       "10          Y        0       1    2008       WD        Normal     118000   \n",
       "\n",
       "    TotalPorchSqft  \n",
       "Id                  \n",
       "1               61  \n",
       "2              298  \n",
       "3               42  \n",
       "4              307  \n",
       "5              276  \n",
       "6              390  \n",
       "7              312  \n",
       "8              667  \n",
       "9              295  \n",
       "10               4  "
      ]
     },
     "execution_count": 139,
     "metadata": {},
     "output_type": "execute_result"
    }
   ],
   "source": [
    "import pandas as pd\n",
    "import numpy as np\n",
    "import matplotlib.pyplot as plt\n",
    "from sklearn.model_selection import train_test_split\n",
    "from sklearn.model_selection import GridSearchCV\n",
    "import seaborn as sns\n",
    "from scipy import stats\n",
    "\n",
    "pd.set_option('display.max_columns', None, \"display.max_rows\", None)\n",
    "\n",
    "# Read in csv\n",
    "houses = pd.read_csv(\"../data/train.csv\", index_col = \"Id\")\n",
    "\n",
    "# Adjust MSSubClass to string\n",
    "houses[\"MSSubClass\"] = houses[\"MSSubClass\"].astype('str')\n",
    "\n",
    "# Convert Alley to Factor\n",
    "houses[\"Alley\"] = houses[\"Alley\"].map(lambda x: 1 if x is True else 0)\n",
    "\n",
    "# Impute missing GarageYrBlt from year house built\n",
    "houses.loc[pd.isna(houses.GarageYrBlt), \"GarageYrBlt\"] = houses.loc[pd.isna(houses.GarageYrBlt), \"YearBuilt\"]\n",
    "\n",
    "# Bin LotConfig to impute missing LotFrontage\n",
    "mean_frontage = dict(houses.groupby(\"LotConfig\")[\"LotFrontage\"].mean())\n",
    "mean_frontage\n",
    "houses.loc[pd.isna(houses[\"LotFrontage\"]), \"LotFrontage\"] = houses.loc[pd.isna(houses[\"LotFrontage\"]), \"LotConfig\"].replace(mean_frontage)\n",
    "houses = houses.drop(\"LotConfig\", axis = 1)\n",
    "\n",
    "# Convert Fireplace Quality to Scale\n",
    "houses[\"FireplaceQu\"] = houses[\"FireplaceQu\"].apply(lambda x: 0 if x == False else 1 if x == \"Po\" else 2 if x == \"Fa\" else 3 if x == \"TA\" else 4 if x == \"Gd\" else 5)\n",
    "\n",
    "# Convert Exterior Quality and Condition to Scale\n",
    "houses[\"ExterQual\"] = houses[\"ExterQual\"].apply(lambda x: 0 if x == \"Po\" else 1 if x == \"Fa\" else 2 if x == \"TA\" else 3 if x == \"Gd\" else 5)\n",
    "houses[\"ExterCond\"] = houses[\"ExterCond\"].apply(lambda x: 0 if x == \"Po\" else 1 if x == \"Fa\" else 2 if x == \"TA\" else 3 if x == \"Gd\" else 5)\n",
    "\n",
    "# Convert Basement Quality and Condition to Scale\n",
    "houses[\"BsmtQual\"] = houses[\"BsmtQual\"].apply(lambda x: 0 if x == False else 1 if x == \"Po\" else 2 if x == \"Fa\" else 3 if x == \"TA\" else 4 if x == \"Gd\" else 5)\n",
    "houses[\"BsmtCond\"] = houses[\"BsmtCond\"].apply(lambda x: 0 if x == False else 1 if x == \"Po\" else 2 if x == \"Fa\" else 3 if x == \"TA\" else 4 if x == \"Gd\" else 5)\n",
    "houses[\"BsmtExposure\"] = houses[\"BsmtExposure\"].apply(lambda x: 0 if x == False else 1 if x == \"No\" else 2 if x == \"Mn\" else 3 if x == \"Av\" else 4)\n",
    "houses[\"BsmtFinType1\"] = houses[\"BsmtFinType1\"].apply(lambda x: 0 if x == False else 1 if x == \"Unf\" else 2 if x == \"LwQ\" else 3 if x == \"Rec\" else 4 if x == \"BLQ\" else 5 if x == \"ALQ\" else 6)\n",
    "houses[\"BsmtFinType2\"] = houses[\"BsmtFinType2\"].apply(lambda x: 0 if x == False else 1 if x == \"Unf\" else 2 if x == \"LwQ\" else 3 if x == \"Rec\" else 4 if x == \"BLQ\" else 5 if x == \"ALQ\" else 6)\n",
    "\n",
    "# Convert Heating, Kitchen, and Garage Quality and Finish to Scale\n",
    "houses[\"HeatingQC\"] = houses[\"HeatingQC\"].apply(lambda x: 0 if x == False else 1 if x == \"Po\" else 2 if x == \"Fa\" else 3 if x == \"TA\" else 4 if x == \"Gd\" else 5)\n",
    "houses[\"KitchenQual\"] = houses[\"KitchenQual\"].apply(lambda x: 0 if x == False else 1 if x == \"Po\" else 2 if x == \"Fa\" else 3 if x == \"TA\" else 4 if x == \"Gd\" else 5)\n",
    "houses[\"GarageQual\"] = houses[\"GarageQual\"].apply(lambda x: 0 if x == False else 1 if x == \"Po\" else 2 if x == \"Fa\" else 3 if x == \"TA\" else 4 if x == \"Gd\" else 5)\n",
    "houses[\"GarageFinish\"] = houses[\"GarageFinish\"].apply(lambda x: 0 if x == False else 1 if x == \"Unf\" else 2 if x == \"RFn\" else 3)\n",
    "\n",
    "# Feature Engineer total Porch/Deck Area\n",
    "houses[\"TotalPorchSqft\"] = houses[\"WoodDeckSF\"] + houses[\"OpenPorchSF\"] + houses[\"EnclosedPorch\"] + houses[\"3SsnPorch\"] + houses[\"ScreenPorch\"]\n",
    "\n",
    "# Drop Rows with NA (9 total) from Electrical, MasVnrType, and MasVnrArea\n",
    "houses = houses[~pd.isna(houses[\"Electrical\"])]\n",
    "houses = houses[~pd.isna(houses[\"MasVnrType\"])]\n",
    "\n",
    "# Drop Columns\n",
    "houses = houses.drop([\"MiscFeature\", \"Fence\", \"WoodDeckSF\", \"OpenPorchSF\", \"EnclosedPorch\", \"3SsnPorch\", \"ScreenPorch\", \n",
    "                      \"PoolArea\", \"PoolQC\", \"GarageCond\", \n",
    "                      \"GarageCars\", \"BsmtFinSF1\", \"BsmtFinSF2\"], axis=1)\n",
    "\n",
    "# houses.to_csv(\"houses\")\n",
    "# houses.dtypes\n",
    "# dict(houses.isna().sum())\n",
    "houses.head(10)\n",
    "# houses.shape"
   ]
  },
  {
   "cell_type": "code",
   "execution_count": 140,
   "metadata": {},
   "outputs": [],
   "source": [
    "# house_copy = houses.copy()\n",
    "# for i, x in enumerate(houses.columns):\n",
    "#     if houses.dtypes[i] != \"object\":\n",
    "#         if houses[x].skew() > pd.Series(np.log(houses[x] + 1)).skew():\n",
    "#             house_copy[x] = pd.Series(np.log(houses[x] + 1))"
   ]
  },
  {
   "cell_type": "code",
   "execution_count": 279,
   "metadata": {
    "scrolled": true
   },
   "outputs": [],
   "source": [
    "# house_copy.head()"
   ]
  },
  {
   "cell_type": "code",
   "execution_count": 67,
   "metadata": {
    "scrolled": false
   },
   "outputs": [],
   "source": [
    "# sns.heatmap(adj_houses.corr(), cmap = sns.diverging_palette(220, 10, as_cmap=True))\n",
    "# f, ax = plt.subplots(figsize=(11, 9))"
   ]
  },
  {
   "cell_type": "code",
   "execution_count": 68,
   "metadata": {},
   "outputs": [],
   "source": [
    "# np.log(houses.GarageArea.agg([\"min\", \"median\", \"mean\", \"max\", \"count\", \"std\"]))"
   ]
  },
  {
   "cell_type": "markdown",
   "metadata": {},
   "source": [
    "# Gradient Boost"
   ]
  },
  {
   "cell_type": "code",
   "execution_count": 276,
   "metadata": {},
   "outputs": [],
   "source": [
    "from sklearn.ensemble import GradientBoostingRegressor\n",
    "gbm = GradientBoostingRegressor()\n",
    "X = pd.get_dummies(houses.drop([\"SalePrice\", \"MSSubClass\"], axis=1), drop_first=True, dummy_na=True)\n",
    "y = houses['SalePrice']\n",
    "y_log = np.log(houses['SalePrice'])\n",
    "X_train, X_test, y_train, y_test = train_test_split(X, y, test_size=0.2, random_state=42)"
   ]
  },
  {
   "cell_type": "code",
   "execution_count": 277,
   "metadata": {},
   "outputs": [
    {
     "name": "stdout",
     "output_type": "stream",
     "text": [
      "The train score is:  0.9685077455862244\n",
      "The test score is:  0.925338674393356\n"
     ]
    }
   ],
   "source": [
    "gbm.set_params(verbose=0, random_state=42)\n",
    "gbm.fit(X_train, y_train)\n",
    "print(\"The train score is: \", gbm.score(X_train, y_train))\n",
    "print(\"The test score is: \", gbm.score(X_test, y_test))"
   ]
  },
  {
   "cell_type": "code",
   "execution_count": 278,
   "metadata": {
    "scrolled": true
   },
   "outputs": [
    {
     "name": "stdout",
     "output_type": "stream",
     "text": [
      "The new train score is:  0.9943519668840276\n",
      "The new test score is:  0.9282718461605783\n"
     ]
    }
   ],
   "source": [
    "gbm.set_params(learning_rate=0.1, n_estimators=500, verbose=0, loss='ls', \n",
    "               max_depth=3, max_features=None, min_impurity_decrease=0.00, random_state=42)\n",
    "gbm.fit(X_train, y_train)\n",
    "print(\"The new train score is: \", gbm.score(X_train, y_train))\n",
    "print(\"The new test score is: \", gbm.score(X_test, y_test))"
   ]
  },
  {
   "cell_type": "code",
   "execution_count": 42,
   "metadata": {},
   "outputs": [
    {
     "name": "stdout",
     "output_type": "stream",
     "text": [
      "The best train score is:  0.9787067507108126\n",
      "The best test score is:  0.8870135461482548\n"
     ]
    }
   ],
   "source": [
    "grid_para_gbm = {\n",
    "    \"n_estimators\": [100, 200, 300, 400, 500],\n",
    "    \"learning_rate\": [.0001, .001, .01, 0.1],\n",
    "    \"max_depth\": list(range(1, 10)),\n",
    "    \"max_features\": [None, 1, 2, 3],\n",
    "    \"random_state\": [42]}\n",
    "grid_search_gbm = GridSearchCV(gbm, grid_para_gbm, scoring='r2', cv=5, n_jobs=-1)\n",
    "grid_search_gbm.fit(X_train, y_train)\n",
    "print(\"The best train score is: \", grid_search_gbm.best_estimator_.score(X_train, y_train))\n",
    "print(\"The best test score is: \", grid_search_gbm.best_estimator_.score(X_test, y_test))"
   ]
  },
  {
   "cell_type": "code",
   "execution_count": 280,
   "metadata": {},
   "outputs": [],
   "source": [
    "# gbm.feature_importances_[gbm.feature_importances_ > 0]"
   ]
  },
  {
   "cell_type": "code",
   "execution_count": 275,
   "metadata": {},
   "outputs": [
    {
     "ename": "IndexError",
     "evalue": "boolean index did not match indexed array along dimension 0; dimension is 229 but corresponding boolean dimension is 214",
     "output_type": "error",
     "traceback": [
      "\u001b[0;31m---------------------------------------------------------------------------\u001b[0m",
      "\u001b[0;31mIndexError\u001b[0m                                Traceback (most recent call last)",
      "\u001b[0;32m<ipython-input-275-9299a2594b4f>\u001b[0m in \u001b[0;36m<module>\u001b[0;34m\u001b[0m\n\u001b[0;32m----> 1\u001b[0;31m key_features = list(zip(pd.get_dummies(houses.drop(\"SalePrice\", axis=1)).columns[gbm.feature_importances_ > 0], \n\u001b[0m\u001b[1;32m      2\u001b[0m                     gbm.feature_importances_[gbm.feature_importances_ > 0]))\n\u001b[1;32m      3\u001b[0m \u001b[0mkey_features\u001b[0m \u001b[0;34m=\u001b[0m \u001b[0mnp\u001b[0m\u001b[0;34m.\u001b[0m\u001b[0marray\u001b[0m\u001b[0;34m(\u001b[0m\u001b[0mkey_features\u001b[0m\u001b[0;34m,\u001b[0m \u001b[0mdtype\u001b[0m\u001b[0;34m=\u001b[0m\u001b[0;34m[\u001b[0m\u001b[0;34m(\u001b[0m\u001b[0;34m'feature'\u001b[0m\u001b[0;34m,\u001b[0m \u001b[0;34m'S10'\u001b[0m\u001b[0;34m)\u001b[0m\u001b[0;34m,\u001b[0m \u001b[0;34m(\u001b[0m\u001b[0;34m'importance'\u001b[0m\u001b[0;34m,\u001b[0m \u001b[0;34m'float'\u001b[0m\u001b[0;34m)\u001b[0m\u001b[0;34m]\u001b[0m\u001b[0;34m)\u001b[0m\u001b[0;34m\u001b[0m\u001b[0;34m\u001b[0m\u001b[0m\n\u001b[1;32m      4\u001b[0m \u001b[0mname\u001b[0m\u001b[0;34m,\u001b[0m \u001b[0mimportance\u001b[0m \u001b[0;34m=\u001b[0m \u001b[0mzip\u001b[0m\u001b[0;34m(\u001b[0m\u001b[0;34m*\u001b[0m\u001b[0mnp\u001b[0m\u001b[0;34m.\u001b[0m\u001b[0msort\u001b[0m\u001b[0;34m(\u001b[0m\u001b[0mkey_features\u001b[0m\u001b[0;34m,\u001b[0m \u001b[0morder\u001b[0m\u001b[0;34m=\u001b[0m\u001b[0;34m\"importance\"\u001b[0m\u001b[0;34m)\u001b[0m\u001b[0;34m)\u001b[0m\u001b[0;34m\u001b[0m\u001b[0;34m\u001b[0m\u001b[0m\n\u001b[1;32m      5\u001b[0m \u001b[0mplt\u001b[0m\u001b[0;34m.\u001b[0m\u001b[0mbarh\u001b[0m\u001b[0;34m(\u001b[0m\u001b[0mname\u001b[0m\u001b[0;34m,\u001b[0m \u001b[0mimportance\u001b[0m\u001b[0;34m)\u001b[0m\u001b[0;34m\u001b[0m\u001b[0;34m\u001b[0m\u001b[0m\n",
      "\u001b[0;32m/opt/anaconda3/lib/python3.7/site-packages/pandas/core/indexes/base.py\u001b[0m in \u001b[0;36m__getitem__\u001b[0;34m(self, key)\u001b[0m\n\u001b[1;32m   3939\u001b[0m \u001b[0;34m\u001b[0m\u001b[0m\n\u001b[1;32m   3940\u001b[0m         \u001b[0mkey\u001b[0m \u001b[0;34m=\u001b[0m \u001b[0mcom\u001b[0m\u001b[0;34m.\u001b[0m\u001b[0mvalues_from_object\u001b[0m\u001b[0;34m(\u001b[0m\u001b[0mkey\u001b[0m\u001b[0;34m)\u001b[0m\u001b[0;34m\u001b[0m\u001b[0;34m\u001b[0m\u001b[0m\n\u001b[0;32m-> 3941\u001b[0;31m         \u001b[0mresult\u001b[0m \u001b[0;34m=\u001b[0m \u001b[0mgetitem\u001b[0m\u001b[0;34m(\u001b[0m\u001b[0mkey\u001b[0m\u001b[0;34m)\u001b[0m\u001b[0;34m\u001b[0m\u001b[0;34m\u001b[0m\u001b[0m\n\u001b[0m\u001b[1;32m   3942\u001b[0m         \u001b[0;32mif\u001b[0m \u001b[0;32mnot\u001b[0m \u001b[0mis_scalar\u001b[0m\u001b[0;34m(\u001b[0m\u001b[0mresult\u001b[0m\u001b[0;34m)\u001b[0m\u001b[0;34m:\u001b[0m\u001b[0;34m\u001b[0m\u001b[0;34m\u001b[0m\u001b[0m\n\u001b[1;32m   3943\u001b[0m             \u001b[0;32mif\u001b[0m \u001b[0mnp\u001b[0m\u001b[0;34m.\u001b[0m\u001b[0mndim\u001b[0m\u001b[0;34m(\u001b[0m\u001b[0mresult\u001b[0m\u001b[0;34m)\u001b[0m \u001b[0;34m>\u001b[0m \u001b[0;36m1\u001b[0m\u001b[0;34m:\u001b[0m\u001b[0;34m\u001b[0m\u001b[0;34m\u001b[0m\u001b[0m\n",
      "\u001b[0;31mIndexError\u001b[0m: boolean index did not match indexed array along dimension 0; dimension is 229 but corresponding boolean dimension is 214"
     ]
    }
   ],
   "source": [
    "key_features = list(zip(pd.get_dummies(houses.drop(\"SalePrice\", axis=1)).columns[gbm.feature_importances_ > 0], \n",
    "                    gbm.feature_importances_[gbm.feature_importances_ > 0]))\n",
    "key_features = np.array(key_features, dtype=[('feature', 'S10'), ('importance', 'float')])\n",
    "name, importance = zip(*np.sort(key_features, order=\"importance\"))\n",
    "plt.barh(name, importance)"
   ]
  },
  {
   "cell_type": "markdown",
   "metadata": {},
   "source": [
    "# Random Forest"
   ]
  },
  {
   "cell_type": "code",
   "execution_count": 268,
   "metadata": {},
   "outputs": [],
   "source": [
    "from sklearn import ensemble\n",
    "randomForest = ensemble.RandomForestRegressor()"
   ]
  },
  {
   "cell_type": "code",
   "execution_count": 199,
   "metadata": {},
   "outputs": [
    {
     "name": "stdout",
     "output_type": "stream",
     "text": [
      "The train score using selected columns is:  0.9701579784897983\n",
      "The test score using selected columns is:  0.9009638428032133 \n",
      "\n",
      "The train score using selected columns and log sale price is:  0.9705828627376659\n",
      "The test score using selected columns and log sale price is:  0.8680869061979787 \n",
      "\n",
      "The train score using all columns is:  0.9748296322810135\n",
      "The test score using all columns is:  0.9183067494329159 \n",
      "\n",
      "The train score using all columns and log sale price is:  0.9753249539422261\n",
      "The test score using all columns and log sale price is:  0.8898688928564761\n"
     ]
    }
   ],
   "source": [
    "randomForest.set_params(random_state=42, n_estimators=500, max_features=100, max_depth=10)\n",
    "\n",
    "# Use selected columns\n",
    "use_columns = [\"MSSubClass\", \"MSZoning\", \"LotFrontage\", \"Alley\", \"Utilities\", \"Neighborhood\", \"Condition1\", \n",
    "              \"BldgType\", \"OverallQual\", \"OverallCond\", \"YearBuilt\", \"YearRemodAdd\", \"Exterior1st\", \"ExterCond\",\n",
    "              \"BsmtExposure\", \"TotalBsmtSF\", \"Heating\", \"HeatingQC\", \"CentralAir\", \"1stFlrSF\", \"2ndFlrSF\",\n",
    "               \"Fireplaces\", \"KitchenAbvGr\", \"KitchenQual\", \"FireplaceQu\", \"GarageType\", \"GarageArea\", \"GarageQual\", \n",
    "              \"SaleType\", \"SaleCondition\", \"TotalPorchSqft\"]\n",
    "X = pd.get_dummies(houses[use_columns], drop_first=True, dummy_na=True)\n",
    "y = houses['SalePrice']\n",
    "X_train, X_test, y_train, y_test = train_test_split(X, y, test_size=0.2, random_state=42)\n",
    "randomForest.fit(X_train, y_train) \n",
    "print(\"The train score using selected columns is: \", randomForest.score(X_train, y_train)) \n",
    "print(\"The test score using selected columns is: \", randomForest.score(X_test, y_test), \"\\n\") \n",
    "\n",
    "# Selected columns with log house price\n",
    "y2 = np.log(houses['SalePrice'])\n",
    "X_train, X_test, y_train, y_test = train_test_split(X, y2, test_size=0.2, random_state=42)\n",
    "randomForest.fit(X_train, y_train)\n",
    "print(\"The train score using selected columns and log sale price is: \", randomForest.score(X_train, y_train)) \n",
    "print(\"The test score using selected columns and log sale price is: \", randomForest.score(X_test, y_test), \"\\n\") \n",
    "\n",
    "# use all columns\n",
    "X = pd.get_dummies(houses.drop([\"SalePrice\"], axis=1), drop_first=True, dummy_na=True)\n",
    "X_train, X_test, y_train, y_test = train_test_split(X, y, test_size=0.2, random_state=42)\n",
    "randomForest.fit(X_train, y_train)\n",
    "print(\"The train score using all columns is: \", randomForest.score(X_train, y_train)) \n",
    "print(\"The test score using all columns is: \", randomForest.score(X_test, y_test), \"\\n\") \n",
    "\n",
    "# All columns and with log price\n",
    "X_train, X_test, y_train, y_test = train_test_split(X, y2, test_size=0.2, random_state=42)\n",
    "randomForest.fit(X_train, y_train)\n",
    "print(\"The train score using all columns and log sale price is: \", randomForest.score(X_train, y_train)) \n",
    "print(\"The test score using all columns and log sale price is: \", randomForest.score(X_test, y_test)) "
   ]
  },
  {
   "cell_type": "code",
   "execution_count": 77,
   "metadata": {
    "scrolled": false
   },
   "outputs": [
    {
     "data": {
      "text/plain": [
       "<matplotlib.axes._subplots.AxesSubplot at 0x1a260bde10>"
      ]
     },
     "execution_count": 77,
     "metadata": {},
     "output_type": "execute_result"
    },
    {
     "data": {
      "image/png": "[encoded data removed]",
      "text/plain": [
       "<Figure size 432x288 with 1 Axes>"
      ]
     },
     "metadata": {
      "needs_background": "light"
     },
     "output_type": "display_data"
    }
   ],
   "source": [
    "# Using the best combination found above:\n",
    "X = pd.get_dummies(houses.drop([\"SalePrice\"], axis=1), drop_first=True, dummy_na=True)\n",
    "X_train, X_test, y_train, y_test = train_test_split(X, y, test_size=0.2, random_state=42)\n",
    "randomForest.fit(X_train, y_train)\n",
    "\n",
    "feature_importance = list(zip(X_train.columns, randomForest.feature_importances_))\n",
    "dtype = [('feature', 'S10'), ('importance', 'float')]\n",
    "feature_importance = np.array(feature_importance, dtype=dtype)\n",
    "feature_sort = np.sort(feature_importance, order='importance')[::-1]\n",
    "name, score = zip(*list(feature_sort))\n",
    "pd.DataFrame({'name':name,'score':score})[:15].plot.bar(x='name', y='score')"
   ]
  },
  {
   "cell_type": "markdown",
   "metadata": {
    "heading_collapsed": true
   },
   "source": [
    "## RF Grid Search"
   ]
  },
  {
   "cell_type": "code",
   "execution_count": 9,
   "metadata": {
    "hidden": true,
    "scrolled": false
   },
   "outputs": [
    {
     "data": {
      "text/plain": [
       "GridSearchCV(cv=5, error_score=nan,\n",
       "             estimator=RandomForestRegressor(bootstrap=True, ccp_alpha=0.0,\n",
       "                                             criterion='mse', max_depth=10,\n",
       "                                             max_features=100,\n",
       "                                             max_leaf_nodes=None,\n",
       "                                             max_samples=None,\n",
       "                                             min_impurity_decrease=0.0,\n",
       "                                             min_impurity_split=None,\n",
       "                                             min_samples_leaf=1,\n",
       "                                             min_samples_split=2,\n",
       "                                             min_weight_fraction_leaf=0.0,\n",
       "                                             n_estimators=500, n_jobs=None,\n",
       "                                             oob_score=False, random_state=42,\n",
       "                                             verbose=0, warm_start=False),\n",
       "             iid='deprecated', n_jobs=-1,\n",
       "             param_grid={'max_depth': [9, 11, 13, 15, 17, 19, 21],\n",
       "                         'n_estimators': [300, 500, 800],\n",
       "                         'random_state': [42]},\n",
       "             pre_dispatch='2*n_jobs', refit=True, return_train_score=False,\n",
       "             scoring='r2', verbose=0)"
      ]
     },
     "execution_count": 9,
     "metadata": {},
     "output_type": "execute_result"
    }
   ],
   "source": [
    "grid_para_forest = {\n",
    "    \"n_estimators\": [300, 500, 800],\n",
    "    \"max_depth\": list(range(9, 22, 2)),\n",
    "    \"random_state\": [42]}\n",
    "grid_search_forest = GridSearchCV(randomForest, grid_para_forest, scoring='r2', cv=5, n_jobs=-1)\n",
    "grid_search_forest.fit(X_train, y_train)"
   ]
  },
  {
   "cell_type": "code",
   "execution_count": 10,
   "metadata": {
    "hidden": true
   },
   "outputs": [
    {
     "name": "stdout",
     "output_type": "stream",
     "text": [
      "The best params found were: {'max_depth': 19, 'n_estimators': 800, 'random_state': 42}\n",
      "The best score found was: 0.8267021866440002\n",
      "The train score with the best estimator is: 0.979546757977026\n",
      "The test score with the best estimator is: 0.9180379376859372\n"
     ]
    }
   ],
   "source": [
    "print(\"The best params found were:\", grid_search_forest.best_params_)\n",
    "print(\"The best score found was:\", grid_search_forest.best_score_)\n",
    "print(\"The train score with the best estimator is:\", grid_search_forest.score(X_train, y_train))\n",
    "print(\"The test score with the best estimator is:\", grid_search_forest.score(X_test, y_test))"
   ]
  },
  {
   "cell_type": "markdown",
   "metadata": {
    "heading_collapsed": true
   },
   "source": [
    "## Examine Effects of Different Number of Trees"
   ]
  },
  {
   "cell_type": "code",
   "execution_count": null,
   "metadata": {
    "hidden": true
   },
   "outputs": [],
   "source": [
    "n_trees_range = range(10, 500, 100)  # OOB score will warning if too few trees\n",
    "train_error2 = []\n",
    "test_error2 = []\n",
    "oob_error = []\n",
    "\n",
    "for n_trees in n_trees_range:\n",
    "#     for n_feat in n_feat_range:\n",
    "    randomForest.set_params(n_estimators=n_trees, max_features = 26, random_state=42, oob_score=True)\n",
    "    randomForest.fit(X_train, y_train)\n",
    "    train_error2.append(1 - randomForest.score(X_train, y_train))\n",
    "    test_error2.append(1 - randomForest.score(X_test, y_test))\n",
    "    oob_error.append(1 - randomForest.oob_score_)"
   ]
  },
  {
   "cell_type": "code",
   "execution_count": null,
   "metadata": {
    "hidden": true
   },
   "outputs": [],
   "source": [
    "import matplotlib.pyplot as plt\n",
    "plt.plot(n_trees_range, train_error2, c='red', label='training error')\n",
    "plt.plot(n_trees_range, test_error2, c='blue', label='test error')\n",
    "plt.plot(n_trees_range, oob_error, c='pink', label='oob error')\n",
    "plt.ylabel('Error')\n",
    "plt.xlabel('Number of trees')\n",
    "plt.legend()\n",
    "plt.show()"
   ]
  },
  {
   "cell_type": "markdown",
   "metadata": {},
   "source": [
    "# Variance Test"
   ]
  },
  {
   "cell_type": "code",
   "execution_count": 232,
   "metadata": {},
   "outputs": [],
   "source": [
    "import sklearn.feature_selection as fs\n",
    "import pprint\n",
    "\n",
    "# Find Variances of all columns\n",
    "variances = dict(zip(houses.columns, np.var(houses, 0)))\n",
    "# print('Variation:')\n",
    "# pprint.pprint(variances)\n",
    "\n",
    "# Filter out unwanted columns with variance below 1\n",
    "variances_filtered = []\n",
    "for k, v in variances.items():\n",
    "    if v > .1:\n",
    "        variances_filtered.append(k)\n",
    "unwanted_columns = list(variances.keys() - variances_filtered)\n",
    "unwanted_columns.extend([\"SalePrice\", \"MSSubClass\"])"
   ]
  },
  {
   "cell_type": "code",
   "execution_count": 233,
   "metadata": {},
   "outputs": [
    {
     "name": "stdout",
     "output_type": "stream",
     "text": [
      "The RF train score with low variance columns dropped is:  0.9746600948833943\n",
      "The RF test score with low variance columns dropped is:  0.9196656691370558\n"
     ]
    }
   ],
   "source": [
    "X = pd.get_dummies(houses.drop(unwanted_columns, axis=1), drop_first=True, dummy_na=True)\n",
    "y = houses['SalePrice']\n",
    "X_train, X_test, y_train, y_test = train_test_split(X, y, test_size=0.2, random_state=42)\n",
    "\n",
    "randomForest.set_params(random_state=42, n_estimators=500, max_features=100, max_depth=10)\n",
    "randomForest.fit(X_train, y_train)\n",
    "print(\"The RF train score with low variance columns dropped is: \", randomForest.score(X_train, y_train)) \n",
    "print(\"The RF test score with low variance columns dropped is: \", randomForest.score(X_test, y_test)) "
   ]
  },
  {
   "cell_type": "code",
   "execution_count": null,
   "metadata": {},
   "outputs": [],
   "source": []
  },
  {
   "cell_type": "markdown",
   "metadata": {},
   "source": [
    "# Multiple Linear Regression"
   ]
  },
  {
   "cell_type": "code",
   "execution_count": 80,
   "metadata": {},
   "outputs": [],
   "source": [
    "from sklearn import linear_model\n",
    "from sklearn.metrics import r2_score\n",
    "ols = linear_model.LinearRegression()"
   ]
  },
  {
   "cell_type": "code",
   "execution_count": 234,
   "metadata": {},
   "outputs": [],
   "source": [
    "# Log improves MLR performance\n",
    "# Drop columns found to have little variance\n",
    "X2 = pd.get_dummies(houses.drop(unwanted_columns, axis=1), drop_first=True, dummy_na=True)\n",
    "y2 = np.log(houses['SalePrice'])\n",
    "X2_train, X2_test, y2_train, y2_test = train_test_split(X2, y2, test_size=0.2, random_state=42)"
   ]
  },
  {
   "cell_type": "code",
   "execution_count": 235,
   "metadata": {},
   "outputs": [
    {
     "data": {
      "text/plain": [
       "0.939972827099102"
      ]
     },
     "execution_count": 235,
     "metadata": {},
     "output_type": "execute_result"
    }
   ],
   "source": [
    "ols.fit(X2_train, y2_train) # fit \n",
    "ols.score(X2_train, y2_train) # accuracy "
   ]
  },
  {
   "cell_type": "code",
   "execution_count": 236,
   "metadata": {
    "scrolled": true
   },
   "outputs": [
    {
     "data": {
      "text/plain": [
       "0.6980629831416827"
      ]
     },
     "execution_count": 236,
     "metadata": {},
     "output_type": "execute_result"
    }
   ],
   "source": [
    "ols.score(X2_test, y2_test)"
   ]
  },
  {
   "cell_type": "code",
   "execution_count": 237,
   "metadata": {},
   "outputs": [
    {
     "name": "stdout",
     "output_type": "stream",
     "text": [
      "Boxcox Transformed Data, Train Score: 0.941073084553282\n",
      "Boxcox Transformed Data, Test Score: -218098309061.20905\n"
     ]
    }
   ],
   "source": [
    "X = pd.get_dummies(house_copy.drop(\"SalePrice\", axis=1), drop_first=True, dummy_na=True)\n",
    "y = house_copy['SalePrice']\n",
    "X_train, X_test, y_train, y_test = train_test_split(X, y, test_size=0.2, random_state=42)\n",
    "ols.fit(X_train, y_train)\n",
    "print(\"Boxcox Transformed Data, Train Score:\", ols.score(X_train, y_train))\n",
    "print(\"Boxcox Transformed Data, Test Score:\", ols.score(X_test, y_test))"
   ]
  },
  {
   "cell_type": "code",
   "execution_count": null,
   "metadata": {},
   "outputs": [],
   "source": []
  },
  {
   "cell_type": "code",
   "execution_count": null,
   "metadata": {},
   "outputs": [],
   "source": []
  },
  {
   "cell_type": "markdown",
   "metadata": {},
   "source": [
    "## Regularization"
   ]
  },
  {
   "cell_type": "markdown",
   "metadata": {},
   "source": [
    "### A. Ridge Exploration"
   ]
  },
  {
   "cell_type": "code",
   "execution_count": 261,
   "metadata": {},
   "outputs": [],
   "source": [
    "from sklearn.linear_model import Ridge\n",
    "ridge = Ridge()\n",
    "X = pd.get_dummies(houses.drop(\"SalePrice\", axis=1), drop_first=True, dummy_na=True)\n",
    "X2 = pd.get_dummies(house_copy.drop(\"SalePrice\", axis=1), drop_first=True, dummy_na=True)\n",
    "y = np.log(houses['SalePrice'])\n",
    "X_train, X_test, y_train, y_test = train_test_split(X2, y, test_size=0.2, random_state=42)"
   ]
  },
  {
   "cell_type": "code",
   "execution_count": 262,
   "metadata": {
    "scrolled": false
   },
   "outputs": [
    {
     "data": {
      "text/plain": [
       "Text(0, 0.5, 'slope values')"
      ]
     },
     "execution_count": 262,
     "metadata": {},
     "output_type": "execute_result"
    },
    {
     "data": {
      "image/png": "[encoded data removed]",
      "text/plain": [
       "<Figure size 720x360 with 1 Axes>"
      ]
     },
     "metadata": {
      "needs_background": "light"
     },
     "output_type": "display_data"
    }
   ],
   "source": [
    "# Test different alphas\n",
    "alphas = np.linspace(.00001, 1, 1000)\n",
    "ridge.set_params(normalize=True)\n",
    "coefs  = []\n",
    "scores = []\n",
    "test_scores = []\n",
    "for alpha in alphas:\n",
    "        ridge.set_params(alpha=alpha)\n",
    "        ridge.fit(X_train, y_train)  \n",
    "        coefs.append(ridge.coef_)\n",
    "        scores.append(ridge.score(X_train, y_train))\n",
    "        test_scores.append(ridge.score(X_test, y_test))\n",
    "coefs = pd.DataFrame(coefs, index = alphas, columns = X_train.columns)  \n",
    "\n",
    "# Plot the effects of increasing lambdas\n",
    "plt.rcParams['figure.figsize'] = (10,5)\n",
    "for name in coefs.iloc[0, :].sort_values().index:\n",
    "    plt.plot(coefs.index, coefs[name], label=name)\n",
    "# plt.legend(loc=4)   \n",
    "plt.title(r'Slope Coefficient Drop-Off with Ridge Regression')\n",
    "plt.xlabel(r'hyperparameter $\\lambda$')\n",
    "plt.ylabel(r'slope values')"
   ]
  },
  {
   "cell_type": "code",
   "execution_count": 263,
   "metadata": {
    "scrolled": false
   },
   "outputs": [
    {
     "data": {
      "text/plain": [
       "Text(0, 0.5, '$R^2$')"
      ]
     },
     "execution_count": 263,
     "metadata": {},
     "output_type": "execute_result"
    },
    {
     "data": {
      "image/png": "[encoded data removed]",
      "text/plain": [
       "<Figure size 720x360 with 1 Axes>"
      ]
     },
     "metadata": {
      "needs_background": "light"
     },
     "output_type": "display_data"
    }
   ],
   "source": [
    "# Plot the R^2 scores for train and test\n",
    "plt.plot(alphas, scores, c='b', label=r'$R^2$ train')\n",
    "plt.plot(alphas, test_scores, c='r', label=r'$R^2$ test')\n",
    "highest_test_score = alphas[np.array(test_scores) == max(test_scores)]\n",
    "plt.axvline(highest_test_score, linestyle='--', color='grey', label='optimal lambda', alpha=0.4)\n",
    "plt.legend(loc=1)\n",
    "plt.title(r'$R^2$ Intersect with Ridge Regression')\n",
    "plt.xlabel(r'hyperparameter $\\lambda$')\n",
    "plt.ylabel(r'$R^2$')"
   ]
  },
  {
   "cell_type": "code",
   "execution_count": 264,
   "metadata": {},
   "outputs": [
    {
     "name": "stdout",
     "output_type": "stream",
     "text": [
      "The Ridge train score is:  0.9263857947944638\n",
      "The Ridge test score is:  0.8939606457340384\n"
     ]
    }
   ],
   "source": [
    "ridge.set_params(normalize=True, alpha=highest_test_score)\n",
    "ridge.fit(X_train, y_train)\n",
    "print(\"The Ridge train score is: \", ridge.score(X_train, y_train))\n",
    "print(\"The Ridge test score is: \", ridge.score(X_test, y_test))"
   ]
  },
  {
   "cell_type": "code",
   "execution_count": 66,
   "metadata": {
    "scrolled": false
   },
   "outputs": [],
   "source": [
    "# sorted(ridge.coef_)"
   ]
  },
  {
   "cell_type": "markdown",
   "metadata": {},
   "source": [
    "### B. Lasso Exploration"
   ]
  },
  {
   "cell_type": "code",
   "execution_count": 250,
   "metadata": {
    "scrolled": false
   },
   "outputs": [
    {
     "name": "stderr",
     "output_type": "stream",
     "text": [
      "/opt/anaconda3/lib/python3.7/site-packages/sklearn/linear_model/_coordinate_descent.py:476: ConvergenceWarning: Objective did not converge. You might want to increase the number of iterations. Duality gap: 5116794477.692261, tolerance: 749744684.4883518\n",
      "  positive)\n"
     ]
    },
    {
     "data": {
      "text/plain": [
       "Text(0, 0.5, 'slope values')"
      ]
     },
     "execution_count": 250,
     "metadata": {},
     "output_type": "execute_result"
    },
    {
     "data": {
      "image/png": "[encoded data removed]",
      "text/plain": [
       "<Figure size 720x720 with 1 Axes>"
      ]
     },
     "metadata": {
      "needs_background": "light"
     },
     "output_type": "display_data"
    }
   ],
   "source": [
    "from sklearn.linear_model import Lasso\n",
    "lasso = Lasso()\n",
    "X = pd.get_dummies(houses.drop(\"SalePrice\", axis=1), drop_first=True, dummy_na=True)\n",
    "# X2 = pd.get_dummies(house_copy.drop(\"SalePrice\", axis=1), drop_first=True, dummy_na=True)\n",
    "y = houses[\"SalePrice\"]\n",
    "# y2 = np.log(houses['SalePrice'])\n",
    "X_train, X_test, y_train, y_test = train_test_split(X, y, test_size=0.2, random_state=42)\n",
    "\n",
    "# Test different lambdas\n",
    "alphas = np.linspace(0.1,80.1,200)\n",
    "lasso.set_params(normalize=True)\n",
    "coefs_lasso  = []\n",
    "scores_lasso = []\n",
    "scores_test_lasso = []\n",
    "for alpha in alphas:\n",
    "        lasso.set_params(alpha=alpha)\n",
    "        lasso.fit(X_train, y_train)  \n",
    "        coefs_lasso.append(lasso.coef_)\n",
    "        scores_lasso.append(lasso.score(X_train, y_train))\n",
    "        scores_test_lasso.append(lasso.score(X_test, y_test))\n",
    "coefs = pd.DataFrame(coefs_lasso, index = alphas, columns = X_train.columns)  \n",
    "\n",
    "# Plot different lambdas\n",
    "plt.rcParams['figure.figsize'] = (10,10)\n",
    "for name in coefs.iloc[0, :].sort_values().index:\n",
    "    plt.plot(coefs.index, coefs[name], label=name)\n",
    "# plt.legend(loc=4)   \n",
    "# plt.ylim(-500000, 600000)\n",
    "plt.xlabel(r'hyperparameter $\\lambda$')\n",
    "plt.ylabel(r'slope values')"
   ]
  },
  {
   "cell_type": "code",
   "execution_count": 251,
   "metadata": {},
   "outputs": [
    {
     "data": {
      "text/plain": [
       "Text(0, 0.5, '$R^2$')"
      ]
     },
     "execution_count": 251,
     "metadata": {},
     "output_type": "execute_result"
    },
    {
     "data": {
      "image/png": "[encoded data removed]",
      "text/plain": [
       "<Figure size 720x720 with 1 Axes>"
      ]
     },
     "metadata": {
      "needs_background": "light"
     },
     "output_type": "display_data"
    }
   ],
   "source": [
    "# plot to compare train and test R^2 scores\n",
    "plt.plot(alphas, scores_lasso, c='b', label=r'$R^2$ train')\n",
    "plt.plot(alphas, scores_test_lasso, c='r', label=r'$R^2$ test')\n",
    "lasso_overfit = alphas[np.array(scores_test_lasso) < np.array(scores_lasso)]\n",
    "last_overfit = max(lasso_overfit)\n",
    "plt.axvline(last_overfit, linestyle='--', color='grey', label='optimal lambda', alpha=0.4)\n",
    "plt.legend(loc=1)\n",
    "plt.title(r'$R^2$ Intersection with Lasso Regression')\n",
    "plt.xlabel(r'hyperparameter $\\lambda$')\n",
    "plt.ylabel(r'$R^2$')"
   ]
  },
  {
   "cell_type": "code",
   "execution_count": 252,
   "metadata": {},
   "outputs": [
    {
     "name": "stdout",
     "output_type": "stream",
     "text": [
      "The new lasso train score is: 0.8875805374075352\n",
      "The new lasso test score is: 0.8861457464336083\n"
     ]
    }
   ],
   "source": [
    "lasso.set_params(normalize=True, alpha=last_overfit)\n",
    "lasso.fit(X_train, y_train)\n",
    "print(\"The new lasso train score is:\", lasso.score(X_train, y_train))\n",
    "print(\"The new lasso test score is:\", lasso.score(X_test, y_test))"
   ]
  },
  {
   "cell_type": "markdown",
   "metadata": {},
   "source": [
    "## Observe P values and conf intervals for Features"
   ]
  },
  {
   "cell_type": "code",
   "execution_count": 265,
   "metadata": {
    "scrolled": false
   },
   "outputs": [
    {
     "name": "stderr",
     "output_type": "stream",
     "text": [
      "/opt/anaconda3/lib/python3.7/site-packages/statsmodels/base/model.py:1362: RuntimeWarning: invalid value encountered in true_divide\n",
      "  return self.params / self.bse\n",
      "/opt/anaconda3/lib/python3.7/site-packages/scipy/stats/_distn_infrastructure.py:903: RuntimeWarning: invalid value encountered in greater\n",
      "  return (a < x) & (x < b)\n",
      "/opt/anaconda3/lib/python3.7/site-packages/scipy/stats/_distn_infrastructure.py:903: RuntimeWarning: invalid value encountered in less\n",
      "  return (a < x) & (x < b)\n",
      "/opt/anaconda3/lib/python3.7/site-packages/scipy/stats/_distn_infrastructure.py:1912: RuntimeWarning: invalid value encountered in less_equal\n",
      "  cond2 = cond0 & (x <= _a)\n"
     ]
    },
    {
     "data": {
      "text/html": [
       "<table class=\"simpletable\">\n",
       "<tr>\n",
       "            <td></td>               <th>coef</th>     <th>std err</th>      <th>t</th>      <th>P>|t|</th>  <th>[0.025</th>    <th>0.975]</th>  \n",
       "</tr>\n",
       "<tr>\n",
       "  <th>const</th>                 <td>  -22.2588</td> <td>   41.389</td> <td>   -0.538</td> <td> 0.591</td> <td> -103.481</td> <td>   58.964</td>\n",
       "</tr>\n",
       "<tr>\n",
       "  <th>LotFrontage</th>           <td>    0.0200</td> <td>    0.017</td> <td>    1.152</td> <td> 0.250</td> <td>   -0.014</td> <td>    0.054</td>\n",
       "</tr>\n",
       "<tr>\n",
       "  <th>LotArea</th>               <td>    0.0850</td> <td>    0.014</td> <td>    5.953</td> <td> 0.000</td> <td>    0.057</td> <td>    0.113</td>\n",
       "</tr>\n",
       "<tr>\n",
       "  <th>Alley</th>                 <td> 5.982e-13</td> <td> 6.07e-13</td> <td>    0.985</td> <td> 0.325</td> <td>-5.93e-13</td> <td> 1.79e-12</td>\n",
       "</tr>\n",
       "<tr>\n",
       "  <th>OverallQual</th>           <td>    0.2328</td> <td>    0.035</td> <td>    6.684</td> <td> 0.000</td> <td>    0.164</td> <td>    0.301</td>\n",
       "</tr>\n",
       "<tr>\n",
       "  <th>OverallCond</th>           <td>    0.2447</td> <td>    0.029</td> <td>    8.327</td> <td> 0.000</td> <td>    0.187</td> <td>    0.302</td>\n",
       "</tr>\n",
       "<tr>\n",
       "  <th>YearBuilt</th>             <td>    3.8820</td> <td>    0.891</td> <td>    4.357</td> <td> 0.000</td> <td>    2.133</td> <td>    5.631</td>\n",
       "</tr>\n",
       "<tr>\n",
       "  <th>YearRemodAdd</th>          <td>    1.5894</td> <td>    0.563</td> <td>    2.822</td> <td> 0.005</td> <td>    0.484</td> <td>    2.695</td>\n",
       "</tr>\n",
       "<tr>\n",
       "  <th>MasVnrArea</th>            <td>    0.0107</td> <td>    0.007</td> <td>    1.646</td> <td> 0.100</td> <td>   -0.002</td> <td>    0.024</td>\n",
       "</tr>\n",
       "<tr>\n",
       "  <th>ExterQual</th>             <td>    0.0600</td> <td>    0.034</td> <td>    1.756</td> <td> 0.079</td> <td>   -0.007</td> <td>    0.127</td>\n",
       "</tr>\n",
       "<tr>\n",
       "  <th>ExterCond</th>             <td>   -0.0346</td> <td>    0.036</td> <td>   -0.962</td> <td> 0.336</td> <td>   -0.105</td> <td>    0.036</td>\n",
       "</tr>\n",
       "<tr>\n",
       "  <th>BsmtQual</th>              <td>    0.0609</td> <td>    0.043</td> <td>    1.419</td> <td> 0.156</td> <td>   -0.023</td> <td>    0.145</td>\n",
       "</tr>\n",
       "<tr>\n",
       "  <th>BsmtCond</th>              <td>    0.0426</td> <td>    0.051</td> <td>    0.842</td> <td> 0.400</td> <td>   -0.057</td> <td>    0.142</td>\n",
       "</tr>\n",
       "<tr>\n",
       "  <th>BsmtExposure</th>          <td>    0.0483</td> <td>    0.014</td> <td>    3.537</td> <td> 0.000</td> <td>    0.022</td> <td>    0.075</td>\n",
       "</tr>\n",
       "<tr>\n",
       "  <th>BsmtFinType1</th>          <td>    0.0347</td> <td>    0.009</td> <td>    3.786</td> <td> 0.000</td> <td>    0.017</td> <td>    0.053</td>\n",
       "</tr>\n",
       "<tr>\n",
       "  <th>BsmtFinType2</th>          <td>   -0.0120</td> <td>    0.015</td> <td>   -0.810</td> <td> 0.418</td> <td>   -0.041</td> <td>    0.017</td>\n",
       "</tr>\n",
       "<tr>\n",
       "  <th>BsmtUnfSF</th>             <td>   -0.0041</td> <td>    0.003</td> <td>   -1.460</td> <td> 0.145</td> <td>   -0.010</td> <td>    0.001</td>\n",
       "</tr>\n",
       "<tr>\n",
       "  <th>TotalBsmtSF</th>           <td>    0.0420</td> <td>    0.008</td> <td>    5.540</td> <td> 0.000</td> <td>    0.027</td> <td>    0.057</td>\n",
       "</tr>\n",
       "<tr>\n",
       "  <th>HeatingQC</th>             <td>    0.0602</td> <td>    0.024</td> <td>    2.494</td> <td> 0.013</td> <td>    0.013</td> <td>    0.108</td>\n",
       "</tr>\n",
       "<tr>\n",
       "  <th>1stFlrSF</th>              <td>    0.0791</td> <td>    0.055</td> <td>    1.449</td> <td> 0.148</td> <td>   -0.028</td> <td>    0.186</td>\n",
       "</tr>\n",
       "<tr>\n",
       "  <th>2ndFlrSF</th>              <td>    0.0064</td> <td>    0.007</td> <td>    0.897</td> <td> 0.370</td> <td>   -0.008</td> <td>    0.020</td>\n",
       "</tr>\n",
       "<tr>\n",
       "  <th>LowQualFinSF</th>          <td>    0.0052</td> <td>    0.008</td> <td>    0.638</td> <td> 0.523</td> <td>   -0.011</td> <td>    0.021</td>\n",
       "</tr>\n",
       "<tr>\n",
       "  <th>GrLivArea</th>             <td>    0.3693</td> <td>    0.065</td> <td>    5.665</td> <td> 0.000</td> <td>    0.241</td> <td>    0.497</td>\n",
       "</tr>\n",
       "<tr>\n",
       "  <th>BsmtFullBath</th>          <td>    0.0507</td> <td>    0.014</td> <td>    3.578</td> <td> 0.000</td> <td>    0.023</td> <td>    0.079</td>\n",
       "</tr>\n",
       "<tr>\n",
       "  <th>BsmtHalfBath</th>          <td>    0.0214</td> <td>    0.023</td> <td>    0.926</td> <td> 0.355</td> <td>   -0.024</td> <td>    0.067</td>\n",
       "</tr>\n",
       "<tr>\n",
       "  <th>FullBath</th>              <td>    0.0458</td> <td>    0.028</td> <td>    1.609</td> <td> 0.108</td> <td>   -0.010</td> <td>    0.102</td>\n",
       "</tr>\n",
       "<tr>\n",
       "  <th>HalfBath</th>              <td>    0.0443</td> <td>    0.017</td> <td>    2.674</td> <td> 0.008</td> <td>    0.012</td> <td>    0.077</td>\n",
       "</tr>\n",
       "<tr>\n",
       "  <th>BedroomAbvGr</th>          <td>   -0.0408</td> <td>    0.026</td> <td>   -1.571</td> <td> 0.117</td> <td>   -0.092</td> <td>    0.010</td>\n",
       "</tr>\n",
       "<tr>\n",
       "  <th>KitchenAbvGr</th>          <td>   -0.1073</td> <td>    0.076</td> <td>   -1.414</td> <td> 0.158</td> <td>   -0.256</td> <td>    0.042</td>\n",
       "</tr>\n",
       "<tr>\n",
       "  <th>KitchenQual</th>           <td>    0.0688</td> <td>    0.040</td> <td>    1.713</td> <td> 0.087</td> <td>   -0.010</td> <td>    0.148</td>\n",
       "</tr>\n",
       "<tr>\n",
       "  <th>TotRmsAbvGrd</th>          <td>    0.0159</td> <td>    0.038</td> <td>    0.419</td> <td> 0.676</td> <td>   -0.059</td> <td>    0.091</td>\n",
       "</tr>\n",
       "<tr>\n",
       "  <th>Fireplaces</th>            <td>    0.0555</td> <td>    0.016</td> <td>    3.538</td> <td> 0.000</td> <td>    0.025</td> <td>    0.086</td>\n",
       "</tr>\n",
       "<tr>\n",
       "  <th>FireplaceQu</th>           <td>    0.0355</td> <td>    0.025</td> <td>    1.393</td> <td> 0.164</td> <td>   -0.015</td> <td>    0.085</td>\n",
       "</tr>\n",
       "<tr>\n",
       "  <th>GarageYrBlt</th>           <td>   -0.8010</td> <td>    0.613</td> <td>   -1.308</td> <td> 0.191</td> <td>   -2.003</td> <td>    0.401</td>\n",
       "</tr>\n",
       "<tr>\n",
       "  <th>GarageFinish</th>          <td>    0.0175</td> <td>    0.019</td> <td>    0.920</td> <td> 0.358</td> <td>   -0.020</td> <td>    0.055</td>\n",
       "</tr>\n",
       "<tr>\n",
       "  <th>GarageArea</th>            <td>    0.0720</td> <td>    0.015</td> <td>    4.740</td> <td> 0.000</td> <td>    0.042</td> <td>    0.102</td>\n",
       "</tr>\n",
       "<tr>\n",
       "  <th>GarageQual</th>            <td>    0.1568</td> <td>    0.062</td> <td>    2.545</td> <td> 0.011</td> <td>    0.036</td> <td>    0.278</td>\n",
       "</tr>\n",
       "<tr>\n",
       "  <th>MiscVal</th>               <td>    0.0005</td> <td>    0.003</td> <td>    0.181</td> <td> 0.856</td> <td>   -0.005</td> <td>    0.006</td>\n",
       "</tr>\n",
       "<tr>\n",
       "  <th>MoSold</th>                <td>   -0.0064</td> <td>    0.008</td> <td>   -0.776</td> <td> 0.438</td> <td>   -0.023</td> <td>    0.010</td>\n",
       "</tr>\n",
       "<tr>\n",
       "  <th>YrSold</th>                <td>   -1.2858</td> <td>    5.382</td> <td>   -0.239</td> <td> 0.811</td> <td>  -11.848</td> <td>    9.276</td>\n",
       "</tr>\n",
       "<tr>\n",
       "  <th>TotalPorchSqft</th>        <td>    0.0027</td> <td>    0.002</td> <td>    1.393</td> <td> 0.164</td> <td>   -0.001</td> <td>    0.007</td>\n",
       "</tr>\n",
       "<tr>\n",
       "  <th>MSSubClass_160</th>        <td>   -0.0620</td> <td>    0.052</td> <td>   -1.198</td> <td> 0.231</td> <td>   -0.164</td> <td>    0.040</td>\n",
       "</tr>\n",
       "<tr>\n",
       "  <th>MSSubClass_180</th>        <td>    0.0576</td> <td>    0.074</td> <td>    0.777</td> <td> 0.437</td> <td>   -0.088</td> <td>    0.203</td>\n",
       "</tr>\n",
       "<tr>\n",
       "  <th>MSSubClass_190</th>        <td>   -0.1924</td> <td>    0.172</td> <td>   -1.121</td> <td> 0.263</td> <td>   -0.529</td> <td>    0.144</td>\n",
       "</tr>\n",
       "<tr>\n",
       "  <th>MSSubClass_20</th>         <td>   -0.0372</td> <td>    0.117</td> <td>   -0.319</td> <td> 0.750</td> <td>   -0.266</td> <td>    0.192</td>\n",
       "</tr>\n",
       "<tr>\n",
       "  <th>MSSubClass_30</th>         <td>   -0.0904</td> <td>    0.119</td> <td>   -0.757</td> <td> 0.449</td> <td>   -0.325</td> <td>    0.144</td>\n",
       "</tr>\n",
       "<tr>\n",
       "  <th>MSSubClass_40</th>         <td>   -0.1545</td> <td>    0.139</td> <td>   -1.111</td> <td> 0.267</td> <td>   -0.427</td> <td>    0.118</td>\n",
       "</tr>\n",
       "<tr>\n",
       "  <th>MSSubClass_45</th>         <td>    0.0626</td> <td>    0.217</td> <td>    0.288</td> <td> 0.773</td> <td>   -0.364</td> <td>    0.489</td>\n",
       "</tr>\n",
       "<tr>\n",
       "  <th>MSSubClass_50</th>         <td>   -0.0520</td> <td>    0.126</td> <td>   -0.412</td> <td> 0.680</td> <td>   -0.299</td> <td>    0.195</td>\n",
       "</tr>\n",
       "<tr>\n",
       "  <th>MSSubClass_60</th>         <td>   -0.0717</td> <td>    0.124</td> <td>   -0.577</td> <td> 0.564</td> <td>   -0.316</td> <td>    0.172</td>\n",
       "</tr>\n",
       "<tr>\n",
       "  <th>MSSubClass_70</th>         <td>   -0.0500</td> <td>    0.125</td> <td>   -0.398</td> <td> 0.691</td> <td>   -0.296</td> <td>    0.196</td>\n",
       "</tr>\n",
       "<tr>\n",
       "  <th>MSSubClass_75</th>         <td>   -0.0952</td> <td>    0.139</td> <td>   -0.687</td> <td> 0.492</td> <td>   -0.367</td> <td>    0.177</td>\n",
       "</tr>\n",
       "<tr>\n",
       "  <th>MSSubClass_80</th>         <td>   -0.0388</td> <td>    0.134</td> <td>   -0.290</td> <td> 0.772</td> <td>   -0.301</td> <td>    0.223</td>\n",
       "</tr>\n",
       "<tr>\n",
       "  <th>MSSubClass_85</th>         <td>   -0.0004</td> <td>    0.130</td> <td>   -0.003</td> <td> 0.997</td> <td>   -0.256</td> <td>    0.255</td>\n",
       "</tr>\n",
       "<tr>\n",
       "  <th>MSSubClass_90</th>         <td>   -0.0484</td> <td>    0.062</td> <td>   -0.786</td> <td> 0.432</td> <td>   -0.169</td> <td>    0.072</td>\n",
       "</tr>\n",
       "<tr>\n",
       "  <th>MSSubClass_nan</th>        <td> 1.358e-14</td> <td> 5.72e-15</td> <td>    2.375</td> <td> 0.018</td> <td> 2.36e-15</td> <td> 2.48e-14</td>\n",
       "</tr>\n",
       "<tr>\n",
       "  <th>MSZoning_FV</th>           <td>    0.3998</td> <td>    0.066</td> <td>    6.048</td> <td> 0.000</td> <td>    0.270</td> <td>    0.530</td>\n",
       "</tr>\n",
       "<tr>\n",
       "  <th>MSZoning_RH</th>           <td>    0.3935</td> <td>    0.066</td> <td>    5.983</td> <td> 0.000</td> <td>    0.264</td> <td>    0.523</td>\n",
       "</tr>\n",
       "<tr>\n",
       "  <th>MSZoning_RL</th>           <td>    0.3451</td> <td>    0.056</td> <td>    6.136</td> <td> 0.000</td> <td>    0.235</td> <td>    0.455</td>\n",
       "</tr>\n",
       "<tr>\n",
       "  <th>MSZoning_RM</th>           <td>    0.3115</td> <td>    0.053</td> <td>    5.827</td> <td> 0.000</td> <td>    0.207</td> <td>    0.416</td>\n",
       "</tr>\n",
       "<tr>\n",
       "  <th>MSZoning_nan</th>          <td> 1.413e-15</td> <td> 2.95e-15</td> <td>    0.480</td> <td> 0.632</td> <td>-4.37e-15</td> <td>  7.2e-15</td>\n",
       "</tr>\n",
       "<tr>\n",
       "  <th>Street_Pave</th>           <td>    0.0014</td> <td>    0.068</td> <td>    0.021</td> <td> 0.984</td> <td>   -0.132</td> <td>    0.135</td>\n",
       "</tr>\n",
       "<tr>\n",
       "  <th>Street_nan</th>            <td> 2.819e-15</td> <td> 1.53e-15</td> <td>    1.840</td> <td> 0.066</td> <td>-1.87e-16</td> <td> 5.83e-15</td>\n",
       "</tr>\n",
       "<tr>\n",
       "  <th>LotShape_IR2</th>          <td>    0.0364</td> <td>    0.022</td> <td>    1.675</td> <td> 0.094</td> <td>   -0.006</td> <td>    0.079</td>\n",
       "</tr>\n",
       "<tr>\n",
       "  <th>LotShape_IR3</th>          <td>    0.0370</td> <td>    0.044</td> <td>    0.843</td> <td> 0.399</td> <td>   -0.049</td> <td>    0.123</td>\n",
       "</tr>\n",
       "<tr>\n",
       "  <th>LotShape_Reg</th>          <td>    0.0042</td> <td>    0.008</td> <td>    0.498</td> <td> 0.619</td> <td>   -0.012</td> <td>    0.021</td>\n",
       "</tr>\n",
       "<tr>\n",
       "  <th>LotShape_nan</th>          <td> -1.96e-15</td> <td> 2.93e-15</td> <td>   -0.669</td> <td> 0.503</td> <td> -7.7e-15</td> <td> 3.78e-15</td>\n",
       "</tr>\n",
       "<tr>\n",
       "  <th>LandContour_HLS</th>       <td>    0.0418</td> <td>    0.028</td> <td>    1.516</td> <td> 0.130</td> <td>   -0.012</td> <td>    0.096</td>\n",
       "</tr>\n",
       "<tr>\n",
       "  <th>LandContour_Low</th>       <td>   -0.0089</td> <td>    0.034</td> <td>   -0.259</td> <td> 0.796</td> <td>   -0.076</td> <td>    0.059</td>\n",
       "</tr>\n",
       "<tr>\n",
       "  <th>LandContour_Lvl</th>       <td>    0.0341</td> <td>    0.020</td> <td>    1.680</td> <td> 0.093</td> <td>   -0.006</td> <td>    0.074</td>\n",
       "</tr>\n",
       "<tr>\n",
       "  <th>LandContour_nan</th>       <td>  8.38e-15</td> <td> 4.53e-15</td> <td>    1.850</td> <td> 0.065</td> <td>-5.11e-16</td> <td> 1.73e-14</td>\n",
       "</tr>\n",
       "<tr>\n",
       "  <th>Utilities_NoSeWa</th>      <td>   -0.1771</td> <td>    0.138</td> <td>   -1.283</td> <td> 0.200</td> <td>   -0.448</td> <td>    0.094</td>\n",
       "</tr>\n",
       "<tr>\n",
       "  <th>Utilities_nan</th>         <td> -9.51e-15</td> <td> 5.81e-15</td> <td>   -1.638</td> <td> 0.102</td> <td>-2.09e-14</td> <td> 1.89e-15</td>\n",
       "</tr>\n",
       "<tr>\n",
       "  <th>LandSlope_Mod</th>         <td>    0.0186</td> <td>    0.022</td> <td>    0.863</td> <td> 0.389</td> <td>   -0.024</td> <td>    0.061</td>\n",
       "</tr>\n",
       "<tr>\n",
       "  <th>LandSlope_Sev</th>         <td>   -0.0519</td> <td>    0.046</td> <td>   -1.125</td> <td> 0.261</td> <td>   -0.142</td> <td>    0.039</td>\n",
       "</tr>\n",
       "<tr>\n",
       "  <th>LandSlope_nan</th>         <td>-1.009e-15</td> <td> 4.12e-15</td> <td>   -0.245</td> <td> 0.806</td> <td>-9.09e-15</td> <td> 7.07e-15</td>\n",
       "</tr>\n",
       "<tr>\n",
       "  <th>Neighborhood_Blueste</th>  <td>    0.0096</td> <td>    0.122</td> <td>    0.079</td> <td> 0.937</td> <td>   -0.230</td> <td>    0.249</td>\n",
       "</tr>\n",
       "<tr>\n",
       "  <th>Neighborhood_BrDale</th>   <td>    0.0210</td> <td>    0.063</td> <td>    0.336</td> <td> 0.737</td> <td>   -0.102</td> <td>    0.144</td>\n",
       "</tr>\n",
       "<tr>\n",
       "  <th>Neighborhood_BrkSide</th>  <td>   -0.0317</td> <td>    0.051</td> <td>   -0.625</td> <td> 0.532</td> <td>   -0.131</td> <td>    0.068</td>\n",
       "</tr>\n",
       "<tr>\n",
       "  <th>Neighborhood_ClearCr</th>  <td>   -0.0557</td> <td>    0.051</td> <td>   -1.084</td> <td> 0.279</td> <td>   -0.157</td> <td>    0.045</td>\n",
       "</tr>\n",
       "<tr>\n",
       "  <th>Neighborhood_CollgCr</th>  <td>   -0.0967</td> <td>    0.040</td> <td>   -2.414</td> <td> 0.016</td> <td>   -0.175</td> <td>   -0.018</td>\n",
       "</tr>\n",
       "<tr>\n",
       "  <th>Neighborhood_Crawfor</th>  <td>    0.0179</td> <td>    0.048</td> <td>    0.377</td> <td> 0.706</td> <td>   -0.075</td> <td>    0.111</td>\n",
       "</tr>\n",
       "<tr>\n",
       "  <th>Neighborhood_Edwards</th>  <td>   -0.1474</td> <td>    0.044</td> <td>   -3.354</td> <td> 0.001</td> <td>   -0.234</td> <td>   -0.061</td>\n",
       "</tr>\n",
       "<tr>\n",
       "  <th>Neighborhood_Gilbert</th>  <td>   -0.1015</td> <td>    0.043</td> <td>   -2.371</td> <td> 0.018</td> <td>   -0.186</td> <td>   -0.017</td>\n",
       "</tr>\n",
       "<tr>\n",
       "  <th>Neighborhood_IDOTRR</th>   <td>   -0.0904</td> <td>    0.057</td> <td>   -1.592</td> <td> 0.112</td> <td>   -0.202</td> <td>    0.021</td>\n",
       "</tr>\n",
       "<tr>\n",
       "  <th>Neighborhood_MeadowV</th>  <td>   -0.1352</td> <td>    0.067</td> <td>   -2.022</td> <td> 0.043</td> <td>   -0.266</td> <td>   -0.004</td>\n",
       "</tr>\n",
       "<tr>\n",
       "  <th>Neighborhood_Mitchel</th>  <td>   -0.1155</td> <td>    0.046</td> <td>   -2.524</td> <td> 0.012</td> <td>   -0.205</td> <td>   -0.026</td>\n",
       "</tr>\n",
       "<tr>\n",
       "  <th>Neighborhood_NAmes</th>    <td>   -0.1175</td> <td>    0.043</td> <td>   -2.729</td> <td> 0.006</td> <td>   -0.202</td> <td>   -0.033</td>\n",
       "</tr>\n",
       "<tr>\n",
       "  <th>Neighborhood_NPkVill</th>  <td>   -0.0458</td> <td>    0.087</td> <td>   -0.528</td> <td> 0.598</td> <td>   -0.216</td> <td>    0.124</td>\n",
       "</tr>\n",
       "<tr>\n",
       "  <th>Neighborhood_NWAmes</th>   <td>   -0.1189</td> <td>    0.045</td> <td>   -2.659</td> <td> 0.008</td> <td>   -0.207</td> <td>   -0.031</td>\n",
       "</tr>\n",
       "<tr>\n",
       "  <th>Neighborhood_NoRidge</th>  <td>    0.0124</td> <td>    0.046</td> <td>    0.272</td> <td> 0.786</td> <td>   -0.077</td> <td>    0.102</td>\n",
       "</tr>\n",
       "<tr>\n",
       "  <th>Neighborhood_NridgHt</th>  <td>    0.0279</td> <td>    0.040</td> <td>    0.695</td> <td> 0.487</td> <td>   -0.051</td> <td>    0.107</td>\n",
       "</tr>\n",
       "<tr>\n",
       "  <th>Neighborhood_OldTown</th>  <td>   -0.0947</td> <td>    0.052</td> <td>   -1.821</td> <td> 0.069</td> <td>   -0.197</td> <td>    0.007</td>\n",
       "</tr>\n",
       "<tr>\n",
       "  <th>Neighborhood_SWISU</th>    <td>   -0.0696</td> <td>    0.053</td> <td>   -1.324</td> <td> 0.186</td> <td>   -0.173</td> <td>    0.034</td>\n",
       "</tr>\n",
       "<tr>\n",
       "  <th>Neighborhood_Sawyer</th>   <td>   -0.1012</td> <td>    0.045</td> <td>   -2.234</td> <td> 0.026</td> <td>   -0.190</td> <td>   -0.012</td>\n",
       "</tr>\n",
       "<tr>\n",
       "  <th>Neighborhood_SawyerW</th>  <td>   -0.1029</td> <td>    0.044</td> <td>   -2.354</td> <td> 0.019</td> <td>   -0.189</td> <td>   -0.017</td>\n",
       "</tr>\n",
       "<tr>\n",
       "  <th>Neighborhood_Somerst</th>  <td>   -0.0629</td> <td>    0.050</td> <td>   -1.255</td> <td> 0.210</td> <td>   -0.161</td> <td>    0.035</td>\n",
       "</tr>\n",
       "<tr>\n",
       "  <th>Neighborhood_StoneBr</th>  <td>    0.1124</td> <td>    0.044</td> <td>    2.527</td> <td> 0.012</td> <td>    0.025</td> <td>    0.200</td>\n",
       "</tr>\n",
       "<tr>\n",
       "  <th>Neighborhood_Timber</th>   <td>   -0.0682</td> <td>    0.047</td> <td>   -1.442</td> <td> 0.150</td> <td>   -0.161</td> <td>    0.025</td>\n",
       "</tr>\n",
       "<tr>\n",
       "  <th>Neighborhood_Veenker</th>  <td>   -0.0370</td> <td>    0.055</td> <td>   -0.677</td> <td> 0.499</td> <td>   -0.144</td> <td>    0.070</td>\n",
       "</tr>\n",
       "<tr>\n",
       "  <th>Neighborhood_nan</th>      <td>   1.2e-14</td> <td>  5.1e-15</td> <td>    2.353</td> <td> 0.019</td> <td> 1.99e-15</td> <td>  2.2e-14</td>\n",
       "</tr>\n",
       "<tr>\n",
       "  <th>Condition1_Feedr</th>      <td>    0.0318</td> <td>    0.026</td> <td>    1.203</td> <td> 0.229</td> <td>   -0.020</td> <td>    0.084</td>\n",
       "</tr>\n",
       "<tr>\n",
       "  <th>Condition1_Norm</th>       <td>    0.0762</td> <td>    0.022</td> <td>    3.500</td> <td> 0.000</td> <td>    0.033</td> <td>    0.119</td>\n",
       "</tr>\n",
       "<tr>\n",
       "  <th>Condition1_PosA</th>       <td>   -0.0010</td> <td>    0.051</td> <td>   -0.020</td> <td> 0.984</td> <td>   -0.100</td> <td>    0.098</td>\n",
       "</tr>\n",
       "<tr>\n",
       "  <th>Condition1_PosN</th>       <td>    0.0739</td> <td>    0.038</td> <td>    1.935</td> <td> 0.053</td> <td>   -0.001</td> <td>    0.149</td>\n",
       "</tr>\n",
       "<tr>\n",
       "  <th>Condition1_RRAe</th>       <td>   -0.0502</td> <td>    0.043</td> <td>   -1.156</td> <td> 0.248</td> <td>   -0.135</td> <td>    0.035</td>\n",
       "</tr>\n",
       "<tr>\n",
       "  <th>Condition1_RRAn</th>       <td>    0.0530</td> <td>    0.035</td> <td>    1.500</td> <td> 0.134</td> <td>   -0.016</td> <td>    0.122</td>\n",
       "</tr>\n",
       "<tr>\n",
       "  <th>Condition1_RRNe</th>       <td>    0.0489</td> <td>    0.083</td> <td>    0.588</td> <td> 0.557</td> <td>   -0.114</td> <td>    0.212</td>\n",
       "</tr>\n",
       "<tr>\n",
       "  <th>Condition1_RRNn</th>       <td>    0.0550</td> <td>    0.069</td> <td>    0.803</td> <td> 0.422</td> <td>   -0.079</td> <td>    0.189</td>\n",
       "</tr>\n",
       "<tr>\n",
       "  <th>Condition1_nan</th>        <td>-7.179e-15</td> <td> 4.64e-15</td> <td>   -1.547</td> <td> 0.122</td> <td>-1.63e-14</td> <td> 1.93e-15</td>\n",
       "</tr>\n",
       "<tr>\n",
       "  <th>Condition2_Feedr</th>      <td>   -0.0432</td> <td>    0.155</td> <td>   -0.279</td> <td> 0.781</td> <td>   -0.347</td> <td>    0.261</td>\n",
       "</tr>\n",
       "<tr>\n",
       "  <th>Condition2_Norm</th>       <td>   -0.0274</td> <td>    0.136</td> <td>   -0.202</td> <td> 0.840</td> <td>   -0.294</td> <td>    0.239</td>\n",
       "</tr>\n",
       "<tr>\n",
       "  <th>Condition2_PosA</th>       <td>    0.2476</td> <td>    0.183</td> <td>    1.356</td> <td> 0.175</td> <td>   -0.111</td> <td>    0.606</td>\n",
       "</tr>\n",
       "<tr>\n",
       "  <th>Condition2_PosN</th>       <td>   -0.6652</td> <td>    0.161</td> <td>   -4.143</td> <td> 0.000</td> <td>   -0.980</td> <td>   -0.350</td>\n",
       "</tr>\n",
       "<tr>\n",
       "  <th>Condition2_RRAe</th>       <td>   -0.3237</td> <td>    0.247</td> <td>   -1.313</td> <td> 0.190</td> <td>   -0.808</td> <td>    0.160</td>\n",
       "</tr>\n",
       "<tr>\n",
       "  <th>Condition2_RRAn</th>       <td>   -0.0639</td> <td>    0.179</td> <td>   -0.357</td> <td> 0.721</td> <td>   -0.415</td> <td>    0.287</td>\n",
       "</tr>\n",
       "<tr>\n",
       "  <th>Condition2_RRNn</th>       <td>   -0.0148</td> <td>    0.179</td> <td>   -0.083</td> <td> 0.934</td> <td>   -0.366</td> <td>    0.337</td>\n",
       "</tr>\n",
       "<tr>\n",
       "  <th>Condition2_nan</th>        <td>-2.905e-15</td> <td> 1.62e-15</td> <td>   -1.790</td> <td> 0.074</td> <td>-6.09e-15</td> <td>  2.8e-16</td>\n",
       "</tr>\n",
       "<tr>\n",
       "  <th>BldgType_2fmCon</th>       <td>    0.0860</td> <td>    0.119</td> <td>    0.723</td> <td> 0.470</td> <td>   -0.147</td> <td>    0.319</td>\n",
       "</tr>\n",
       "<tr>\n",
       "  <th>BldgType_Duplex</th>       <td>   -0.0484</td> <td>    0.062</td> <td>   -0.786</td> <td> 0.432</td> <td>   -0.169</td> <td>    0.072</td>\n",
       "</tr>\n",
       "<tr>\n",
       "  <th>BldgType_Twnhs</th>        <td>   -0.1299</td> <td>    0.120</td> <td>   -1.087</td> <td> 0.277</td> <td>   -0.364</td> <td>    0.105</td>\n",
       "</tr>\n",
       "<tr>\n",
       "  <th>BldgType_TwnhsE</th>       <td>   -0.1084</td> <td>    0.116</td> <td>   -0.934</td> <td> 0.351</td> <td>   -0.336</td> <td>    0.119</td>\n",
       "</tr>\n",
       "<tr>\n",
       "  <th>BldgType_nan</th>          <td>-5.287e-15</td> <td> 3.04e-15</td> <td>   -1.739</td> <td> 0.082</td> <td>-1.13e-14</td> <td>  6.8e-16</td>\n",
       "</tr>\n",
       "<tr>\n",
       "  <th>HouseStyle_1.5Unf</th>     <td>   -0.0183</td> <td>    0.180</td> <td>   -0.102</td> <td> 0.919</td> <td>   -0.371</td> <td>    0.334</td>\n",
       "</tr>\n",
       "<tr>\n",
       "  <th>HouseStyle_1Story</th>     <td>    0.0477</td> <td>    0.055</td> <td>    0.869</td> <td> 0.385</td> <td>   -0.060</td> <td>    0.156</td>\n",
       "</tr>\n",
       "<tr>\n",
       "  <th>HouseStyle_2.5Fin</th>     <td>    0.0297</td> <td>    0.083</td> <td>    0.357</td> <td> 0.721</td> <td>   -0.134</td> <td>    0.193</td>\n",
       "</tr>\n",
       "<tr>\n",
       "  <th>HouseStyle_2.5Unf</th>     <td>    0.0784</td> <td>    0.077</td> <td>    1.012</td> <td> 0.312</td> <td>   -0.074</td> <td>    0.230</td>\n",
       "</tr>\n",
       "<tr>\n",
       "  <th>HouseStyle_2Story</th>     <td>    0.0245</td> <td>    0.041</td> <td>    0.596</td> <td> 0.551</td> <td>   -0.056</td> <td>    0.105</td>\n",
       "</tr>\n",
       "<tr>\n",
       "  <th>HouseStyle_SFoyer</th>     <td>    0.0110</td> <td>    0.068</td> <td>    0.162</td> <td> 0.872</td> <td>   -0.122</td> <td>    0.144</td>\n",
       "</tr>\n",
       "<tr>\n",
       "  <th>HouseStyle_SLvl</th>       <td>    0.0032</td> <td>    0.070</td> <td>    0.045</td> <td> 0.964</td> <td>   -0.134</td> <td>    0.141</td>\n",
       "</tr>\n",
       "<tr>\n",
       "  <th>HouseStyle_nan</th>        <td>-2.048e-15</td> <td> 1.34e-15</td> <td>   -1.526</td> <td> 0.127</td> <td>-4.68e-15</td> <td> 5.85e-16</td>\n",
       "</tr>\n",
       "<tr>\n",
       "  <th>RoofStyle_Gable</th>       <td>   -0.0666</td> <td>    0.087</td> <td>   -0.766</td> <td> 0.444</td> <td>   -0.237</td> <td>    0.104</td>\n",
       "</tr>\n",
       "<tr>\n",
       "  <th>RoofStyle_Gambrel</th>     <td>   -0.0735</td> <td>    0.096</td> <td>   -0.763</td> <td> 0.445</td> <td>   -0.262</td> <td>    0.115</td>\n",
       "</tr>\n",
       "<tr>\n",
       "  <th>RoofStyle_Hip</th>         <td>   -0.0456</td> <td>    0.087</td> <td>   -0.522</td> <td> 0.602</td> <td>   -0.217</td> <td>    0.126</td>\n",
       "</tr>\n",
       "<tr>\n",
       "  <th>RoofStyle_Mansard</th>     <td>   -0.0031</td> <td>    0.103</td> <td>   -0.030</td> <td> 0.976</td> <td>   -0.206</td> <td>    0.200</td>\n",
       "</tr>\n",
       "<tr>\n",
       "  <th>RoofStyle_Shed</th>        <td>    0.1886</td> <td>    0.179</td> <td>    1.052</td> <td> 0.293</td> <td>   -0.163</td> <td>    0.540</td>\n",
       "</tr>\n",
       "<tr>\n",
       "  <th>RoofStyle_nan</th>         <td>-2.744e-15</td> <td> 5.11e-16</td> <td>   -5.371</td> <td> 0.000</td> <td>-3.75e-15</td> <td>-1.74e-15</td>\n",
       "</tr>\n",
       "<tr>\n",
       "  <th>RoofMatl_CompShg</th>      <td>    1.5456</td> <td>    0.132</td> <td>   11.722</td> <td> 0.000</td> <td>    1.287</td> <td>    1.804</td>\n",
       "</tr>\n",
       "<tr>\n",
       "  <th>RoofMatl_Membran</th>      <td> -1.69e-15</td> <td> 1.03e-15</td> <td>   -1.643</td> <td> 0.101</td> <td>-3.71e-15</td> <td> 3.28e-16</td>\n",
       "</tr>\n",
       "<tr>\n",
       "  <th>RoofMatl_Metal</th>        <td>    1.6576</td> <td>    0.200</td> <td>    8.287</td> <td> 0.000</td> <td>    1.265</td> <td>    2.050</td>\n",
       "</tr>\n",
       "<tr>\n",
       "  <th>RoofMatl_Roll</th>         <td>    1.5177</td> <td>    0.178</td> <td>    8.527</td> <td> 0.000</td> <td>    1.168</td> <td>    1.867</td>\n",
       "</tr>\n",
       "<tr>\n",
       "  <th>RoofMatl_Tar&Grv</th>      <td>    1.5619</td> <td>    0.159</td> <td>    9.801</td> <td> 0.000</td> <td>    1.249</td> <td>    1.875</td>\n",
       "</tr>\n",
       "<tr>\n",
       "  <th>RoofMatl_WdShake</th>      <td>    1.4954</td> <td>    0.153</td> <td>    9.802</td> <td> 0.000</td> <td>    1.196</td> <td>    1.795</td>\n",
       "</tr>\n",
       "<tr>\n",
       "  <th>RoofMatl_WdShngl</th>      <td>    1.7405</td> <td>    0.140</td> <td>   12.443</td> <td> 0.000</td> <td>    1.466</td> <td>    2.015</td>\n",
       "</tr>\n",
       "<tr>\n",
       "  <th>RoofMatl_nan</th>          <td>-2.413e-16</td> <td> 4.29e-16</td> <td>   -0.563</td> <td> 0.574</td> <td>-1.08e-15</td> <td>    6e-16</td>\n",
       "</tr>\n",
       "<tr>\n",
       "  <th>Exterior1st_AsphShn</th>   <td>   -0.0074</td> <td>    0.189</td> <td>   -0.039</td> <td> 0.969</td> <td>   -0.378</td> <td>    0.363</td>\n",
       "</tr>\n",
       "<tr>\n",
       "  <th>Exterior1st_BrkComm</th>   <td>   -0.3665</td> <td>    0.155</td> <td>   -2.359</td> <td> 0.019</td> <td>   -0.671</td> <td>   -0.062</td>\n",
       "</tr>\n",
       "<tr>\n",
       "  <th>Exterior1st_BrkFace</th>   <td>    0.0795</td> <td>    0.076</td> <td>    1.046</td> <td> 0.296</td> <td>   -0.070</td> <td>    0.229</td>\n",
       "</tr>\n",
       "<tr>\n",
       "  <th>Exterior1st_CBlock</th>    <td>   -0.0039</td> <td>    0.061</td> <td>   -0.065</td> <td> 0.948</td> <td>   -0.123</td> <td>    0.115</td>\n",
       "</tr>\n",
       "<tr>\n",
       "  <th>Exterior1st_CemntBd</th>   <td>   -0.0419</td> <td>    0.115</td> <td>   -0.365</td> <td> 0.715</td> <td>   -0.267</td> <td>    0.183</td>\n",
       "</tr>\n",
       "<tr>\n",
       "  <th>Exterior1st_HdBoard</th>   <td>   -0.0063</td> <td>    0.079</td> <td>   -0.079</td> <td> 0.937</td> <td>   -0.161</td> <td>    0.149</td>\n",
       "</tr>\n",
       "<tr>\n",
       "  <th>Exterior1st_ImStucc</th>   <td> 6.049e-16</td> <td>  2.1e-16</td> <td>    2.887</td> <td> 0.004</td> <td> 1.94e-16</td> <td> 1.02e-15</td>\n",
       "</tr>\n",
       "<tr>\n",
       "  <th>Exterior1st_MetalSd</th>   <td>    0.0467</td> <td>    0.086</td> <td>    0.541</td> <td> 0.589</td> <td>   -0.123</td> <td>    0.216</td>\n",
       "</tr>\n",
       "<tr>\n",
       "  <th>Exterior1st_Plywood</th>   <td>   -0.0037</td> <td>    0.078</td> <td>   -0.047</td> <td> 0.962</td> <td>   -0.157</td> <td>    0.150</td>\n",
       "</tr>\n",
       "<tr>\n",
       "  <th>Exterior1st_Stone</th>     <td>   -0.0271</td> <td>    0.158</td> <td>   -0.171</td> <td> 0.864</td> <td>   -0.338</td> <td>    0.284</td>\n",
       "</tr>\n",
       "<tr>\n",
       "  <th>Exterior1st_Stucco</th>    <td>    0.0118</td> <td>    0.081</td> <td>    0.147</td> <td> 0.883</td> <td>   -0.147</td> <td>    0.170</td>\n",
       "</tr>\n",
       "<tr>\n",
       "  <th>Exterior1st_VinylSd</th>   <td>   -0.0021</td> <td>    0.083</td> <td>   -0.025</td> <td> 0.980</td> <td>   -0.164</td> <td>    0.160</td>\n",
       "</tr>\n",
       "<tr>\n",
       "  <th>Exterior1st_Wd Sdng</th>   <td>   -0.0314</td> <td>    0.075</td> <td>   -0.420</td> <td> 0.675</td> <td>   -0.178</td> <td>    0.116</td>\n",
       "</tr>\n",
       "<tr>\n",
       "  <th>Exterior1st_WdShing</th>   <td>   -0.0123</td> <td>    0.080</td> <td>   -0.153</td> <td> 0.878</td> <td>   -0.169</td> <td>    0.145</td>\n",
       "</tr>\n",
       "<tr>\n",
       "  <th>Exterior1st_nan</th>       <td>-7.422e-17</td> <td> 4.68e-16</td> <td>   -0.159</td> <td> 0.874</td> <td>-9.92e-16</td> <td> 8.43e-16</td>\n",
       "</tr>\n",
       "<tr>\n",
       "  <th>Exterior2nd_AsphShn</th>   <td>    0.0435</td> <td>    0.147</td> <td>    0.295</td> <td> 0.768</td> <td>   -0.245</td> <td>    0.332</td>\n",
       "</tr>\n",
       "<tr>\n",
       "  <th>Exterior2nd_Brk Cmn</th>   <td>    0.1507</td> <td>    0.123</td> <td>    1.220</td> <td> 0.223</td> <td>   -0.092</td> <td>    0.393</td>\n",
       "</tr>\n",
       "<tr>\n",
       "  <th>Exterior2nd_BrkFace</th>   <td>    0.0297</td> <td>    0.076</td> <td>    0.390</td> <td> 0.696</td> <td>   -0.120</td> <td>    0.179</td>\n",
       "</tr>\n",
       "<tr>\n",
       "  <th>Exterior2nd_CBlock</th>    <td>   -0.0039</td> <td>    0.061</td> <td>   -0.065</td> <td> 0.948</td> <td>   -0.123</td> <td>    0.115</td>\n",
       "</tr>\n",
       "<tr>\n",
       "  <th>Exterior2nd_CmentBd</th>   <td>    0.1227</td> <td>    0.111</td> <td>    1.101</td> <td> 0.271</td> <td>   -0.096</td> <td>    0.341</td>\n",
       "</tr>\n",
       "<tr>\n",
       "  <th>Exterior2nd_HdBoard</th>   <td>    0.0185</td> <td>    0.075</td> <td>    0.248</td> <td> 0.804</td> <td>   -0.128</td> <td>    0.165</td>\n",
       "</tr>\n",
       "<tr>\n",
       "  <th>Exterior2nd_ImStucc</th>   <td>    0.1002</td> <td>    0.082</td> <td>    1.218</td> <td> 0.224</td> <td>   -0.061</td> <td>    0.262</td>\n",
       "</tr>\n",
       "<tr>\n",
       "  <th>Exterior2nd_MetalSd</th>   <td>    0.0115</td> <td>    0.083</td> <td>    0.138</td> <td> 0.890</td> <td>   -0.152</td> <td>    0.175</td>\n",
       "</tr>\n",
       "<tr>\n",
       "  <th>Exterior2nd_Other</th>     <td>   -0.0528</td> <td>    0.138</td> <td>   -0.383</td> <td> 0.702</td> <td>   -0.324</td> <td>    0.218</td>\n",
       "</tr>\n",
       "<tr>\n",
       "  <th>Exterior2nd_Plywood</th>   <td>    0.0227</td> <td>    0.073</td> <td>    0.312</td> <td> 0.755</td> <td>   -0.120</td> <td>    0.166</td>\n",
       "</tr>\n",
       "<tr>\n",
       "  <th>Exterior2nd_Stone</th>     <td>    0.0887</td> <td>    0.101</td> <td>    0.881</td> <td> 0.378</td> <td>   -0.109</td> <td>    0.286</td>\n",
       "</tr>\n",
       "<tr>\n",
       "  <th>Exterior2nd_Stucco</th>    <td>    0.0550</td> <td>    0.076</td> <td>    0.726</td> <td> 0.468</td> <td>   -0.094</td> <td>    0.204</td>\n",
       "</tr>\n",
       "<tr>\n",
       "  <th>Exterior2nd_VinylSd</th>   <td>    0.0279</td> <td>    0.079</td> <td>    0.352</td> <td> 0.725</td> <td>   -0.127</td> <td>    0.183</td>\n",
       "</tr>\n",
       "<tr>\n",
       "  <th>Exterior2nd_Wd Sdng</th>   <td>    0.0569</td> <td>    0.071</td> <td>    0.800</td> <td> 0.424</td> <td>   -0.083</td> <td>    0.197</td>\n",
       "</tr>\n",
       "<tr>\n",
       "  <th>Exterior2nd_Wd Shng</th>   <td>    0.0307</td> <td>    0.074</td> <td>    0.413</td> <td> 0.679</td> <td>   -0.115</td> <td>    0.176</td>\n",
       "</tr>\n",
       "<tr>\n",
       "  <th>Exterior2nd_nan</th>       <td>  5.42e-16</td> <td>  1.5e-16</td> <td>    3.605</td> <td> 0.000</td> <td> 2.47e-16</td> <td> 8.37e-16</td>\n",
       "</tr>\n",
       "<tr>\n",
       "  <th>MasVnrType_BrkFace</th>    <td>    0.0729</td> <td>    0.038</td> <td>    1.921</td> <td> 0.055</td> <td>   -0.002</td> <td>    0.147</td>\n",
       "</tr>\n",
       "<tr>\n",
       "  <th>MasVnrType_None</th>       <td>    0.1148</td> <td>    0.050</td> <td>    2.283</td> <td> 0.023</td> <td>    0.016</td> <td>    0.213</td>\n",
       "</tr>\n",
       "<tr>\n",
       "  <th>MasVnrType_Stone</th>      <td>    0.1089</td> <td>    0.040</td> <td>    2.730</td> <td> 0.006</td> <td>    0.031</td> <td>    0.187</td>\n",
       "</tr>\n",
       "<tr>\n",
       "  <th>MasVnrType_nan</th>        <td>-3.104e-16</td> <td> 9.07e-17</td> <td>   -3.421</td> <td> 0.001</td> <td>-4.88e-16</td> <td>-1.32e-16</td>\n",
       "</tr>\n",
       "<tr>\n",
       "  <th>Foundation_CBlock</th>     <td>    0.0095</td> <td>    0.017</td> <td>    0.573</td> <td> 0.567</td> <td>   -0.023</td> <td>    0.042</td>\n",
       "</tr>\n",
       "<tr>\n",
       "  <th>Foundation_PConc</th>      <td>    0.0277</td> <td>    0.018</td> <td>    1.543</td> <td> 0.123</td> <td>   -0.008</td> <td>    0.063</td>\n",
       "</tr>\n",
       "<tr>\n",
       "  <th>Foundation_Slab</th>       <td>    0.0600</td> <td>    0.053</td> <td>    1.141</td> <td> 0.254</td> <td>   -0.043</td> <td>    0.163</td>\n",
       "</tr>\n",
       "<tr>\n",
       "  <th>Foundation_Stone</th>      <td>    0.0995</td> <td>    0.058</td> <td>    1.716</td> <td> 0.086</td> <td>   -0.014</td> <td>    0.213</td>\n",
       "</tr>\n",
       "<tr>\n",
       "  <th>Foundation_Wood</th>       <td>   -0.1226</td> <td>    0.071</td> <td>   -1.739</td> <td> 0.082</td> <td>   -0.261</td> <td>    0.016</td>\n",
       "</tr>\n",
       "<tr>\n",
       "  <th>Foundation_nan</th>        <td>-1.865e-16</td> <td> 5.71e-17</td> <td>   -3.268</td> <td> 0.001</td> <td>-2.99e-16</td> <td>-7.45e-17</td>\n",
       "</tr>\n",
       "<tr>\n",
       "  <th>Heating_GasA</th>          <td>    0.0412</td> <td>    0.121</td> <td>    0.341</td> <td> 0.733</td> <td>   -0.196</td> <td>    0.278</td>\n",
       "</tr>\n",
       "<tr>\n",
       "  <th>Heating_GasW</th>          <td>    0.1079</td> <td>    0.125</td> <td>    0.866</td> <td> 0.387</td> <td>   -0.137</td> <td>    0.353</td>\n",
       "</tr>\n",
       "<tr>\n",
       "  <th>Heating_Grav</th>          <td>   -0.0995</td> <td>    0.130</td> <td>   -0.765</td> <td> 0.445</td> <td>   -0.355</td> <td>    0.156</td>\n",
       "</tr>\n",
       "<tr>\n",
       "  <th>Heating_OthW</th>          <td>    0.0058</td> <td>    0.149</td> <td>    0.039</td> <td> 0.969</td> <td>   -0.286</td> <td>    0.298</td>\n",
       "</tr>\n",
       "<tr>\n",
       "  <th>Heating_Wall</th>          <td>    0.0566</td> <td>    0.146</td> <td>    0.387</td> <td> 0.699</td> <td>   -0.230</td> <td>    0.343</td>\n",
       "</tr>\n",
       "<tr>\n",
       "  <th>Heating_nan</th>           <td>-9.394e-17</td> <td> 3.35e-17</td> <td>   -2.802</td> <td> 0.005</td> <td> -1.6e-16</td> <td>-2.81e-17</td>\n",
       "</tr>\n",
       "<tr>\n",
       "  <th>CentralAir_Y</th>          <td>    0.0409</td> <td>    0.021</td> <td>    1.932</td> <td> 0.054</td> <td>   -0.001</td> <td>    0.082</td>\n",
       "</tr>\n",
       "<tr>\n",
       "  <th>CentralAir_nan</th>        <td>-7.033e-17</td> <td>  5.7e-17</td> <td>   -1.234</td> <td> 0.218</td> <td>-1.82e-16</td> <td> 4.15e-17</td>\n",
       "</tr>\n",
       "<tr>\n",
       "  <th>Electrical_FuseF</th>      <td>   -0.0145</td> <td>    0.030</td> <td>   -0.486</td> <td> 0.627</td> <td>   -0.073</td> <td>    0.044</td>\n",
       "</tr>\n",
       "<tr>\n",
       "  <th>Electrical_FuseP</th>      <td>    0.0012</td> <td>    0.083</td> <td>    0.014</td> <td> 0.989</td> <td>   -0.162</td> <td>    0.164</td>\n",
       "</tr>\n",
       "<tr>\n",
       "  <th>Electrical_Mix</th>        <td>    0.2406</td> <td>    0.142</td> <td>    1.689</td> <td> 0.091</td> <td>   -0.039</td> <td>    0.520</td>\n",
       "</tr>\n",
       "<tr>\n",
       "  <th>Electrical_SBrkr</th>      <td>   -0.0253</td> <td>    0.016</td> <td>   -1.588</td> <td> 0.113</td> <td>   -0.057</td> <td>    0.006</td>\n",
       "</tr>\n",
       "<tr>\n",
       "  <th>Electrical_nan</th>        <td>-2.472e-16</td> <td> 4.66e-17</td> <td>   -5.306</td> <td> 0.000</td> <td>-3.39e-16</td> <td>-1.56e-16</td>\n",
       "</tr>\n",
       "<tr>\n",
       "  <th>Functional_Maj2</th>       <td>   -0.3477</td> <td>    0.078</td> <td>   -4.447</td> <td> 0.000</td> <td>   -0.501</td> <td>   -0.194</td>\n",
       "</tr>\n",
       "<tr>\n",
       "  <th>Functional_Min1</th>       <td>   -0.0558</td> <td>    0.045</td> <td>   -1.252</td> <td> 0.211</td> <td>   -0.143</td> <td>    0.032</td>\n",
       "</tr>\n",
       "<tr>\n",
       "  <th>Functional_Min2</th>       <td>   -0.0745</td> <td>    0.046</td> <td>   -1.630</td> <td> 0.103</td> <td>   -0.164</td> <td>    0.015</td>\n",
       "</tr>\n",
       "<tr>\n",
       "  <th>Functional_Mod</th>        <td>   -0.0983</td> <td>    0.054</td> <td>   -1.830</td> <td> 0.068</td> <td>   -0.204</td> <td>    0.007</td>\n",
       "</tr>\n",
       "<tr>\n",
       "  <th>Functional_Sev</th>        <td>   -0.3381</td> <td>    0.143</td> <td>   -2.370</td> <td> 0.018</td> <td>   -0.618</td> <td>   -0.058</td>\n",
       "</tr>\n",
       "<tr>\n",
       "  <th>Functional_Typ</th>        <td>   -0.0018</td> <td>    0.039</td> <td>   -0.047</td> <td> 0.963</td> <td>   -0.079</td> <td>    0.075</td>\n",
       "</tr>\n",
       "<tr>\n",
       "  <th>Functional_nan</th>        <td>         0</td> <td>        0</td> <td>      nan</td> <td>   nan</td> <td>        0</td> <td>        0</td>\n",
       "</tr>\n",
       "<tr>\n",
       "  <th>GarageType_Attchd</th>     <td>    0.0660</td> <td>    0.059</td> <td>    1.124</td> <td> 0.261</td> <td>   -0.049</td> <td>    0.181</td>\n",
       "</tr>\n",
       "<tr>\n",
       "  <th>GarageType_Basment</th>    <td>    0.0800</td> <td>    0.068</td> <td>    1.183</td> <td> 0.237</td> <td>   -0.053</td> <td>    0.213</td>\n",
       "</tr>\n",
       "<tr>\n",
       "  <th>GarageType_BuiltIn</th>    <td>    0.0614</td> <td>    0.061</td> <td>    1.012</td> <td> 0.312</td> <td>   -0.058</td> <td>    0.180</td>\n",
       "</tr>\n",
       "<tr>\n",
       "  <th>GarageType_CarPort</th>    <td>    0.0387</td> <td>    0.080</td> <td>    0.485</td> <td> 0.628</td> <td>   -0.118</td> <td>    0.195</td>\n",
       "</tr>\n",
       "<tr>\n",
       "  <th>GarageType_Detchd</th>     <td>    0.0833</td> <td>    0.059</td> <td>    1.415</td> <td> 0.157</td> <td>   -0.032</td> <td>    0.199</td>\n",
       "</tr>\n",
       "<tr>\n",
       "  <th>GarageType_nan</th>        <td>    0.3448</td> <td>    0.120</td> <td>    2.862</td> <td> 0.004</td> <td>    0.108</td> <td>    0.581</td>\n",
       "</tr>\n",
       "<tr>\n",
       "  <th>PavedDrive_P</th>          <td>   -0.0518</td> <td>    0.029</td> <td>   -1.816</td> <td> 0.070</td> <td>   -0.108</td> <td>    0.004</td>\n",
       "</tr>\n",
       "<tr>\n",
       "  <th>PavedDrive_Y</th>          <td>   -0.0017</td> <td>    0.018</td> <td>   -0.095</td> <td> 0.924</td> <td>   -0.036</td> <td>    0.033</td>\n",
       "</tr>\n",
       "<tr>\n",
       "  <th>PavedDrive_nan</th>        <td>         0</td> <td>        0</td> <td>      nan</td> <td>   nan</td> <td>        0</td> <td>        0</td>\n",
       "</tr>\n",
       "<tr>\n",
       "  <th>SaleType_CWD</th>          <td>   -0.0153</td> <td>    0.071</td> <td>   -0.217</td> <td> 0.828</td> <td>   -0.154</td> <td>    0.123</td>\n",
       "</tr>\n",
       "<tr>\n",
       "  <th>SaleType_Con</th>          <td>    0.0843</td> <td>    0.083</td> <td>    1.010</td> <td> 0.313</td> <td>   -0.080</td> <td>    0.248</td>\n",
       "</tr>\n",
       "<tr>\n",
       "  <th>SaleType_ConLD</th>        <td>    0.2527</td> <td>    0.064</td> <td>    3.978</td> <td> 0.000</td> <td>    0.128</td> <td>    0.377</td>\n",
       "</tr>\n",
       "<tr>\n",
       "  <th>SaleType_ConLI</th>        <td>    0.0195</td> <td>    0.055</td> <td>    0.352</td> <td> 0.725</td> <td>   -0.089</td> <td>    0.128</td>\n",
       "</tr>\n",
       "<tr>\n",
       "  <th>SaleType_ConLw</th>        <td>    0.0255</td> <td>    0.064</td> <td>    0.397</td> <td> 0.691</td> <td>   -0.100</td> <td>    0.151</td>\n",
       "</tr>\n",
       "<tr>\n",
       "  <th>SaleType_New</th>          <td>    0.3997</td> <td>    0.094</td> <td>    4.274</td> <td> 0.000</td> <td>    0.216</td> <td>    0.583</td>\n",
       "</tr>\n",
       "<tr>\n",
       "  <th>SaleType_Oth</th>          <td>   -0.0090</td> <td>    0.082</td> <td>   -0.110</td> <td> 0.912</td> <td>   -0.169</td> <td>    0.151</td>\n",
       "</tr>\n",
       "<tr>\n",
       "  <th>SaleType_WD</th>           <td>   -0.0053</td> <td>    0.022</td> <td>   -0.248</td> <td> 0.804</td> <td>   -0.048</td> <td>    0.037</td>\n",
       "</tr>\n",
       "<tr>\n",
       "  <th>SaleType_nan</th>          <td>         0</td> <td>        0</td> <td>      nan</td> <td>   nan</td> <td>        0</td> <td>        0</td>\n",
       "</tr>\n",
       "<tr>\n",
       "  <th>SaleCondition_AdjLand</th> <td>    0.1141</td> <td>    0.072</td> <td>    1.576</td> <td> 0.115</td> <td>   -0.028</td> <td>    0.256</td>\n",
       "</tr>\n",
       "<tr>\n",
       "  <th>SaleCondition_Alloca</th>  <td>    0.1253</td> <td>    0.046</td> <td>    2.720</td> <td> 0.007</td> <td>    0.035</td> <td>    0.216</td>\n",
       "</tr>\n",
       "<tr>\n",
       "  <th>SaleCondition_Family</th>  <td>    0.0389</td> <td>    0.031</td> <td>    1.251</td> <td> 0.211</td> <td>   -0.022</td> <td>    0.100</td>\n",
       "</tr>\n",
       "<tr>\n",
       "  <th>SaleCondition_Normal</th>  <td>    0.0630</td> <td>    0.016</td> <td>    4.026</td> <td> 0.000</td> <td>    0.032</td> <td>    0.094</td>\n",
       "</tr>\n",
       "<tr>\n",
       "  <th>SaleCondition_Partial</th> <td>   -0.2976</td> <td>    0.091</td> <td>   -3.254</td> <td> 0.001</td> <td>   -0.477</td> <td>   -0.118</td>\n",
       "</tr>\n",
       "<tr>\n",
       "  <th>SaleCondition_nan</th>     <td>         0</td> <td>        0</td> <td>      nan</td> <td>   nan</td> <td>        0</td> <td>        0</td>\n",
       "</tr>\n",
       "</table>"
      ],
      "text/plain": [
       "<class 'statsmodels.iolib.table.SimpleTable'>"
      ]
     },
     "execution_count": 265,
     "metadata": {},
     "output_type": "execute_result"
    }
   ],
   "source": [
    "import statsmodels.api as sm \n",
    "X_add_const = sm.add_constant(X_train)\n",
    "ols3 = sm.OLS(y_train, X_add_const)\n",
    "ans = ols3.fit()\n",
    "# print(ans.summary())\n",
    "ans.summary().tables[1]"
   ]
  },
  {
   "cell_type": "markdown",
   "metadata": {},
   "source": [
    "## Comparing R^2 to All other Features"
   ]
  },
  {
   "cell_type": "code",
   "execution_count": null,
   "metadata": {},
   "outputs": [],
   "source": [
    "cont_features = ['LotFrontage', 'LotArea', \"OverallQual\", \"OverallCond\", \"YearBuilt\", \"YearRemodAdd\", 'MasVnrArea', \n",
    "                \"ExterQual\", \"ExterCond\", \"BsmtQual\", \"BsmtCond\", \"BsmtExposure\", \"BsmtFinType1\", \"BsmtFinType2\", \n",
    "                \"BsmtUnfSF\", \"HeatingQC\", 'TotalBsmtSF', '1stFlrSF', '2ndFlrSF', 'LowQualFinSF', \"BsmtFullBath\", \n",
    "                'GrLivArea', \"BsmtHalfBath\", \"FullBath\", \"HalfBath\", \"BedroomAbvGr\", \"KitchenAbvGr\", \"KitchenQual\", \n",
    "                \"TotRmsAbvGrd\", \"Fireplaces\", \"FireplaceQu\", 'GarageArea', \"GarageFinish\", \"GarageArea\", \"GarageQual\",\n",
    "                \"MiscVal\", \"MoSold\", \"YrSold\", 'TotalPorchSqft']\n",
    "scores = {}\n",
    "ols2 = linear_model.LinearRegression()\n",
    "for feature_name in cont_features:\n",
    "    df2 = houses.copy().drop(\"GarageYrBlt\", axis=1)\n",
    "    df2 = pd.get_dummies(df2, drop_first=True, dummy_na=True)\n",
    "    feature = df2[feature_name].copy()\n",
    "    df2.drop(feature_name, axis=1, inplace=True)\n",
    "    ols2.fit(df2, feature)\n",
    "    scores[feature_name] = ols2.score(df2, feature) "
   ]
  },
  {
   "cell_type": "code",
   "execution_count": null,
   "metadata": {},
   "outputs": [],
   "source": [
    "plt.figure(figsize=(15,8))\n",
    "ax = sns.barplot(x='index', y='R2', data=pd.DataFrame(scores, index=['R2']).T.reset_index().sort_values([\"R2\"]))\n",
    "plt.title('$R^2$ of a continuous feature against the other features')\n",
    "for item in ax.get_xticklabels(): item.set_rotation(90)"
   ]
  },
  {
   "cell_type": "code",
   "execution_count": null,
   "metadata": {},
   "outputs": [],
   "source": []
  },
  {
   "cell_type": "code",
   "execution_count": null,
   "metadata": {},
   "outputs": [],
   "source": []
  },
  {
   "cell_type": "code",
   "execution_count": null,
   "metadata": {},
   "outputs": [],
   "source": []
  },
  {
   "cell_type": "code",
   "execution_count": null,
   "metadata": {},
   "outputs": [],
   "source": []
  },
  {
   "cell_type": "code",
   "execution_count": null,
   "metadata": {},
   "outputs": [],
   "source": []
  },
  {
   "cell_type": "markdown",
   "metadata": {
    "heading_collapsed": true
   },
   "source": [
    "# Visualization of Data"
   ]
  },
  {
   "cell_type": "markdown",
   "metadata": {
    "hidden": true
   },
   "source": [
    "### 1. 1st and 2nd Floor  and Basement SQFT against Price"
   ]
  },
  {
   "cell_type": "code",
   "execution_count": null,
   "metadata": {
    "hidden": true,
    "scrolled": true
   },
   "outputs": [],
   "source": [
    "fig, axes = plt.subplots(nrows=1, ncols=3, figsize=(15, 4))\n",
    "houses.plot(ax=axes[0], kind='scatter', x='1stFlrSF', y='SalePrice',c='b', alpha=.2)\n",
    "houses.plot(ax=axes[1], kind='scatter', x='2ndFlrSF', y='SalePrice',c='r', alpha=.2)\n",
    "houses.plot(ax=axes[2], kind='scatter', x='TotalBsmtSF', y='SalePrice',c='g', alpha=.2)\n",
    "plt.show()"
   ]
  },
  {
   "cell_type": "markdown",
   "metadata": {
    "hidden": true
   },
   "source": [
    "### 2. Lot Frontage, Year Built, and Year Remodelled against Price"
   ]
  },
  {
   "cell_type": "code",
   "execution_count": null,
   "metadata": {
    "hidden": true,
    "scrolled": true
   },
   "outputs": [],
   "source": [
    "fig, axes = plt.subplots(nrows=1, ncols=3, figsize=(15, 4))\n",
    "houses.plot(ax=axes[0], kind='scatter', x='LotFrontage', y='SalePrice',c='b',  alpha=.2)\n",
    "houses.plot(ax=axes[1], kind='scatter', x='YearBuilt', y='SalePrice',c='r', alpha=.2)\n",
    "houses.plot(ax=axes[2], kind='scatter', x='YearRemodAdd', y='SalePrice',c='g', alpha=.2)\n",
    "plt.show()"
   ]
  },
  {
   "cell_type": "markdown",
   "metadata": {
    "hidden": true
   },
   "source": [
    "### 3. Overall Quality against Price"
   ]
  },
  {
   "cell_type": "code",
   "execution_count": null,
   "metadata": {
    "hidden": true
   },
   "outputs": [],
   "source": [
    "import seaborn as sns\n",
    "g = sns.FacetGrid(data=houses, col=\"OverallQual\", hue=\"OverallQual\", palette=\"tab20c\",\n",
    "                     col_wrap=5, height=3)\n",
    "g.map(plt.hist, \"SalePrice\")"
   ]
  },
  {
   "cell_type": "code",
   "execution_count": null,
   "metadata": {
    "hidden": true,
    "scrolled": true
   },
   "outputs": [],
   "source": [
    "sns.violinplot(x=\"OverallQual\", y=\"SalePrice\", data=houses)"
   ]
  },
  {
   "cell_type": "code",
   "execution_count": null,
   "metadata": {
    "hidden": true
   },
   "outputs": [],
   "source": [
    "sns.lmplot(y=\"SalePrice\", x=\"OverallQual\", hue=\"OverallQual\",\n",
    "               height=7, data=houses)"
   ]
  },
  {
   "cell_type": "markdown",
   "metadata": {
    "hidden": true
   },
   "source": [
    "### 4. MS Zoning against Price"
   ]
  },
  {
   "cell_type": "code",
   "execution_count": null,
   "metadata": {
    "hidden": true,
    "scrolled": true
   },
   "outputs": [],
   "source": [
    "sns.violinplot(x=\"MSZoning\", y=\"SalePrice\", data=houses, palette=\"Set3\", scale=\"count\", order=[\"C (all)\", \"RM\", \"RH\", \"RL\", \"FV\"])"
   ]
  },
  {
   "cell_type": "markdown",
   "metadata": {
    "hidden": true
   },
   "source": [
    "### 5. Total Porch and Deck SQFT (feature eng.) against Price"
   ]
  },
  {
   "cell_type": "code",
   "execution_count": null,
   "metadata": {
    "hidden": true,
    "scrolled": true
   },
   "outputs": [],
   "source": [
    "houses.plot(kind='scatter', x='TotalPorchSqft', y='SalePrice',c='maroon', alpha=.2)\n",
    "plt.show()"
   ]
  },
  {
   "cell_type": "markdown",
   "metadata": {
    "hidden": true
   },
   "source": [
    "### 6. Year Built grouped by Exterior Quality against Price"
   ]
  },
  {
   "cell_type": "code",
   "execution_count": null,
   "metadata": {
    "hidden": true,
    "scrolled": false
   },
   "outputs": [],
   "source": [
    "sns.lmplot(x=\"YearBuilt\", y=\"SalePrice\", hue=\"ExterQual\",\n",
    "               height=10, data=houses)"
   ]
  },
  {
   "cell_type": "markdown",
   "metadata": {
    "hidden": true
   },
   "source": [
    "### 7. Overall Condition against Price"
   ]
  },
  {
   "cell_type": "code",
   "execution_count": null,
   "metadata": {
    "hidden": true
   },
   "outputs": [],
   "source": [
    "sns.violinplot(x=\"OverallCond\", y=\"SalePrice\", data=houses, palette=\"Set3\", scale= \"count\")"
   ]
  },
  {
   "cell_type": "markdown",
   "metadata": {
    "hidden": true
   },
   "source": [
    "### 8. Above Ground Living Area SQFT grouped by Overall Quality against Price"
   ]
  },
  {
   "cell_type": "code",
   "execution_count": null,
   "metadata": {
    "hidden": true
   },
   "outputs": [],
   "source": [
    "sns.lmplot(x=\"GrLivArea\", y=\"SalePrice\", hue=\"OverallQual\",\n",
    "               height=5, data=houses.loc[houses[\"OverallQual\"] > 5])"
   ]
  },
  {
   "cell_type": "code",
   "execution_count": null,
   "metadata": {
    "hidden": true
   },
   "outputs": [],
   "source": [
    "# sns.lmplot(x=\"YearBuilt\", y=\"SalePrice\", hue=\"OverallCond\",\n",
    "#                height=5, data=houses.loc[houses[\"OverallCond\"] == 5])"
   ]
  },
  {
   "cell_type": "markdown",
   "metadata": {
    "hidden": true
   },
   "source": [
    "### 9. Log of Sale Price"
   ]
  },
  {
   "cell_type": "code",
   "execution_count": 26,
   "metadata": {
    "hidden": true,
    "scrolled": false
   },
   "outputs": [
    {
     "data": {
      "text/plain": [
       "((array([-3.30340654, -3.04607408, -2.90296155, ...,  2.90296155,\n",
       "          3.04607408,  3.30340654]),\n",
       "  array([7.16840692, 7.17361177, 7.20496751, ..., 8.31839844, 8.38044705,\n",
       "         8.38512322])),\n",
       " (0.1568385672423813, 7.820379093304842, 0.9954920322296986))"
      ]
     },
     "execution_count": 26,
     "metadata": {},
     "output_type": "execute_result"
    },
    {
     "data": {
      "image/png": "[encoded data removed]",
      "text/plain": [
       "<Figure size 432x288 with 1 Axes>"
      ]
     },
     "metadata": {
      "needs_background": "light"
     },
     "output_type": "display_data"
    }
   ],
   "source": [
    "from scipy import stats\n",
    "stats.probplot(stats.boxcox(houses.SalePrice)[0], plot=plt)"
   ]
  },
  {
   "cell_type": "code",
   "execution_count": null,
   "metadata": {
    "hidden": true
   },
   "outputs": [],
   "source": []
  },
  {
   "cell_type": "code",
   "execution_count": null,
   "metadata": {
    "hidden": true
   },
   "outputs": [],
   "source": []
  },
  {
   "cell_type": "code",
   "execution_count": null,
   "metadata": {
    "hidden": true,
    "scrolled": true
   },
   "outputs": [],
   "source": [
    "# houses[(houses['CentralAir'] == \"N\")][[\"SalePrice\", \"YearBuilt\"]].plot.scatter(x=\"YearBuilt\", y=\"SalePrice\")\n",
    "# houses[(houses['Alley'] == \"Grvl\")].plot.bar()#[[\"SalePrice\", \"YearBuilt\"]].plot.scatter(x=\"YearBuilt\", y=\"SalePrice\")"
   ]
  },
  {
   "cell_type": "code",
   "execution_count": null,
   "metadata": {
    "hidden": true
   },
   "outputs": [],
   "source": [
    "# houses['CentralAir'].hist()"
   ]
  },
  {
   "cell_type": "code",
   "execution_count": null,
   "metadata": {
    "hidden": true
   },
   "outputs": [],
   "source": [
    "# houses.groupby([\"BsmtFinType1\", \"MSSubClass\"])[[\"MSSubClass\"]].count().plot.bar(figsize = (15, 5))"
   ]
  },
  {
   "cell_type": "code",
   "execution_count": null,
   "metadata": {
    "hidden": true
   },
   "outputs": [],
   "source": [
    "# houses[(houses[\"PoolArea\"] != 0)][\"SalePrice\"]"
   ]
  },
  {
   "cell_type": "code",
   "execution_count": null,
   "metadata": {
    "hidden": true
   },
   "outputs": [],
   "source": [
    "# houses[\"SalePrice\"].mean()"
   ]
  },
  {
   "cell_type": "code",
   "execution_count": null,
   "metadata": {
    "hidden": true
   },
   "outputs": [],
   "source": [
    "# gargqual = houses.replace(np.nan, \"NA\").groupby([\"GarageQual\"])[\"GarageQual\"].count()\n",
    "# gargfin = houses.replace(np.nan, \"NA\").groupby([\"GarageFinish\"])[\"GarageFinish\"].count()\n",
    "# plt.bar(x=gargqual.index, height=gargqual.values)"
   ]
  },
  {
   "cell_type": "code",
   "execution_count": null,
   "metadata": {
    "hidden": true
   },
   "outputs": [],
   "source": [
    "# houses.groupby(\"MasVnrType\")[[\"MasVnrType\"]].count().plot.bar()\n",
    "# houses[\"AvgMasArea\"] = houses.cut(\"MasVnrArea\", 20)\n",
    "# houses[[\"MasVnrArea\", \"SalePrice\"]].plot.scatter(x=\"MasVnrArea\" , y=\"SalePrice\" )"
   ]
  },
  {
   "cell_type": "code",
   "execution_count": null,
   "metadata": {
    "hidden": true
   },
   "outputs": [],
   "source": [
    "# houses[\"YearBuilt\"].sort_values(ascending=False)"
   ]
  },
  {
   "cell_type": "code",
   "execution_count": null,
   "metadata": {
    "hidden": true
   },
   "outputs": [],
   "source": []
  }
 ],
 "metadata": {
  "kernelspec": {
   "display_name": "Python 3",
   "language": "python",
   "name": "python3"
  },
  "language_info": {
   "codemirror_mode": {
    "name": "ipython",
    "version": 3
   },
   "file_extension": ".py",
   "mimetype": "text/x-python",
   "name": "python",
   "nbconvert_exporter": "python",
   "pygments_lexer": "ipython3",
   "version": "3.7.6"
  },
  "varInspector": {
   "cols": {
    "lenName": 16,
    "lenType": 16,
    "lenVar": 40
   },
   "kernels_config": {
    "python": {
     "delete_cmd_postfix": "",
     "delete_cmd_prefix": "del ",
     "library": "var_list.py",
     "varRefreshCmd": "print(var_dic_list())"
    },
    "r": {
     "delete_cmd_postfix": ") ",
     "delete_cmd_prefix": "rm(",
     "library": "var_list.r",
     "varRefreshCmd": "cat(var_dic_list()) "
    }
   },
   "types_to_exclude": [
    "module",
    "function",
    "builtin_function_or_method",
    "instance",
    "_Feature"
   ],
   "window_display": false
  }
 },
 "nbformat": 4,
 "nbformat_minor": 4
}
