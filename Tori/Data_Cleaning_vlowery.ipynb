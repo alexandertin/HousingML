{
 "cells": [
  {
   "cell_type": "markdown",
   "metadata": {},
   "source": [
    "# Tori Lowery's Data Cleaning"
   ]
  },
  {
   "cell_type": "code",
   "execution_count": 1,
   "metadata": {
    "scrolled": false
   },
   "outputs": [
    {
     "data": {
      "text/html": [
       "<div>\n",
       "<style scoped>\n",
       "    .dataframe tbody tr th:only-of-type {\n",
       "        vertical-align: middle;\n",
       "    }\n",
       "\n",
       "    .dataframe tbody tr th {\n",
       "        vertical-align: top;\n",
       "    }\n",
       "\n",
       "    .dataframe thead th {\n",
       "        text-align: right;\n",
       "    }\n",
       "</style>\n",
       "<table border=\"1\" class=\"dataframe\">\n",
       "  <thead>\n",
       "    <tr style=\"text-align: right;\">\n",
       "      <th></th>\n",
       "      <th>MSSubClass</th>\n",
       "      <th>MSZoning</th>\n",
       "      <th>LotFrontage</th>\n",
       "      <th>LotArea</th>\n",
       "      <th>Street</th>\n",
       "      <th>Alley</th>\n",
       "      <th>LotShape</th>\n",
       "      <th>LandContour</th>\n",
       "      <th>Utilities</th>\n",
       "      <th>LandSlope</th>\n",
       "      <th>Neighborhood</th>\n",
       "      <th>Condition1</th>\n",
       "      <th>Condition2</th>\n",
       "      <th>BldgType</th>\n",
       "      <th>HouseStyle</th>\n",
       "      <th>OverallQual</th>\n",
       "      <th>OverallCond</th>\n",
       "      <th>YearBuilt</th>\n",
       "      <th>YearRemodAdd</th>\n",
       "      <th>RoofStyle</th>\n",
       "      <th>RoofMatl</th>\n",
       "      <th>Exterior1st</th>\n",
       "      <th>Exterior2nd</th>\n",
       "      <th>MasVnrType</th>\n",
       "      <th>MasVnrArea</th>\n",
       "      <th>ExterQual</th>\n",
       "      <th>ExterCond</th>\n",
       "      <th>Foundation</th>\n",
       "      <th>BsmtQual</th>\n",
       "      <th>BsmtCond</th>\n",
       "      <th>BsmtExposure</th>\n",
       "      <th>BsmtFinType1</th>\n",
       "      <th>BsmtFinType2</th>\n",
       "      <th>BsmtUnfSF</th>\n",
       "      <th>TotalBsmtSF</th>\n",
       "      <th>Heating</th>\n",
       "      <th>HeatingQC</th>\n",
       "      <th>CentralAir</th>\n",
       "      <th>Electrical</th>\n",
       "      <th>1stFlrSF</th>\n",
       "      <th>2ndFlrSF</th>\n",
       "      <th>LowQualFinSF</th>\n",
       "      <th>GrLivArea</th>\n",
       "      <th>BsmtFullBath</th>\n",
       "      <th>BsmtHalfBath</th>\n",
       "      <th>FullBath</th>\n",
       "      <th>HalfBath</th>\n",
       "      <th>BedroomAbvGr</th>\n",
       "      <th>KitchenAbvGr</th>\n",
       "      <th>KitchenQual</th>\n",
       "      <th>TotRmsAbvGrd</th>\n",
       "      <th>Functional</th>\n",
       "      <th>Fireplaces</th>\n",
       "      <th>FireplaceQu</th>\n",
       "      <th>GarageType</th>\n",
       "      <th>GarageYrBlt</th>\n",
       "      <th>GarageFinish</th>\n",
       "      <th>GarageArea</th>\n",
       "      <th>GarageQual</th>\n",
       "      <th>PavedDrive</th>\n",
       "      <th>MiscVal</th>\n",
       "      <th>MoSold</th>\n",
       "      <th>YrSold</th>\n",
       "      <th>SaleType</th>\n",
       "      <th>SaleCondition</th>\n",
       "      <th>SalePrice</th>\n",
       "      <th>TotalPorchSqft</th>\n",
       "    </tr>\n",
       "    <tr>\n",
       "      <th>Id</th>\n",
       "      <th></th>\n",
       "      <th></th>\n",
       "      <th></th>\n",
       "      <th></th>\n",
       "      <th></th>\n",
       "      <th></th>\n",
       "      <th></th>\n",
       "      <th></th>\n",
       "      <th></th>\n",
       "      <th></th>\n",
       "      <th></th>\n",
       "      <th></th>\n",
       "      <th></th>\n",
       "      <th></th>\n",
       "      <th></th>\n",
       "      <th></th>\n",
       "      <th></th>\n",
       "      <th></th>\n",
       "      <th></th>\n",
       "      <th></th>\n",
       "      <th></th>\n",
       "      <th></th>\n",
       "      <th></th>\n",
       "      <th></th>\n",
       "      <th></th>\n",
       "      <th></th>\n",
       "      <th></th>\n",
       "      <th></th>\n",
       "      <th></th>\n",
       "      <th></th>\n",
       "      <th></th>\n",
       "      <th></th>\n",
       "      <th></th>\n",
       "      <th></th>\n",
       "      <th></th>\n",
       "      <th></th>\n",
       "      <th></th>\n",
       "      <th></th>\n",
       "      <th></th>\n",
       "      <th></th>\n",
       "      <th></th>\n",
       "      <th></th>\n",
       "      <th></th>\n",
       "      <th></th>\n",
       "      <th></th>\n",
       "      <th></th>\n",
       "      <th></th>\n",
       "      <th></th>\n",
       "      <th></th>\n",
       "      <th></th>\n",
       "      <th></th>\n",
       "      <th></th>\n",
       "      <th></th>\n",
       "      <th></th>\n",
       "      <th></th>\n",
       "      <th></th>\n",
       "      <th></th>\n",
       "      <th></th>\n",
       "      <th></th>\n",
       "      <th></th>\n",
       "      <th></th>\n",
       "      <th></th>\n",
       "      <th></th>\n",
       "      <th></th>\n",
       "      <th></th>\n",
       "      <th></th>\n",
       "      <th></th>\n",
       "    </tr>\n",
       "  </thead>\n",
       "  <tbody>\n",
       "    <tr>\n",
       "      <th>1</th>\n",
       "      <td>60</td>\n",
       "      <td>RL</td>\n",
       "      <td>65.000000</td>\n",
       "      <td>8450</td>\n",
       "      <td>Pave</td>\n",
       "      <td>0</td>\n",
       "      <td>Reg</td>\n",
       "      <td>Lvl</td>\n",
       "      <td>AllPub</td>\n",
       "      <td>Gtl</td>\n",
       "      <td>CollgCr</td>\n",
       "      <td>Norm</td>\n",
       "      <td>Norm</td>\n",
       "      <td>1Fam</td>\n",
       "      <td>2Story</td>\n",
       "      <td>7</td>\n",
       "      <td>5</td>\n",
       "      <td>2003</td>\n",
       "      <td>2003</td>\n",
       "      <td>Gable</td>\n",
       "      <td>CompShg</td>\n",
       "      <td>VinylSd</td>\n",
       "      <td>VinylSd</td>\n",
       "      <td>BrkFace</td>\n",
       "      <td>196.0</td>\n",
       "      <td>3</td>\n",
       "      <td>2</td>\n",
       "      <td>PConc</td>\n",
       "      <td>4</td>\n",
       "      <td>3</td>\n",
       "      <td>1</td>\n",
       "      <td>6</td>\n",
       "      <td>1</td>\n",
       "      <td>150</td>\n",
       "      <td>856</td>\n",
       "      <td>GasA</td>\n",
       "      <td>5</td>\n",
       "      <td>Y</td>\n",
       "      <td>SBrkr</td>\n",
       "      <td>856</td>\n",
       "      <td>854</td>\n",
       "      <td>0</td>\n",
       "      <td>1710</td>\n",
       "      <td>1</td>\n",
       "      <td>0</td>\n",
       "      <td>2</td>\n",
       "      <td>1</td>\n",
       "      <td>3</td>\n",
       "      <td>1</td>\n",
       "      <td>4</td>\n",
       "      <td>8</td>\n",
       "      <td>Typ</td>\n",
       "      <td>0</td>\n",
       "      <td>5</td>\n",
       "      <td>Attchd</td>\n",
       "      <td>2003.0</td>\n",
       "      <td>2</td>\n",
       "      <td>548</td>\n",
       "      <td>3</td>\n",
       "      <td>Y</td>\n",
       "      <td>0</td>\n",
       "      <td>2</td>\n",
       "      <td>2008</td>\n",
       "      <td>WD</td>\n",
       "      <td>Normal</td>\n",
       "      <td>208500</td>\n",
       "      <td>61</td>\n",
       "    </tr>\n",
       "    <tr>\n",
       "      <th>2</th>\n",
       "      <td>20</td>\n",
       "      <td>RL</td>\n",
       "      <td>80.000000</td>\n",
       "      <td>9600</td>\n",
       "      <td>Pave</td>\n",
       "      <td>0</td>\n",
       "      <td>Reg</td>\n",
       "      <td>Lvl</td>\n",
       "      <td>AllPub</td>\n",
       "      <td>Gtl</td>\n",
       "      <td>Veenker</td>\n",
       "      <td>Feedr</td>\n",
       "      <td>Norm</td>\n",
       "      <td>1Fam</td>\n",
       "      <td>1Story</td>\n",
       "      <td>6</td>\n",
       "      <td>8</td>\n",
       "      <td>1976</td>\n",
       "      <td>1976</td>\n",
       "      <td>Gable</td>\n",
       "      <td>CompShg</td>\n",
       "      <td>MetalSd</td>\n",
       "      <td>MetalSd</td>\n",
       "      <td>None</td>\n",
       "      <td>0.0</td>\n",
       "      <td>2</td>\n",
       "      <td>2</td>\n",
       "      <td>CBlock</td>\n",
       "      <td>4</td>\n",
       "      <td>3</td>\n",
       "      <td>4</td>\n",
       "      <td>5</td>\n",
       "      <td>1</td>\n",
       "      <td>284</td>\n",
       "      <td>1262</td>\n",
       "      <td>GasA</td>\n",
       "      <td>5</td>\n",
       "      <td>Y</td>\n",
       "      <td>SBrkr</td>\n",
       "      <td>1262</td>\n",
       "      <td>0</td>\n",
       "      <td>0</td>\n",
       "      <td>1262</td>\n",
       "      <td>0</td>\n",
       "      <td>1</td>\n",
       "      <td>2</td>\n",
       "      <td>0</td>\n",
       "      <td>3</td>\n",
       "      <td>1</td>\n",
       "      <td>3</td>\n",
       "      <td>6</td>\n",
       "      <td>Typ</td>\n",
       "      <td>1</td>\n",
       "      <td>3</td>\n",
       "      <td>Attchd</td>\n",
       "      <td>1976.0</td>\n",
       "      <td>2</td>\n",
       "      <td>460</td>\n",
       "      <td>3</td>\n",
       "      <td>Y</td>\n",
       "      <td>0</td>\n",
       "      <td>5</td>\n",
       "      <td>2007</td>\n",
       "      <td>WD</td>\n",
       "      <td>Normal</td>\n",
       "      <td>181500</td>\n",
       "      <td>298</td>\n",
       "    </tr>\n",
       "    <tr>\n",
       "      <th>3</th>\n",
       "      <td>60</td>\n",
       "      <td>RL</td>\n",
       "      <td>68.000000</td>\n",
       "      <td>11250</td>\n",
       "      <td>Pave</td>\n",
       "      <td>0</td>\n",
       "      <td>IR1</td>\n",
       "      <td>Lvl</td>\n",
       "      <td>AllPub</td>\n",
       "      <td>Gtl</td>\n",
       "      <td>CollgCr</td>\n",
       "      <td>Norm</td>\n",
       "      <td>Norm</td>\n",
       "      <td>1Fam</td>\n",
       "      <td>2Story</td>\n",
       "      <td>7</td>\n",
       "      <td>5</td>\n",
       "      <td>2001</td>\n",
       "      <td>2002</td>\n",
       "      <td>Gable</td>\n",
       "      <td>CompShg</td>\n",
       "      <td>VinylSd</td>\n",
       "      <td>VinylSd</td>\n",
       "      <td>BrkFace</td>\n",
       "      <td>162.0</td>\n",
       "      <td>3</td>\n",
       "      <td>2</td>\n",
       "      <td>PConc</td>\n",
       "      <td>4</td>\n",
       "      <td>3</td>\n",
       "      <td>2</td>\n",
       "      <td>6</td>\n",
       "      <td>1</td>\n",
       "      <td>434</td>\n",
       "      <td>920</td>\n",
       "      <td>GasA</td>\n",
       "      <td>5</td>\n",
       "      <td>Y</td>\n",
       "      <td>SBrkr</td>\n",
       "      <td>920</td>\n",
       "      <td>866</td>\n",
       "      <td>0</td>\n",
       "      <td>1786</td>\n",
       "      <td>1</td>\n",
       "      <td>0</td>\n",
       "      <td>2</td>\n",
       "      <td>1</td>\n",
       "      <td>3</td>\n",
       "      <td>1</td>\n",
       "      <td>4</td>\n",
       "      <td>6</td>\n",
       "      <td>Typ</td>\n",
       "      <td>1</td>\n",
       "      <td>3</td>\n",
       "      <td>Attchd</td>\n",
       "      <td>2001.0</td>\n",
       "      <td>2</td>\n",
       "      <td>608</td>\n",
       "      <td>3</td>\n",
       "      <td>Y</td>\n",
       "      <td>0</td>\n",
       "      <td>9</td>\n",
       "      <td>2008</td>\n",
       "      <td>WD</td>\n",
       "      <td>Normal</td>\n",
       "      <td>223500</td>\n",
       "      <td>42</td>\n",
       "    </tr>\n",
       "    <tr>\n",
       "      <th>4</th>\n",
       "      <td>70</td>\n",
       "      <td>RL</td>\n",
       "      <td>60.000000</td>\n",
       "      <td>9550</td>\n",
       "      <td>Pave</td>\n",
       "      <td>0</td>\n",
       "      <td>IR1</td>\n",
       "      <td>Lvl</td>\n",
       "      <td>AllPub</td>\n",
       "      <td>Gtl</td>\n",
       "      <td>Crawfor</td>\n",
       "      <td>Norm</td>\n",
       "      <td>Norm</td>\n",
       "      <td>1Fam</td>\n",
       "      <td>2Story</td>\n",
       "      <td>7</td>\n",
       "      <td>5</td>\n",
       "      <td>1915</td>\n",
       "      <td>1970</td>\n",
       "      <td>Gable</td>\n",
       "      <td>CompShg</td>\n",
       "      <td>Wd Sdng</td>\n",
       "      <td>Wd Shng</td>\n",
       "      <td>None</td>\n",
       "      <td>0.0</td>\n",
       "      <td>2</td>\n",
       "      <td>2</td>\n",
       "      <td>BrkTil</td>\n",
       "      <td>3</td>\n",
       "      <td>4</td>\n",
       "      <td>1</td>\n",
       "      <td>5</td>\n",
       "      <td>1</td>\n",
       "      <td>540</td>\n",
       "      <td>756</td>\n",
       "      <td>GasA</td>\n",
       "      <td>4</td>\n",
       "      <td>Y</td>\n",
       "      <td>SBrkr</td>\n",
       "      <td>961</td>\n",
       "      <td>756</td>\n",
       "      <td>0</td>\n",
       "      <td>1717</td>\n",
       "      <td>1</td>\n",
       "      <td>0</td>\n",
       "      <td>1</td>\n",
       "      <td>0</td>\n",
       "      <td>3</td>\n",
       "      <td>1</td>\n",
       "      <td>4</td>\n",
       "      <td>7</td>\n",
       "      <td>Typ</td>\n",
       "      <td>1</td>\n",
       "      <td>4</td>\n",
       "      <td>Detchd</td>\n",
       "      <td>1998.0</td>\n",
       "      <td>1</td>\n",
       "      <td>642</td>\n",
       "      <td>3</td>\n",
       "      <td>Y</td>\n",
       "      <td>0</td>\n",
       "      <td>2</td>\n",
       "      <td>2006</td>\n",
       "      <td>WD</td>\n",
       "      <td>Abnorml</td>\n",
       "      <td>140000</td>\n",
       "      <td>307</td>\n",
       "    </tr>\n",
       "    <tr>\n",
       "      <th>5</th>\n",
       "      <td>60</td>\n",
       "      <td>RL</td>\n",
       "      <td>84.000000</td>\n",
       "      <td>14260</td>\n",
       "      <td>Pave</td>\n",
       "      <td>0</td>\n",
       "      <td>IR1</td>\n",
       "      <td>Lvl</td>\n",
       "      <td>AllPub</td>\n",
       "      <td>Gtl</td>\n",
       "      <td>NoRidge</td>\n",
       "      <td>Norm</td>\n",
       "      <td>Norm</td>\n",
       "      <td>1Fam</td>\n",
       "      <td>2Story</td>\n",
       "      <td>8</td>\n",
       "      <td>5</td>\n",
       "      <td>2000</td>\n",
       "      <td>2000</td>\n",
       "      <td>Gable</td>\n",
       "      <td>CompShg</td>\n",
       "      <td>VinylSd</td>\n",
       "      <td>VinylSd</td>\n",
       "      <td>BrkFace</td>\n",
       "      <td>350.0</td>\n",
       "      <td>3</td>\n",
       "      <td>2</td>\n",
       "      <td>PConc</td>\n",
       "      <td>4</td>\n",
       "      <td>3</td>\n",
       "      <td>3</td>\n",
       "      <td>6</td>\n",
       "      <td>1</td>\n",
       "      <td>490</td>\n",
       "      <td>1145</td>\n",
       "      <td>GasA</td>\n",
       "      <td>5</td>\n",
       "      <td>Y</td>\n",
       "      <td>SBrkr</td>\n",
       "      <td>1145</td>\n",
       "      <td>1053</td>\n",
       "      <td>0</td>\n",
       "      <td>2198</td>\n",
       "      <td>1</td>\n",
       "      <td>0</td>\n",
       "      <td>2</td>\n",
       "      <td>1</td>\n",
       "      <td>4</td>\n",
       "      <td>1</td>\n",
       "      <td>4</td>\n",
       "      <td>9</td>\n",
       "      <td>Typ</td>\n",
       "      <td>1</td>\n",
       "      <td>3</td>\n",
       "      <td>Attchd</td>\n",
       "      <td>2000.0</td>\n",
       "      <td>2</td>\n",
       "      <td>836</td>\n",
       "      <td>3</td>\n",
       "      <td>Y</td>\n",
       "      <td>0</td>\n",
       "      <td>12</td>\n",
       "      <td>2008</td>\n",
       "      <td>WD</td>\n",
       "      <td>Normal</td>\n",
       "      <td>250000</td>\n",
       "      <td>276</td>\n",
       "    </tr>\n",
       "    <tr>\n",
       "      <th>6</th>\n",
       "      <td>50</td>\n",
       "      <td>RL</td>\n",
       "      <td>85.000000</td>\n",
       "      <td>14115</td>\n",
       "      <td>Pave</td>\n",
       "      <td>0</td>\n",
       "      <td>IR1</td>\n",
       "      <td>Lvl</td>\n",
       "      <td>AllPub</td>\n",
       "      <td>Gtl</td>\n",
       "      <td>Mitchel</td>\n",
       "      <td>Norm</td>\n",
       "      <td>Norm</td>\n",
       "      <td>1Fam</td>\n",
       "      <td>1.5Fin</td>\n",
       "      <td>5</td>\n",
       "      <td>5</td>\n",
       "      <td>1993</td>\n",
       "      <td>1995</td>\n",
       "      <td>Gable</td>\n",
       "      <td>CompShg</td>\n",
       "      <td>VinylSd</td>\n",
       "      <td>VinylSd</td>\n",
       "      <td>None</td>\n",
       "      <td>0.0</td>\n",
       "      <td>2</td>\n",
       "      <td>2</td>\n",
       "      <td>Wood</td>\n",
       "      <td>4</td>\n",
       "      <td>3</td>\n",
       "      <td>1</td>\n",
       "      <td>6</td>\n",
       "      <td>1</td>\n",
       "      <td>64</td>\n",
       "      <td>796</td>\n",
       "      <td>GasA</td>\n",
       "      <td>5</td>\n",
       "      <td>Y</td>\n",
       "      <td>SBrkr</td>\n",
       "      <td>796</td>\n",
       "      <td>566</td>\n",
       "      <td>0</td>\n",
       "      <td>1362</td>\n",
       "      <td>1</td>\n",
       "      <td>0</td>\n",
       "      <td>1</td>\n",
       "      <td>1</td>\n",
       "      <td>1</td>\n",
       "      <td>1</td>\n",
       "      <td>3</td>\n",
       "      <td>5</td>\n",
       "      <td>Typ</td>\n",
       "      <td>0</td>\n",
       "      <td>5</td>\n",
       "      <td>Attchd</td>\n",
       "      <td>1993.0</td>\n",
       "      <td>1</td>\n",
       "      <td>480</td>\n",
       "      <td>3</td>\n",
       "      <td>Y</td>\n",
       "      <td>700</td>\n",
       "      <td>10</td>\n",
       "      <td>2009</td>\n",
       "      <td>WD</td>\n",
       "      <td>Normal</td>\n",
       "      <td>143000</td>\n",
       "      <td>390</td>\n",
       "    </tr>\n",
       "    <tr>\n",
       "      <th>7</th>\n",
       "      <td>20</td>\n",
       "      <td>RL</td>\n",
       "      <td>75.000000</td>\n",
       "      <td>10084</td>\n",
       "      <td>Pave</td>\n",
       "      <td>0</td>\n",
       "      <td>Reg</td>\n",
       "      <td>Lvl</td>\n",
       "      <td>AllPub</td>\n",
       "      <td>Gtl</td>\n",
       "      <td>Somerst</td>\n",
       "      <td>Norm</td>\n",
       "      <td>Norm</td>\n",
       "      <td>1Fam</td>\n",
       "      <td>1Story</td>\n",
       "      <td>8</td>\n",
       "      <td>5</td>\n",
       "      <td>2004</td>\n",
       "      <td>2005</td>\n",
       "      <td>Gable</td>\n",
       "      <td>CompShg</td>\n",
       "      <td>VinylSd</td>\n",
       "      <td>VinylSd</td>\n",
       "      <td>Stone</td>\n",
       "      <td>186.0</td>\n",
       "      <td>3</td>\n",
       "      <td>2</td>\n",
       "      <td>PConc</td>\n",
       "      <td>5</td>\n",
       "      <td>3</td>\n",
       "      <td>3</td>\n",
       "      <td>6</td>\n",
       "      <td>1</td>\n",
       "      <td>317</td>\n",
       "      <td>1686</td>\n",
       "      <td>GasA</td>\n",
       "      <td>5</td>\n",
       "      <td>Y</td>\n",
       "      <td>SBrkr</td>\n",
       "      <td>1694</td>\n",
       "      <td>0</td>\n",
       "      <td>0</td>\n",
       "      <td>1694</td>\n",
       "      <td>1</td>\n",
       "      <td>0</td>\n",
       "      <td>2</td>\n",
       "      <td>0</td>\n",
       "      <td>3</td>\n",
       "      <td>1</td>\n",
       "      <td>4</td>\n",
       "      <td>7</td>\n",
       "      <td>Typ</td>\n",
       "      <td>1</td>\n",
       "      <td>4</td>\n",
       "      <td>Attchd</td>\n",
       "      <td>2004.0</td>\n",
       "      <td>2</td>\n",
       "      <td>636</td>\n",
       "      <td>3</td>\n",
       "      <td>Y</td>\n",
       "      <td>0</td>\n",
       "      <td>8</td>\n",
       "      <td>2007</td>\n",
       "      <td>WD</td>\n",
       "      <td>Normal</td>\n",
       "      <td>307000</td>\n",
       "      <td>312</td>\n",
       "    </tr>\n",
       "    <tr>\n",
       "      <th>8</th>\n",
       "      <td>60</td>\n",
       "      <td>RL</td>\n",
       "      <td>84.039801</td>\n",
       "      <td>10382</td>\n",
       "      <td>Pave</td>\n",
       "      <td>0</td>\n",
       "      <td>IR1</td>\n",
       "      <td>Lvl</td>\n",
       "      <td>AllPub</td>\n",
       "      <td>Gtl</td>\n",
       "      <td>NWAmes</td>\n",
       "      <td>PosN</td>\n",
       "      <td>Norm</td>\n",
       "      <td>1Fam</td>\n",
       "      <td>2Story</td>\n",
       "      <td>7</td>\n",
       "      <td>6</td>\n",
       "      <td>1973</td>\n",
       "      <td>1973</td>\n",
       "      <td>Gable</td>\n",
       "      <td>CompShg</td>\n",
       "      <td>HdBoard</td>\n",
       "      <td>HdBoard</td>\n",
       "      <td>Stone</td>\n",
       "      <td>240.0</td>\n",
       "      <td>2</td>\n",
       "      <td>2</td>\n",
       "      <td>CBlock</td>\n",
       "      <td>4</td>\n",
       "      <td>3</td>\n",
       "      <td>2</td>\n",
       "      <td>5</td>\n",
       "      <td>4</td>\n",
       "      <td>216</td>\n",
       "      <td>1107</td>\n",
       "      <td>GasA</td>\n",
       "      <td>5</td>\n",
       "      <td>Y</td>\n",
       "      <td>SBrkr</td>\n",
       "      <td>1107</td>\n",
       "      <td>983</td>\n",
       "      <td>0</td>\n",
       "      <td>2090</td>\n",
       "      <td>1</td>\n",
       "      <td>0</td>\n",
       "      <td>2</td>\n",
       "      <td>1</td>\n",
       "      <td>3</td>\n",
       "      <td>1</td>\n",
       "      <td>3</td>\n",
       "      <td>7</td>\n",
       "      <td>Typ</td>\n",
       "      <td>2</td>\n",
       "      <td>3</td>\n",
       "      <td>Attchd</td>\n",
       "      <td>1973.0</td>\n",
       "      <td>2</td>\n",
       "      <td>484</td>\n",
       "      <td>3</td>\n",
       "      <td>Y</td>\n",
       "      <td>350</td>\n",
       "      <td>11</td>\n",
       "      <td>2009</td>\n",
       "      <td>WD</td>\n",
       "      <td>Normal</td>\n",
       "      <td>200000</td>\n",
       "      <td>667</td>\n",
       "    </tr>\n",
       "    <tr>\n",
       "      <th>9</th>\n",
       "      <td>50</td>\n",
       "      <td>RM</td>\n",
       "      <td>51.000000</td>\n",
       "      <td>6120</td>\n",
       "      <td>Pave</td>\n",
       "      <td>0</td>\n",
       "      <td>Reg</td>\n",
       "      <td>Lvl</td>\n",
       "      <td>AllPub</td>\n",
       "      <td>Gtl</td>\n",
       "      <td>OldTown</td>\n",
       "      <td>Artery</td>\n",
       "      <td>Norm</td>\n",
       "      <td>1Fam</td>\n",
       "      <td>1.5Fin</td>\n",
       "      <td>7</td>\n",
       "      <td>5</td>\n",
       "      <td>1931</td>\n",
       "      <td>1950</td>\n",
       "      <td>Gable</td>\n",
       "      <td>CompShg</td>\n",
       "      <td>BrkFace</td>\n",
       "      <td>Wd Shng</td>\n",
       "      <td>None</td>\n",
       "      <td>0.0</td>\n",
       "      <td>2</td>\n",
       "      <td>2</td>\n",
       "      <td>BrkTil</td>\n",
       "      <td>3</td>\n",
       "      <td>3</td>\n",
       "      <td>1</td>\n",
       "      <td>1</td>\n",
       "      <td>1</td>\n",
       "      <td>952</td>\n",
       "      <td>952</td>\n",
       "      <td>GasA</td>\n",
       "      <td>4</td>\n",
       "      <td>Y</td>\n",
       "      <td>FuseF</td>\n",
       "      <td>1022</td>\n",
       "      <td>752</td>\n",
       "      <td>0</td>\n",
       "      <td>1774</td>\n",
       "      <td>0</td>\n",
       "      <td>0</td>\n",
       "      <td>2</td>\n",
       "      <td>0</td>\n",
       "      <td>2</td>\n",
       "      <td>2</td>\n",
       "      <td>3</td>\n",
       "      <td>8</td>\n",
       "      <td>Min1</td>\n",
       "      <td>2</td>\n",
       "      <td>3</td>\n",
       "      <td>Detchd</td>\n",
       "      <td>1931.0</td>\n",
       "      <td>1</td>\n",
       "      <td>468</td>\n",
       "      <td>2</td>\n",
       "      <td>Y</td>\n",
       "      <td>0</td>\n",
       "      <td>4</td>\n",
       "      <td>2008</td>\n",
       "      <td>WD</td>\n",
       "      <td>Abnorml</td>\n",
       "      <td>129900</td>\n",
       "      <td>295</td>\n",
       "    </tr>\n",
       "    <tr>\n",
       "      <th>10</th>\n",
       "      <td>190</td>\n",
       "      <td>RL</td>\n",
       "      <td>50.000000</td>\n",
       "      <td>7420</td>\n",
       "      <td>Pave</td>\n",
       "      <td>0</td>\n",
       "      <td>Reg</td>\n",
       "      <td>Lvl</td>\n",
       "      <td>AllPub</td>\n",
       "      <td>Gtl</td>\n",
       "      <td>BrkSide</td>\n",
       "      <td>Artery</td>\n",
       "      <td>Artery</td>\n",
       "      <td>2fmCon</td>\n",
       "      <td>1.5Unf</td>\n",
       "      <td>5</td>\n",
       "      <td>6</td>\n",
       "      <td>1939</td>\n",
       "      <td>1950</td>\n",
       "      <td>Gable</td>\n",
       "      <td>CompShg</td>\n",
       "      <td>MetalSd</td>\n",
       "      <td>MetalSd</td>\n",
       "      <td>None</td>\n",
       "      <td>0.0</td>\n",
       "      <td>2</td>\n",
       "      <td>2</td>\n",
       "      <td>BrkTil</td>\n",
       "      <td>3</td>\n",
       "      <td>3</td>\n",
       "      <td>1</td>\n",
       "      <td>6</td>\n",
       "      <td>1</td>\n",
       "      <td>140</td>\n",
       "      <td>991</td>\n",
       "      <td>GasA</td>\n",
       "      <td>5</td>\n",
       "      <td>Y</td>\n",
       "      <td>SBrkr</td>\n",
       "      <td>1077</td>\n",
       "      <td>0</td>\n",
       "      <td>0</td>\n",
       "      <td>1077</td>\n",
       "      <td>1</td>\n",
       "      <td>0</td>\n",
       "      <td>1</td>\n",
       "      <td>0</td>\n",
       "      <td>2</td>\n",
       "      <td>2</td>\n",
       "      <td>3</td>\n",
       "      <td>5</td>\n",
       "      <td>Typ</td>\n",
       "      <td>2</td>\n",
       "      <td>3</td>\n",
       "      <td>Attchd</td>\n",
       "      <td>1939.0</td>\n",
       "      <td>2</td>\n",
       "      <td>205</td>\n",
       "      <td>4</td>\n",
       "      <td>Y</td>\n",
       "      <td>0</td>\n",
       "      <td>1</td>\n",
       "      <td>2008</td>\n",
       "      <td>WD</td>\n",
       "      <td>Normal</td>\n",
       "      <td>118000</td>\n",
       "      <td>4</td>\n",
       "    </tr>\n",
       "  </tbody>\n",
       "</table>\n",
       "</div>"
      ],
      "text/plain": [
       "   MSSubClass MSZoning  LotFrontage  LotArea Street  Alley LotShape  \\\n",
       "Id                                                                    \n",
       "1          60       RL    65.000000     8450   Pave      0      Reg   \n",
       "2          20       RL    80.000000     9600   Pave      0      Reg   \n",
       "3          60       RL    68.000000    11250   Pave      0      IR1   \n",
       "4          70       RL    60.000000     9550   Pave      0      IR1   \n",
       "5          60       RL    84.000000    14260   Pave      0      IR1   \n",
       "6          50       RL    85.000000    14115   Pave      0      IR1   \n",
       "7          20       RL    75.000000    10084   Pave      0      Reg   \n",
       "8          60       RL    84.039801    10382   Pave      0      IR1   \n",
       "9          50       RM    51.000000     6120   Pave      0      Reg   \n",
       "10        190       RL    50.000000     7420   Pave      0      Reg   \n",
       "\n",
       "   LandContour Utilities LandSlope Neighborhood Condition1 Condition2  \\\n",
       "Id                                                                      \n",
       "1          Lvl    AllPub       Gtl      CollgCr       Norm       Norm   \n",
       "2          Lvl    AllPub       Gtl      Veenker      Feedr       Norm   \n",
       "3          Lvl    AllPub       Gtl      CollgCr       Norm       Norm   \n",
       "4          Lvl    AllPub       Gtl      Crawfor       Norm       Norm   \n",
       "5          Lvl    AllPub       Gtl      NoRidge       Norm       Norm   \n",
       "6          Lvl    AllPub       Gtl      Mitchel       Norm       Norm   \n",
       "7          Lvl    AllPub       Gtl      Somerst       Norm       Norm   \n",
       "8          Lvl    AllPub       Gtl       NWAmes       PosN       Norm   \n",
       "9          Lvl    AllPub       Gtl      OldTown     Artery       Norm   \n",
       "10         Lvl    AllPub       Gtl      BrkSide     Artery     Artery   \n",
       "\n",
       "   BldgType HouseStyle  OverallQual  OverallCond  YearBuilt  YearRemodAdd  \\\n",
       "Id                                                                          \n",
       "1      1Fam     2Story            7            5       2003          2003   \n",
       "2      1Fam     1Story            6            8       1976          1976   \n",
       "3      1Fam     2Story            7            5       2001          2002   \n",
       "4      1Fam     2Story            7            5       1915          1970   \n",
       "5      1Fam     2Story            8            5       2000          2000   \n",
       "6      1Fam     1.5Fin            5            5       1993          1995   \n",
       "7      1Fam     1Story            8            5       2004          2005   \n",
       "8      1Fam     2Story            7            6       1973          1973   \n",
       "9      1Fam     1.5Fin            7            5       1931          1950   \n",
       "10   2fmCon     1.5Unf            5            6       1939          1950   \n",
       "\n",
       "   RoofStyle RoofMatl Exterior1st Exterior2nd MasVnrType  MasVnrArea  \\\n",
       "Id                                                                     \n",
       "1      Gable  CompShg     VinylSd     VinylSd    BrkFace       196.0   \n",
       "2      Gable  CompShg     MetalSd     MetalSd       None         0.0   \n",
       "3      Gable  CompShg     VinylSd     VinylSd    BrkFace       162.0   \n",
       "4      Gable  CompShg     Wd Sdng     Wd Shng       None         0.0   \n",
       "5      Gable  CompShg     VinylSd     VinylSd    BrkFace       350.0   \n",
       "6      Gable  CompShg     VinylSd     VinylSd       None         0.0   \n",
       "7      Gable  CompShg     VinylSd     VinylSd      Stone       186.0   \n",
       "8      Gable  CompShg     HdBoard     HdBoard      Stone       240.0   \n",
       "9      Gable  CompShg     BrkFace     Wd Shng       None         0.0   \n",
       "10     Gable  CompShg     MetalSd     MetalSd       None         0.0   \n",
       "\n",
       "    ExterQual  ExterCond Foundation  BsmtQual  BsmtCond  BsmtExposure  \\\n",
       "Id                                                                      \n",
       "1           3          2      PConc         4         3             1   \n",
       "2           2          2     CBlock         4         3             4   \n",
       "3           3          2      PConc         4         3             2   \n",
       "4           2          2     BrkTil         3         4             1   \n",
       "5           3          2      PConc         4         3             3   \n",
       "6           2          2       Wood         4         3             1   \n",
       "7           3          2      PConc         5         3             3   \n",
       "8           2          2     CBlock         4         3             2   \n",
       "9           2          2     BrkTil         3         3             1   \n",
       "10          2          2     BrkTil         3         3             1   \n",
       "\n",
       "    BsmtFinType1  BsmtFinType2  BsmtUnfSF  TotalBsmtSF Heating  HeatingQC  \\\n",
       "Id                                                                          \n",
       "1              6             1        150          856    GasA          5   \n",
       "2              5             1        284         1262    GasA          5   \n",
       "3              6             1        434          920    GasA          5   \n",
       "4              5             1        540          756    GasA          4   \n",
       "5              6             1        490         1145    GasA          5   \n",
       "6              6             1         64          796    GasA          5   \n",
       "7              6             1        317         1686    GasA          5   \n",
       "8              5             4        216         1107    GasA          5   \n",
       "9              1             1        952          952    GasA          4   \n",
       "10             6             1        140          991    GasA          5   \n",
       "\n",
       "   CentralAir Electrical  1stFlrSF  2ndFlrSF  LowQualFinSF  GrLivArea  \\\n",
       "Id                                                                      \n",
       "1           Y      SBrkr       856       854             0       1710   \n",
       "2           Y      SBrkr      1262         0             0       1262   \n",
       "3           Y      SBrkr       920       866             0       1786   \n",
       "4           Y      SBrkr       961       756             0       1717   \n",
       "5           Y      SBrkr      1145      1053             0       2198   \n",
       "6           Y      SBrkr       796       566             0       1362   \n",
       "7           Y      SBrkr      1694         0             0       1694   \n",
       "8           Y      SBrkr      1107       983             0       2090   \n",
       "9           Y      FuseF      1022       752             0       1774   \n",
       "10          Y      SBrkr      1077         0             0       1077   \n",
       "\n",
       "    BsmtFullBath  BsmtHalfBath  FullBath  HalfBath  BedroomAbvGr  \\\n",
       "Id                                                                 \n",
       "1              1             0         2         1             3   \n",
       "2              0             1         2         0             3   \n",
       "3              1             0         2         1             3   \n",
       "4              1             0         1         0             3   \n",
       "5              1             0         2         1             4   \n",
       "6              1             0         1         1             1   \n",
       "7              1             0         2         0             3   \n",
       "8              1             0         2         1             3   \n",
       "9              0             0         2         0             2   \n",
       "10             1             0         1         0             2   \n",
       "\n",
       "    KitchenAbvGr  KitchenQual  TotRmsAbvGrd Functional  Fireplaces  \\\n",
       "Id                                                                   \n",
       "1              1            4             8        Typ           0   \n",
       "2              1            3             6        Typ           1   \n",
       "3              1            4             6        Typ           1   \n",
       "4              1            4             7        Typ           1   \n",
       "5              1            4             9        Typ           1   \n",
       "6              1            3             5        Typ           0   \n",
       "7              1            4             7        Typ           1   \n",
       "8              1            3             7        Typ           2   \n",
       "9              2            3             8       Min1           2   \n",
       "10             2            3             5        Typ           2   \n",
       "\n",
       "    FireplaceQu GarageType  GarageYrBlt  GarageFinish  GarageArea  GarageQual  \\\n",
       "Id                                                                              \n",
       "1             5     Attchd       2003.0             2         548           3   \n",
       "2             3     Attchd       1976.0             2         460           3   \n",
       "3             3     Attchd       2001.0             2         608           3   \n",
       "4             4     Detchd       1998.0             1         642           3   \n",
       "5             3     Attchd       2000.0             2         836           3   \n",
       "6             5     Attchd       1993.0             1         480           3   \n",
       "7             4     Attchd       2004.0             2         636           3   \n",
       "8             3     Attchd       1973.0             2         484           3   \n",
       "9             3     Detchd       1931.0             1         468           2   \n",
       "10            3     Attchd       1939.0             2         205           4   \n",
       "\n",
       "   PavedDrive  MiscVal  MoSold  YrSold SaleType SaleCondition  SalePrice  \\\n",
       "Id                                                                         \n",
       "1           Y        0       2    2008       WD        Normal     208500   \n",
       "2           Y        0       5    2007       WD        Normal     181500   \n",
       "3           Y        0       9    2008       WD        Normal     223500   \n",
       "4           Y        0       2    2006       WD       Abnorml     140000   \n",
       "5           Y        0      12    2008       WD        Normal     250000   \n",
       "6           Y      700      10    2009       WD        Normal     143000   \n",
       "7           Y        0       8    2007       WD        Normal     307000   \n",
       "8           Y      350      11    2009       WD        Normal     200000   \n",
       "9           Y        0       4    2008       WD       Abnorml     129900   \n",
       "10          Y        0       1    2008       WD        Normal     118000   \n",
       "\n",
       "    TotalPorchSqft  \n",
       "Id                  \n",
       "1               61  \n",
       "2              298  \n",
       "3               42  \n",
       "4              307  \n",
       "5              276  \n",
       "6              390  \n",
       "7              312  \n",
       "8              667  \n",
       "9              295  \n",
       "10               4  "
      ]
     },
     "execution_count": 1,
     "metadata": {},
     "output_type": "execute_result"
    }
   ],
   "source": [
    "import pandas as pd\n",
    "import numpy as np\n",
    "import matplotlib.pyplot as plt\n",
    "from sklearn.model_selection import train_test_split\n",
    "from sklearn.model_selection import GridSearchCV\n",
    "\n",
    "pd.set_option('display.max_columns', None, \"display.max_rows\", None)\n",
    "\n",
    "# Read in csv\n",
    "houses = pd.read_csv(\"../data/train.csv\", index_col = \"Id\")\n",
    "\n",
    "# Adjust MSSubClass to string\n",
    "houses[\"MSSubClass\"] = houses[\"MSSubClass\"].astype('str')\n",
    "\n",
    "# Convert Alley to Factor\n",
    "houses[\"Alley\"] = houses[\"Alley\"].map(lambda x: 1 if x is True else 0)\n",
    "\n",
    "# Impute missing GarageYrBlt from year house built\n",
    "houses.loc[pd.isna(houses.GarageYrBlt), \"GarageYrBlt\"] = houses.loc[pd.isna(houses.GarageYrBlt), \"YearBuilt\"]\n",
    "\n",
    "# Bin LotConfig to impute missing LotFrontage\n",
    "mean_frontage = dict(houses.groupby(\"LotConfig\")[\"LotFrontage\"].mean())\n",
    "mean_frontage\n",
    "houses.loc[pd.isna(houses[\"LotFrontage\"]), \"LotFrontage\"] = houses.loc[pd.isna(houses[\"LotFrontage\"]), \"LotConfig\"].replace(mean_frontage)\n",
    "houses = houses.drop(\"LotConfig\", axis = 1)\n",
    "\n",
    "# Convert Fireplace Quality to Scale\n",
    "houses[\"FireplaceQu\"] = houses[\"FireplaceQu\"].apply(lambda x: 0 if x == False else 1 if x == \"Po\" else 2 if x == \"Fa\" else 3 if x == \"TA\" else 4 if x == \"Gd\" else 5)\n",
    "\n",
    "# Convert Exterior Quality and Condition to Scale\n",
    "houses[\"ExterQual\"] = houses[\"ExterQual\"].apply(lambda x: 0 if x == \"Po\" else 1 if x == \"Fa\" else 2 if x == \"TA\" else 3 if x == \"Gd\" else 5)\n",
    "houses[\"ExterCond\"] = houses[\"ExterCond\"].apply(lambda x: 0 if x == \"Po\" else 1 if x == \"Fa\" else 2 if x == \"TA\" else 3 if x == \"Gd\" else 5)\n",
    "\n",
    "# Convert Basement Quality and Condition to Scale\n",
    "houses[\"BsmtQual\"] = houses[\"BsmtQual\"].apply(lambda x: 0 if x == False else 1 if x == \"Po\" else 2 if x == \"Fa\" else 3 if x == \"TA\" else 4 if x == \"Gd\" else 5)\n",
    "houses[\"BsmtCond\"] = houses[\"BsmtCond\"].apply(lambda x: 0 if x == False else 1 if x == \"Po\" else 2 if x == \"Fa\" else 3 if x == \"TA\" else 4 if x == \"Gd\" else 5)\n",
    "houses[\"BsmtExposure\"] = houses[\"BsmtExposure\"].apply(lambda x: 0 if x == False else 1 if x == \"No\" else 2 if x == \"Mn\" else 3 if x == \"Av\" else 4)\n",
    "houses[\"BsmtFinType1\"] = houses[\"BsmtFinType1\"].apply(lambda x: 0 if x == False else 1 if x == \"Unf\" else 2 if x == \"LwQ\" else 3 if x == \"Rec\" else 4 if x == \"BLQ\" else 5 if x == \"ALQ\" else 6)\n",
    "houses[\"BsmtFinType2\"] = houses[\"BsmtFinType2\"].apply(lambda x: 0 if x == False else 1 if x == \"Unf\" else 2 if x == \"LwQ\" else 3 if x == \"Rec\" else 4 if x == \"BLQ\" else 5 if x == \"ALQ\" else 6)\n",
    "\n",
    "# Convert Heating, Kitchen, and Garage Quality and Finish to Scale\n",
    "houses[\"HeatingQC\"] = houses[\"HeatingQC\"].apply(lambda x: 0 if x == False else 1 if x == \"Po\" else 2 if x == \"Fa\" else 3 if x == \"TA\" else 4 if x == \"Gd\" else 5)\n",
    "houses[\"KitchenQual\"] = houses[\"KitchenQual\"].apply(lambda x: 0 if x == False else 1 if x == \"Po\" else 2 if x == \"Fa\" else 3 if x == \"TA\" else 4 if x == \"Gd\" else 5)\n",
    "houses[\"GarageQual\"] = houses[\"GarageQual\"].apply(lambda x: 0 if x == False else 1 if x == \"Po\" else 2 if x == \"Fa\" else 3 if x == \"TA\" else 4 if x == \"Gd\" else 5)\n",
    "houses[\"GarageFinish\"] = houses[\"GarageFinish\"].apply(lambda x: 0 if x == False else 1 if x == \"Unf\" else 2 if x == \"RFn\" else 3)\n",
    "\n",
    "# Feature Engineer total Porch/Deck Area\n",
    "houses[\"TotalPorchSqft\"] = houses[\"WoodDeckSF\"] + houses[\"OpenPorchSF\"] + houses[\"EnclosedPorch\"] + houses[\"3SsnPorch\"] + houses[\"ScreenPorch\"]\n",
    "\n",
    "# Drop Rows with NA (9 total) from Electrical, MasVnrType, and MasVnrArea\n",
    "houses = houses[~pd.isna(houses[\"Electrical\"])]\n",
    "houses = houses[~pd.isna(houses[\"MasVnrType\"])]\n",
    "\n",
    "# Drop Columns\n",
    "houses = houses.drop([\"MiscFeature\", \"Fence\", \"WoodDeckSF\", \"OpenPorchSF\", \"EnclosedPorch\", \"3SsnPorch\", \"ScreenPorch\", \n",
    "                      \"PoolArea\", \"PoolQC\", \"GarageCond\", \n",
    "                      \"GarageCars\", \"BsmtFinSF1\", \"BsmtFinSF2\"], axis=1)\n",
    "\n",
    "# houses.dtypes\n",
    "# dict(houses.isna().sum())\n",
    "houses.head(10)\n",
    "# houses.shape"
   ]
  },
  {
   "cell_type": "code",
   "execution_count": 2,
   "metadata": {},
   "outputs": [],
   "source": [
    "# plt.hist(houses.SalePrice)"
   ]
  },
  {
   "cell_type": "markdown",
   "metadata": {},
   "source": [
    "# Gradient Boost"
   ]
  },
  {
   "cell_type": "code",
   "execution_count": 3,
   "metadata": {},
   "outputs": [],
   "source": [
    "from sklearn.ensemble import GradientBoostingRegressor\n",
    "gbm = GradientBoostingRegressor()\n",
    "X = pd.get_dummies(houses.drop([\"SalePrice\"], axis=1), drop_first=True, dummy_na=True)\n",
    "y = houses['SalePrice']\n",
    "y_log = np.log(houses['SalePrice'])\n",
    "X_train, X_test, y_train, y_test = train_test_split(X, y, test_size=0.2, random_state=42)"
   ]
  },
  {
   "cell_type": "code",
   "execution_count": 4,
   "metadata": {},
   "outputs": [
    {
     "name": "stdout",
     "output_type": "stream",
     "text": [
      "The train score is:  0.9686345902141202\n",
      "The test score is:  0.9208957260932473\n"
     ]
    }
   ],
   "source": [
    "gbm.set_params(verbose=0, random_state=42)\n",
    "gbm.fit(X_train, y_train)\n",
    "print(\"The train score is: \", gbm.score(X_train, y_train))\n",
    "print(\"The test score is: \", gbm.score(X_test, y_test))"
   ]
  },
  {
   "cell_type": "code",
   "execution_count": 5,
   "metadata": {
    "scrolled": true
   },
   "outputs": [
    {
     "name": "stdout",
     "output_type": "stream",
     "text": [
      "The new train score is:  0.9943251984857514\n",
      "The new test score is:  0.9232141798748441\n"
     ]
    }
   ],
   "source": [
    "gbm.set_params(learning_rate=0.1, n_estimators=500, verbose=0, loss='ls', \n",
    "               max_depth=3, max_features=None, min_impurity_decrease=0.00, random_state=42)\n",
    "gbm.fit(X_train, y_train)\n",
    "print(\"The new train score is: \", gbm.score(X_train, y_train))\n",
    "print(\"The new test score is: \", gbm.score(X_test, y_test))"
   ]
  },
  {
   "cell_type": "code",
   "execution_count": 6,
   "metadata": {},
   "outputs": [
    {
     "name": "stdout",
     "output_type": "stream",
     "text": [
      "The best train score is:  0.970630836671616\n",
      "The best test score is:  0.902704647655982\n"
     ]
    }
   ],
   "source": [
    "grid_para_gbm = {\n",
    "    \"n_estimators\": [100, 200, 300, 400, 500],\n",
    "    \"learning_rate\": [.0001, .001, .01, 0.1],\n",
    "    \"min_samples_leaf\": range(1, 20, 2),\n",
    "    \"max_features\": [None, 1, 2, 3],\n",
    "    \"random_state\": [42]}\n",
    "grid_search_gbm = GridSearchCV(gbm, grid_para_gbm, scoring='r2', cv=5, n_jobs=-1)\n",
    "grid_search_gbm.fit(X_train, y_train)\n",
    "print(\"The best train score is: \", grid_search_gbm.best_estimator_.score(X_train, y_train))\n",
    "print(\"The best test score is: \", grid_search_gbm.best_estimator_.score(X_test, y_test))"
   ]
  },
  {
   "cell_type": "code",
   "execution_count": 7,
   "metadata": {},
   "outputs": [],
   "source": [
    "# from sklearn.preprocessing import LabelEncoder\n",
    "# lencoder = LabelEncoder()\n",
    "# houses_gb = houses.copy()\n",
    "# for i, item in enumerate(houses_gb.dtypes):\n",
    "#     if item == \"object\":\n",
    "#         houses_gb.iloc[i] = lencoder.fit_transform(houses_gb.iloc[i]).reshape((-1,1))"
   ]
  },
  {
   "cell_type": "code",
   "execution_count": null,
   "metadata": {},
   "outputs": [],
   "source": []
  },
  {
   "cell_type": "markdown",
   "metadata": {},
   "source": [
    "# Random Forest"
   ]
  },
  {
   "cell_type": "code",
   "execution_count": 8,
   "metadata": {},
   "outputs": [],
   "source": [
    "from sklearn import ensemble\n",
    "randomForest = ensemble.RandomForestRegressor()"
   ]
  },
  {
   "cell_type": "code",
   "execution_count": 9,
   "metadata": {},
   "outputs": [
    {
     "name": "stdout",
     "output_type": "stream",
     "text": [
      "The train score using selected columns is:  0.9701579784897983\n",
      "The test score using selected columns is:  0.9009638428032133 \n",
      "\n",
      "The train score using selected columns and log sale price is:  0.9705828627376659\n",
      "The test score using selected columns and log sale price is:  0.8680869061979787 \n",
      "\n",
      "The train score using all columns is:  0.9748296322810135\n",
      "The test score using all columns is:  0.9183067494329159 \n",
      "\n",
      "The train score using all columns and log sale price is:  0.9753249539422261\n",
      "The test score using all columns and log sale price is:  0.8898688928564761\n"
     ]
    }
   ],
   "source": [
    "randomForest.set_params(random_state=42, n_estimators=500, max_features=100, max_depth=10)\n",
    "\n",
    "# Use selected columns\n",
    "use_columns = [\"MSSubClass\", \"MSZoning\", \"LotFrontage\", \"Alley\", \"Utilities\", \"Neighborhood\", \"Condition1\", \n",
    "              \"BldgType\", \"OverallQual\", \"OverallCond\", \"YearBuilt\", \"YearRemodAdd\", \"Exterior1st\", \"ExterCond\",\n",
    "              \"BsmtExposure\", \"TotalBsmtSF\", \"Heating\", \"HeatingQC\", \"CentralAir\", \"1stFlrSF\", \"2ndFlrSF\",\n",
    "               \"Fireplaces\", \"KitchenAbvGr\", \"KitchenQual\", \"FireplaceQu\", \"GarageType\", \"GarageArea\", \"GarageQual\", \n",
    "              \"SaleType\", \"SaleCondition\", \"TotalPorchSqft\"]\n",
    "X = pd.get_dummies(houses[use_columns], drop_first=True, dummy_na=True)\n",
    "y = houses['SalePrice']\n",
    "X_train, X_test, y_train, y_test = train_test_split(X, y, test_size=0.2, random_state=42)\n",
    "randomForest.fit(X_train, y_train) \n",
    "print(\"The train score using selected columns is: \", randomForest.score(X_train, y_train)) \n",
    "print(\"The test score using selected columns is: \", randomForest.score(X_test, y_test), \"\\n\") \n",
    "\n",
    "# Selected columns with log house price\n",
    "y2 = np.log(houses['SalePrice'])\n",
    "X_train, X_test, y_train, y_test = train_test_split(X, y2, test_size=0.2, random_state=42)\n",
    "randomForest.fit(X_train, y_train)\n",
    "print(\"The train score using selected columns and log sale price is: \", randomForest.score(X_train, y_train)) \n",
    "print(\"The test score using selected columns and log sale price is: \", randomForest.score(X_test, y_test), \"\\n\") \n",
    "\n",
    "# use all columns\n",
    "X = pd.get_dummies(houses.drop([\"SalePrice\"], axis=1), drop_first=True, dummy_na=True)\n",
    "X_train, X_test, y_train, y_test = train_test_split(X, y, test_size=0.2, random_state=42)\n",
    "randomForest.fit(X_train, y_train)\n",
    "print(\"The train score using all columns is: \", randomForest.score(X_train, y_train)) \n",
    "print(\"The test score using all columns is: \", randomForest.score(X_test, y_test), \"\\n\") \n",
    "\n",
    "# All columns and with log price\n",
    "X_train, X_test, y_train, y_test = train_test_split(X, y2, test_size=0.2, random_state=42)\n",
    "randomForest.fit(X_train, y_train)\n",
    "print(\"The train score using all columns and log sale price is: \", randomForest.score(X_train, y_train)) \n",
    "print(\"The test score using all columns and log sale price is: \", randomForest.score(X_test, y_test)) "
   ]
  },
  {
   "cell_type": "code",
   "execution_count": 10,
   "metadata": {},
   "outputs": [],
   "source": [
    "# randomForest.oob_score_ "
   ]
  },
  {
   "cell_type": "code",
   "execution_count": 11,
   "metadata": {
    "scrolled": false
   },
   "outputs": [
    {
     "data": {
      "text/plain": [
       "<matplotlib.axes._subplots.AxesSubplot at 0x7fa35a856b50>"
      ]
     },
     "execution_count": 11,
     "metadata": {},
     "output_type": "execute_result"
    },
    {
     "data": {
      "image/png": "[encoded data removed]",
      "text/plain": [
       "<Figure size 432x288 with 1 Axes>"
      ]
     },
     "metadata": {
      "needs_background": "light"
     },
     "output_type": "display_data"
    }
   ],
   "source": [
    "# Using the best combination found above:\n",
    "X = pd.get_dummies(houses.drop([\"SalePrice\"], axis=1), drop_first=True, dummy_na=True)\n",
    "X_train, X_test, y_train, y_test = train_test_split(X, y, test_size=0.2, random_state=42)\n",
    "randomForest.fit(X_train, y_train)\n",
    "\n",
    "feature_importance = list(zip(X_train.columns, randomForest.feature_importances_))\n",
    "dtype = [('feature', 'S10'), ('importance', 'float')]\n",
    "feature_importance = np.array(feature_importance, dtype=dtype)\n",
    "feature_sort = np.sort(feature_importance, order='importance')[::-1]\n",
    "name, score = zip(*list(feature_sort))\n",
    "pd.DataFrame({'name':name,'score':score})[:15].plot.bar(x='name', y='score')"
   ]
  },
  {
   "cell_type": "markdown",
   "metadata": {},
   "source": [
    "## RF Grid Search"
   ]
  },
  {
   "cell_type": "code",
   "execution_count": 12,
   "metadata": {
    "scrolled": false
   },
   "outputs": [
    {
     "name": "stderr",
     "output_type": "stream",
     "text": [
      "/Users/hungrysoul/opt/anaconda3/lib/python3.7/site-packages/joblib/externals/loky/process_executor.py:706: UserWarning: A worker stopped while some jobs were given to the executor. This can be caused by a too short worker timeout or by a memory leak.\n",
      "  \"timeout or by a memory leak.\", UserWarning\n"
     ]
    },
    {
     "data": {
      "text/plain": [
       "GridSearchCV(cv=5, error_score=nan,\n",
       "             estimator=RandomForestRegressor(bootstrap=True, ccp_alpha=0.0,\n",
       "                                             criterion='mse', max_depth=10,\n",
       "                                             max_features=100,\n",
       "                                             max_leaf_nodes=None,\n",
       "                                             max_samples=None,\n",
       "                                             min_impurity_decrease=0.0,\n",
       "                                             min_impurity_split=None,\n",
       "                                             min_samples_leaf=1,\n",
       "                                             min_samples_split=2,\n",
       "                                             min_weight_fraction_leaf=0.0,\n",
       "                                             n_estimators=500, n_jobs=None,\n",
       "                                             oob_score=False, random_state=42,\n",
       "                                             verbose=0, warm_start=False),\n",
       "             iid='deprecated', n_jobs=-1,\n",
       "             param_grid={'max_depth': [9, 11, 13, 15, 17, 19, 21],\n",
       "                         'n_estimators': [300, 500, 800],\n",
       "                         'random_state': [42]},\n",
       "             pre_dispatch='2*n_jobs', refit=True, return_train_score=False,\n",
       "             scoring='r2', verbose=0)"
      ]
     },
     "execution_count": 12,
     "metadata": {},
     "output_type": "execute_result"
    }
   ],
   "source": [
    "grid_para_forest = {\n",
    "    \"n_estimators\": [300, 500, 800],\n",
    "    \"max_depth\": list(range(9, 22, 2)),\n",
    "    \"random_state\": [42]}\n",
    "grid_search_forest = GridSearchCV(randomForest, grid_para_forest, scoring='r2', cv=5, n_jobs=-1)\n",
    "grid_search_forest.fit(X_train, y_train)"
   ]
  },
  {
   "cell_type": "code",
   "execution_count": 13,
   "metadata": {},
   "outputs": [
    {
     "name": "stdout",
     "output_type": "stream",
     "text": [
      "The best params found were: {'max_depth': 19, 'n_estimators': 800, 'random_state': 42}\n",
      "The best score found was: 0.8267021866440002\n",
      "The train score with the best estimator is: 0.979546757977026\n",
      "The test score with the best estimator is: 0.9180379376859372\n"
     ]
    }
   ],
   "source": [
    "print(\"The best params found were:\", grid_search_forest.best_params_)\n",
    "print(\"The best score found was:\", grid_search_forest.best_score_)\n",
    "print(\"The train score with the best estimator is:\", grid_search_forest.score(X_train, y_train))\n",
    "print(\"The test score with the best estimator is:\", grid_search_forest.score(X_test, y_test))"
   ]
  },
  {
   "cell_type": "markdown",
   "metadata": {
    "heading_collapsed": true
   },
   "source": [
    "## Examine Effects of Different Number of Trees"
   ]
  },
  {
   "cell_type": "code",
   "execution_count": 14,
   "metadata": {
    "hidden": true
   },
   "outputs": [
    {
     "name": "stderr",
     "output_type": "stream",
     "text": [
      "/Users/hungrysoul/opt/anaconda3/lib/python3.7/site-packages/sklearn/ensemble/_forest.py:815: UserWarning: Some inputs do not have OOB scores. This probably means too few trees were used to compute any reliable oob estimates.\n",
      "  warn(\"Some inputs do not have OOB scores. \"\n"
     ]
    }
   ],
   "source": [
    "n_trees_range = range(10, 500, 100)  # OOB score will warning if too few trees\n",
    "train_error2 = []\n",
    "test_error2 = []\n",
    "oob_error = []\n",
    "\n",
    "for n_trees in n_trees_range:\n",
    "#     for n_feat in n_feat_range:\n",
    "    randomForest.set_params(n_estimators=n_trees, max_features = 26, random_state=42, oob_score=True)\n",
    "    randomForest.fit(X_train, y_train)\n",
    "    train_error2.append(1 - randomForest.score(X_train, y_train))\n",
    "    test_error2.append(1 - randomForest.score(X_test, y_test))\n",
    "    oob_error.append(1 - randomForest.oob_score_)"
   ]
  },
  {
   "cell_type": "code",
   "execution_count": 15,
   "metadata": {
    "hidden": true
   },
   "outputs": [
    {
     "data": {
      "image/png": "[encoded data removed]",
      "text/plain": [
       "<Figure size 432x288 with 1 Axes>"
      ]
     },
     "metadata": {
      "needs_background": "light"
     },
     "output_type": "display_data"
    }
   ],
   "source": [
    "import matplotlib.pyplot as plt\n",
    "plt.plot(n_trees_range, train_error2, c='red', label='training error')\n",
    "plt.plot(n_trees_range, test_error2, c='blue', label='test error')\n",
    "plt.plot(n_trees_range, oob_error, c='pink', label='oob error')\n",
    "plt.ylabel('Error')\n",
    "plt.xlabel('Number of trees')\n",
    "plt.legend()\n",
    "plt.show()"
   ]
  },
  {
   "cell_type": "markdown",
   "metadata": {},
   "source": [
    "# Variance Test"
   ]
  },
  {
   "cell_type": "code",
   "execution_count": 16,
   "metadata": {},
   "outputs": [],
   "source": [
    "import sklearn.feature_selection as fs\n",
    "import pprint\n",
    "\n",
    "# Find Variances of all columns\n",
    "variances = dict(zip(houses.columns, np.var(houses, 0)))\n",
    "# print('Variation:')\n",
    "# pprint.pprint(variances)\n",
    "\n",
    "# Filter out unwanted columns with variance below 1\n",
    "variances_filtered = []\n",
    "for k, v in variances.items():\n",
    "    if v > 1:\n",
    "        variances_filtered.append(k)\n",
    "unwanted_columns = list(variances.keys() - variances_filtered)\n",
    "unwanted_columns.append(\"SalePrice\")"
   ]
  },
  {
   "cell_type": "code",
   "execution_count": 17,
   "metadata": {},
   "outputs": [
    {
     "name": "stdout",
     "output_type": "stream",
     "text": [
      "The train score with low variance columns dropped is:  0.973534182785868\n",
      "The test score with low variance columns dropped is:  0.9124534783675884\n"
     ]
    }
   ],
   "source": [
    "X = pd.get_dummies(houses.drop(unwanted_columns, axis=1), drop_first=True, dummy_na=True)\n",
    "y = houses['SalePrice']\n",
    "X_train, X_test, y_train, y_test = train_test_split(X, y, test_size=0.2, random_state=42)\n",
    "\n",
    "randomForest.set_params(random_state=42, n_estimators=500, max_features=100, max_depth=10)\n",
    "randomForest.fit(X_train, y_train)\n",
    "print(\"The train score with low variance columns dropped is: \", randomForest.score(X_train, y_train)) \n",
    "print(\"The test score with low variance columns dropped is: \", randomForest.score(X_test, y_test)) "
   ]
  },
  {
   "cell_type": "code",
   "execution_count": null,
   "metadata": {},
   "outputs": [],
   "source": []
  },
  {
   "cell_type": "markdown",
   "metadata": {},
   "source": [
    "# Multiple Linear Regression"
   ]
  },
  {
   "cell_type": "code",
   "execution_count": 18,
   "metadata": {},
   "outputs": [],
   "source": [
    "from sklearn import linear_model\n",
    "from sklearn.metrics import r2_score\n",
    "ols = linear_model.LinearRegression()"
   ]
  },
  {
   "cell_type": "code",
   "execution_count": 19,
   "metadata": {},
   "outputs": [],
   "source": [
    "# Log improves MLR performance\n",
    "# Drop columns found to have little variance\n",
    "X2 = pd.get_dummies(houses.drop(unwanted_columns, axis=1), drop_first=True, dummy_na=True)\n",
    "y2 = np.log(houses['SalePrice'])\n",
    "X2_train, X2_test, y2_train, y2_test = train_test_split(X2, y2, test_size=0.2, random_state=42)"
   ]
  },
  {
   "cell_type": "code",
   "execution_count": 20,
   "metadata": {},
   "outputs": [
    {
     "data": {
      "text/plain": [
       "0.9234496687511694"
      ]
     },
     "execution_count": 20,
     "metadata": {},
     "output_type": "execute_result"
    }
   ],
   "source": [
    "ols.fit(X2_train, y2_train) # fit \n",
    "ols.score(X2_train, y2_train) # accuracy "
   ]
  },
  {
   "cell_type": "code",
   "execution_count": 21,
   "metadata": {
    "scrolled": true
   },
   "outputs": [
    {
     "data": {
      "text/plain": [
       "0.6933762186045858"
      ]
     },
     "execution_count": 21,
     "metadata": {},
     "output_type": "execute_result"
    }
   ],
   "source": [
    "ols.score(X2_test, y2_test)"
   ]
  },
  {
   "cell_type": "markdown",
   "metadata": {},
   "source": [
    "## Regularization"
   ]
  },
  {
   "cell_type": "markdown",
   "metadata": {},
   "source": [
    "### A. Ridge Exploration"
   ]
  },
  {
   "cell_type": "code",
   "execution_count": 22,
   "metadata": {},
   "outputs": [],
   "source": [
    "from sklearn.linear_model import Ridge\n",
    "ridge = Ridge()\n",
    "X = pd.get_dummies(houses.drop(\"SalePrice\", axis=1), drop_first=True, dummy_na=True)\n",
    "y = np.log(houses['SalePrice'])\n",
    "X_train, X_test, y_train, y_test = train_test_split(X, y, test_size=0.2, random_state=42)"
   ]
  },
  {
   "cell_type": "code",
   "execution_count": 23,
   "metadata": {
    "scrolled": false
   },
   "outputs": [
    {
     "data": {
      "text/plain": [
       "Text(0, 0.5, 'slope values')"
      ]
     },
     "execution_count": 23,
     "metadata": {},
     "output_type": "execute_result"
    },
    {
     "data": {
      "image/png": "[encoded data removed]",
      "text/plain": [
       "<Figure size 720x360 with 1 Axes>"
      ]
     },
     "metadata": {
      "needs_background": "light"
     },
     "output_type": "display_data"
    }
   ],
   "source": [
    "# Test different alphas\n",
    "alphas = np.linspace(.00001, 1, 1000)\n",
    "ridge.set_params(normalize=True)\n",
    "coefs  = []\n",
    "scores = []\n",
    "test_scores = []\n",
    "for alpha in alphas:\n",
    "        ridge.set_params(alpha=alpha)\n",
    "        ridge.fit(X_train, y_train)  \n",
    "        coefs.append(ridge.coef_)\n",
    "        scores.append(ridge.score(X_train, y_train))\n",
    "        test_scores.append(ridge.score(X_test, y_test))\n",
    "coefs = pd.DataFrame(coefs, index = alphas, columns = X_train.columns)  \n",
    "\n",
    "# Plot the effects of increasing lambdas\n",
    "plt.rcParams['figure.figsize'] = (10,5)\n",
    "for name in coefs.iloc[0, :].sort_values().index:\n",
    "    plt.plot(coefs.index, coefs[name], label=name)\n",
    "# plt.legend(loc=4)   \n",
    "plt.title(r'Slope Coefficient Drop-Off with Ridge Regression')\n",
    "plt.xlabel(r'hyperparameter $\\lambda$')\n",
    "plt.ylabel(r'slope values')"
   ]
  },
  {
   "cell_type": "code",
   "execution_count": 24,
   "metadata": {
    "scrolled": false
   },
   "outputs": [
    {
     "data": {
      "text/plain": [
       "Text(0, 0.5, '$R^2$')"
      ]
     },
     "execution_count": 24,
     "metadata": {},
     "output_type": "execute_result"
    },
    {
     "data": {
      "image/png": "[encoded data removed]",
      "text/plain": [
       "<Figure size 720x360 with 1 Axes>"
      ]
     },
     "metadata": {
      "needs_background": "light"
     },
     "output_type": "display_data"
    }
   ],
   "source": [
    "# Plot the R^2 scores for train and test\n",
    "plt.plot(alphas, scores, c='b', label=r'$R^2$ train')\n",
    "plt.plot(alphas, test_scores, c='r', label=r'$R^2$ test')\n",
    "highest_test_score = alphas[np.array(test_scores) == max(test_scores)]\n",
    "plt.axvline(highest_test_score, linestyle='--', color='grey', label='optimal lambda', alpha=0.4)\n",
    "plt.legend(loc=1)\n",
    "plt.title(r'$R^2$ Intersect with Ridge Regression')\n",
    "plt.xlabel(r'hyperparameter $\\lambda$')\n",
    "plt.ylabel(r'$R^2$')"
   ]
  },
  {
   "cell_type": "code",
   "execution_count": 25,
   "metadata": {},
   "outputs": [
    {
     "ename": "NameError",
     "evalue": "name 'last_underfit' is not defined",
     "output_type": "error",
     "traceback": [
      "\u001b[0;31m---------------------------------------------------------------------------\u001b[0m",
      "\u001b[0;31mNameError\u001b[0m                                 Traceback (most recent call last)",
      "\u001b[0;32m<ipython-input-25-e7818331b7ec>\u001b[0m in \u001b[0;36m<module>\u001b[0;34m\u001b[0m\n\u001b[0;32m----> 1\u001b[0;31m \u001b[0mridge\u001b[0m\u001b[0;34m.\u001b[0m\u001b[0mset_params\u001b[0m\u001b[0;34m(\u001b[0m\u001b[0mnormalize\u001b[0m\u001b[0;34m=\u001b[0m\u001b[0;32mTrue\u001b[0m\u001b[0;34m,\u001b[0m \u001b[0malpha\u001b[0m\u001b[0;34m=\u001b[0m\u001b[0mlast_underfit\u001b[0m\u001b[0;34m)\u001b[0m\u001b[0;34m\u001b[0m\u001b[0;34m\u001b[0m\u001b[0m\n\u001b[0m\u001b[1;32m      2\u001b[0m \u001b[0mridge\u001b[0m\u001b[0;34m.\u001b[0m\u001b[0mfit\u001b[0m\u001b[0;34m(\u001b[0m\u001b[0mX_train\u001b[0m\u001b[0;34m,\u001b[0m \u001b[0my_train\u001b[0m\u001b[0;34m)\u001b[0m\u001b[0;34m\u001b[0m\u001b[0;34m\u001b[0m\u001b[0m\n\u001b[1;32m      3\u001b[0m \u001b[0mprint\u001b[0m\u001b[0;34m(\u001b[0m\u001b[0;34m\"The train score with low variance columns dropped is: \"\u001b[0m\u001b[0;34m,\u001b[0m \u001b[0mridge\u001b[0m\u001b[0;34m.\u001b[0m\u001b[0mscore\u001b[0m\u001b[0;34m(\u001b[0m\u001b[0mX_train\u001b[0m\u001b[0;34m,\u001b[0m \u001b[0my_train\u001b[0m\u001b[0;34m)\u001b[0m\u001b[0;34m)\u001b[0m\u001b[0;34m\u001b[0m\u001b[0;34m\u001b[0m\u001b[0m\n\u001b[1;32m      4\u001b[0m \u001b[0mprint\u001b[0m\u001b[0;34m(\u001b[0m\u001b[0;34m\"The test score with low variance columns dropped is: \"\u001b[0m\u001b[0;34m,\u001b[0m \u001b[0mridge\u001b[0m\u001b[0;34m.\u001b[0m\u001b[0mscore\u001b[0m\u001b[0;34m(\u001b[0m\u001b[0mX_test\u001b[0m\u001b[0;34m,\u001b[0m \u001b[0my_test\u001b[0m\u001b[0;34m)\u001b[0m\u001b[0;34m)\u001b[0m\u001b[0;34m\u001b[0m\u001b[0;34m\u001b[0m\u001b[0m\n",
      "\u001b[0;31mNameError\u001b[0m: name 'last_underfit' is not defined"
     ]
    }
   ],
   "source": [
    "ridge.set_params(normalize=True, alpha=last_underfit)\n",
    "ridge.fit(X_train, y_train)\n",
    "print(\"The train score with low variance columns dropped is: \", ridge.score(X_train, y_train))\n",
    "print(\"The test score with low variance columns dropped is: \", ridge.score(X_test, y_test))"
   ]
  },
  {
   "cell_type": "markdown",
   "metadata": {},
   "source": [
    "### B. Lasso Exploration"
   ]
  },
  {
   "cell_type": "code",
   "execution_count": null,
   "metadata": {},
   "outputs": [],
   "source": [
    "from sklearn.linear_model import Lasso\n",
    "lasso = Lasso()\n",
    "X = pd.get_dummies(houses.drop(\"SalePrice\", axis=1), drop_first=True, dummy_na=True)\n",
    "y = np.log(houses['SalePrice'])\n",
    "X_train, X_test, y_train, y_test = train_test_split(X, y, test_size=0.2, random_state=42)\n",
    "\n",
    "# Test different lambdas\n",
    "alphas = np.linspace(0.1,40.1,100)\n",
    "lasso.set_params(normalize=True)\n",
    "coefs_lasso  = []\n",
    "scores_lasso = []\n",
    "scores_test_lasso = []\n",
    "for alpha in alphas:\n",
    "        lasso.set_params(alpha=alpha)\n",
    "        lasso.fit(X2_train, y2_train)  \n",
    "        coefs_lasso.append(lasso.coef_)\n",
    "        scores_lasso.append(lasso.score(X2_train, y2_train))\n",
    "        scores_test_lasso.append(lasso.score(X2_test, y2_test))\n",
    "coefs = pd.DataFrame(coefs_lasso, index = alphas, columns = X2_train.columns)  \n",
    "coefs.head()"
   ]
  },
  {
   "cell_type": "code",
   "execution_count": null,
   "metadata": {},
   "outputs": [],
   "source": [
    "alphas = np.linspace(0.1,40.1,100)\n",
    "lasso.set_params(normalize=True)\n",
    "coefs_lasso  = []\n",
    "scores_lasso = []\n",
    "scores_test_lasso = []\n",
    "for alpha in alphas:\n",
    "        lasso.set_params(alpha=alpha)\n",
    "        lasso.fit(X2_train, y2_train)  \n",
    "        coefs_lasso.append(lasso.coef_)\n",
    "        scores_lasso.append(lasso.score(X2_train, y2_train))\n",
    "        scores_test_lasso.append(lasso.score(X2_test, y2_test))\n",
    "coefs = pd.DataFrame(coefs_lasso, index = alphas, columns = X2_train.columns)  \n",
    "coefs.head()"
   ]
  },
  {
   "cell_type": "code",
   "execution_count": null,
   "metadata": {},
   "outputs": [],
   "source": [
    "plt.rcParams['figure.figsize'] = (10,5)\n",
    "for name in coefs.iloc[0, :].sort_values().index:\n",
    "    plt.plot(coefs.index, coefs[name], label=name)\n",
    "# plt.legend(loc=4)   \n",
    "plt.xlabel(r'hyperparameter $\\lambda$')\n",
    "plt.ylabel(r'slope values')"
   ]
  },
  {
   "cell_type": "code",
   "execution_count": null,
   "metadata": {},
   "outputs": [],
   "source": [
    "# coefs.iloc[20, (coefs.iloc[20, ] > 0).values]"
   ]
  },
  {
   "cell_type": "code",
   "execution_count": null,
   "metadata": {},
   "outputs": [],
   "source": [
    "plt.plot(alphas, scores_lasso, c='b', label=r'$R^2$ train')\n",
    "plt.plot(alphas, scores_test_lasso, c='r', label=r'$R^2$ test')\n",
    "lasso_overfit = alphas[np.array(scores_test_lasso) < np.array(scores_lasso)]\n",
    "last_overfit = max(lasso_overfit)\n",
    "plt.axvline(last_overfit, linestyle='--', color='grey', label='optimal lambda', alpha=0.4)\n",
    "plt.legend(loc=1)\n",
    "plt.title(r'$R^2$ Intersection with Lasso Regression')\n",
    "plt.xlabel(r'hyperparameter $\\lambda$')\n",
    "plt.ylabel(r'$R^2$')"
   ]
  },
  {
   "cell_type": "code",
   "execution_count": null,
   "metadata": {},
   "outputs": [],
   "source": [
    "lasso.set_params(normalize=True, alpha=last_overfit)\n",
    "lasso.fit(X2_train, y2_train)\n",
    "lasso.score(X2_train, y2_train)"
   ]
  },
  {
   "cell_type": "code",
   "execution_count": null,
   "metadata": {},
   "outputs": [],
   "source": [
    "lasso.score(X2_test, y2_test)"
   ]
  },
  {
   "cell_type": "markdown",
   "metadata": {
    "heading_collapsed": true
   },
   "source": [
    "## Observe P values and conf intervals for Features"
   ]
  },
  {
   "cell_type": "code",
   "execution_count": null,
   "metadata": {
    "hidden": true
   },
   "outputs": [],
   "source": [
    "import statsmodels.api as sm \n",
    "X_add_const = sm.add_constant(X2_train)\n",
    "ols3 = sm.OLS(y2_train, X_add_const)\n",
    "ans = ols3.fit()\n",
    "# print(ans.summary())\n",
    "ans.summary().tables[1]"
   ]
  },
  {
   "cell_type": "markdown",
   "metadata": {
    "heading_collapsed": true
   },
   "source": [
    "## Comparing R^2 to All other Features"
   ]
  },
  {
   "cell_type": "code",
   "execution_count": null,
   "metadata": {
    "hidden": true
   },
   "outputs": [],
   "source": [
    "cont_features = ['LotFrontage', 'LotArea', \"OverallQual\", \"OverallCond\", \"YearBuilt\", \"YearRemodAdd\", 'MasVnrArea', \n",
    "                \"ExterQual\", \"ExterCond\", \"BsmtQual\", \"BsmtCond\", \"BsmtExposure\", \"BsmtFinType1\", \"BsmtFinType2\", \n",
    "                \"BsmtUnfSF\", \"HeatingQC\", 'TotalBsmtSF', '1stFlrSF', '2ndFlrSF', 'LowQualFinSF', \"BsmtFullBath\", \n",
    "                'GrLivArea', \"BsmtHalfBath\", \"FullBath\", \"HalfBath\", \"BedroomAbvGr\", \"KitchenAbvGr\", \"KitchenQual\", \n",
    "                \"TotRmsAbvGrd\", \"Fireplaces\", \"FireplaceQu\", 'GarageArea', \"GarageFinish\", \"GarageArea\", \"GarageQual\",\n",
    "                \"MiscVal\", \"MoSold\", \"YrSold\", 'TotalPorchSqft']\n",
    "scores = {}\n",
    "ols2 = linear_model.LinearRegression()\n",
    "for feature_name in cont_features:\n",
    "    df2 = houses.copy().drop(\"GarageYrBlt\", axis=1)\n",
    "    df2 = pd.get_dummies(df2, drop_first=True, dummy_na=True)\n",
    "    feature = df2[feature_name].copy()\n",
    "    df2.drop(feature_name, axis=1, inplace=True)\n",
    "    ols2.fit(df2, feature)\n",
    "    scores[feature_name] = ols2.score(df2, feature) "
   ]
  },
  {
   "cell_type": "code",
   "execution_count": null,
   "metadata": {
    "hidden": true
   },
   "outputs": [],
   "source": [
    "plt.figure(figsize=(15,8))\n",
    "ax = sns.barplot(x='index', y='R2', data=pd.DataFrame(scores, index=['R2']).T.reset_index().sort_values([\"R2\"]))\n",
    "plt.title('$R^2$ of a continuous feature against the other features')\n",
    "for item in ax.get_xticklabels(): item.set_rotation(90)"
   ]
  },
  {
   "cell_type": "code",
   "execution_count": null,
   "metadata": {
    "hidden": true
   },
   "outputs": [],
   "source": []
  },
  {
   "cell_type": "code",
   "execution_count": null,
   "metadata": {
    "hidden": true
   },
   "outputs": [],
   "source": []
  },
  {
   "cell_type": "code",
   "execution_count": null,
   "metadata": {
    "hidden": true
   },
   "outputs": [],
   "source": []
  },
  {
   "cell_type": "code",
   "execution_count": null,
   "metadata": {
    "hidden": true
   },
   "outputs": [],
   "source": []
  },
  {
   "cell_type": "code",
   "execution_count": null,
   "metadata": {
    "hidden": true
   },
   "outputs": [],
   "source": []
  },
  {
   "cell_type": "markdown",
   "metadata": {
    "heading_collapsed": true
   },
   "source": [
    "# Visualization of Data"
   ]
  },
  {
   "cell_type": "markdown",
   "metadata": {
    "hidden": true
   },
   "source": [
    "### 1. 1st and 2nd Floor  and Basement SQFT against Price"
   ]
  },
  {
   "cell_type": "code",
   "execution_count": null,
   "metadata": {
    "hidden": true,
    "scrolled": true
   },
   "outputs": [],
   "source": [
    "fig, axes = plt.subplots(nrows=1, ncols=3, figsize=(15, 4))\n",
    "houses.plot(ax=axes[0], kind='scatter', x='1stFlrSF', y='SalePrice',c='b', alpha=.2)\n",
    "houses.plot(ax=axes[1], kind='scatter', x='2ndFlrSF', y='SalePrice',c='r', alpha=.2)\n",
    "houses.plot(ax=axes[2], kind='scatter', x='TotalBsmtSF', y='SalePrice',c='g', alpha=.2)\n",
    "plt.show()"
   ]
  },
  {
   "cell_type": "markdown",
   "metadata": {
    "hidden": true
   },
   "source": [
    "### 2. Lot Frontage, Year Built, and Year Remodelled against Price"
   ]
  },
  {
   "cell_type": "code",
   "execution_count": null,
   "metadata": {
    "hidden": true,
    "scrolled": true
   },
   "outputs": [],
   "source": [
    "fig, axes = plt.subplots(nrows=1, ncols=3, figsize=(15, 4))\n",
    "houses.plot(ax=axes[0], kind='scatter', x='LotFrontage', y='SalePrice',c='b',  alpha=.2)\n",
    "houses.plot(ax=axes[1], kind='scatter', x='YearBuilt', y='SalePrice',c='r', alpha=.2)\n",
    "houses.plot(ax=axes[2], kind='scatter', x='YearRemodAdd', y='SalePrice',c='g', alpha=.2)\n",
    "plt.show()"
   ]
  },
  {
   "cell_type": "markdown",
   "metadata": {
    "hidden": true
   },
   "source": [
    "### 3. Overall Quality against Price"
   ]
  },
  {
   "cell_type": "code",
   "execution_count": null,
   "metadata": {
    "hidden": true
   },
   "outputs": [],
   "source": [
    "import seaborn as sns\n",
    "g = sns.FacetGrid(data=houses, col=\"OverallQual\", hue=\"OverallQual\", palette=\"tab20c\",\n",
    "                     col_wrap=5, height=3)\n",
    "g.map(plt.hist, \"SalePrice\")"
   ]
  },
  {
   "cell_type": "code",
   "execution_count": null,
   "metadata": {
    "hidden": true,
    "scrolled": true
   },
   "outputs": [],
   "source": [
    "sns.violinplot(x=\"OverallQual\", y=\"SalePrice\", data=houses)"
   ]
  },
  {
   "cell_type": "code",
   "execution_count": null,
   "metadata": {
    "hidden": true
   },
   "outputs": [],
   "source": [
    "sns.lmplot(y=\"SalePrice\", x=\"OverallQual\", hue=\"OverallQual\",\n",
    "               height=7, data=houses)"
   ]
  },
  {
   "cell_type": "markdown",
   "metadata": {
    "hidden": true
   },
   "source": [
    "### 4. MS Zoning against Price"
   ]
  },
  {
   "cell_type": "code",
   "execution_count": null,
   "metadata": {
    "hidden": true,
    "scrolled": true
   },
   "outputs": [],
   "source": [
    "sns.violinplot(x=\"MSZoning\", y=\"SalePrice\", data=houses, palette=\"Set3\", scale=\"count\", order=[\"C (all)\", \"RM\", \"RH\", \"RL\", \"FV\"])"
   ]
  },
  {
   "cell_type": "markdown",
   "metadata": {
    "hidden": true
   },
   "source": [
    "### 5. Total Porch and Deck SQFT (feature eng.) against Price"
   ]
  },
  {
   "cell_type": "code",
   "execution_count": null,
   "metadata": {
    "hidden": true,
    "scrolled": true
   },
   "outputs": [],
   "source": [
    "houses.plot(kind='scatter', x='TotalPorchSqft', y='SalePrice',c='maroon', alpha=.2)\n",
    "plt.show()"
   ]
  },
  {
   "cell_type": "markdown",
   "metadata": {
    "hidden": true
   },
   "source": [
    "### 6. Year Built grouped by Exterior Quality against Price"
   ]
  },
  {
   "cell_type": "code",
   "execution_count": null,
   "metadata": {
    "hidden": true,
    "scrolled": false
   },
   "outputs": [],
   "source": [
    "sns.lmplot(x=\"YearBuilt\", y=\"SalePrice\", hue=\"ExterQual\",\n",
    "               height=10, data=houses)"
   ]
  },
  {
   "cell_type": "markdown",
   "metadata": {
    "hidden": true
   },
   "source": [
    "### 7. Overall Condition against Price"
   ]
  },
  {
   "cell_type": "code",
   "execution_count": null,
   "metadata": {
    "hidden": true
   },
   "outputs": [],
   "source": [
    "sns.violinplot(x=\"OverallCond\", y=\"SalePrice\", data=houses, palette=\"Set3\", scale= \"count\")"
   ]
  },
  {
   "cell_type": "markdown",
   "metadata": {
    "hidden": true
   },
   "source": [
    "### 8. Above Ground Living Area SQFT grouped by Overall Quality against Price"
   ]
  },
  {
   "cell_type": "code",
   "execution_count": null,
   "metadata": {
    "hidden": true
   },
   "outputs": [],
   "source": [
    "sns.lmplot(x=\"GrLivArea\", y=\"SalePrice\", hue=\"OverallQual\",\n",
    "               height=5, data=houses.loc[houses[\"OverallQual\"] > 5])"
   ]
  },
  {
   "cell_type": "code",
   "execution_count": null,
   "metadata": {
    "hidden": true
   },
   "outputs": [],
   "source": [
    "# sns.lmplot(x=\"YearBuilt\", y=\"SalePrice\", hue=\"OverallCond\",\n",
    "#                height=5, data=houses.loc[houses[\"OverallCond\"] == 5])"
   ]
  },
  {
   "cell_type": "code",
   "execution_count": null,
   "metadata": {
    "hidden": true
   },
   "outputs": [],
   "source": []
  },
  {
   "cell_type": "code",
   "execution_count": null,
   "metadata": {
    "hidden": true
   },
   "outputs": [],
   "source": []
  },
  {
   "cell_type": "code",
   "execution_count": null,
   "metadata": {
    "hidden": true
   },
   "outputs": [],
   "source": []
  },
  {
   "cell_type": "code",
   "execution_count": null,
   "metadata": {
    "hidden": true,
    "scrolled": true
   },
   "outputs": [],
   "source": [
    "# houses[(houses['CentralAir'] == \"N\")][[\"SalePrice\", \"YearBuilt\"]].plot.scatter(x=\"YearBuilt\", y=\"SalePrice\")\n",
    "# houses[(houses['Alley'] == \"Grvl\")].plot.bar()#[[\"SalePrice\", \"YearBuilt\"]].plot.scatter(x=\"YearBuilt\", y=\"SalePrice\")"
   ]
  },
  {
   "cell_type": "code",
   "execution_count": null,
   "metadata": {
    "hidden": true
   },
   "outputs": [],
   "source": [
    "# houses['CentralAir'].hist()"
   ]
  },
  {
   "cell_type": "code",
   "execution_count": null,
   "metadata": {
    "hidden": true
   },
   "outputs": [],
   "source": [
    "# houses.groupby([\"BsmtFinType1\", \"MSSubClass\"])[[\"MSSubClass\"]].count().plot.bar(figsize = (15, 5))"
   ]
  },
  {
   "cell_type": "code",
   "execution_count": null,
   "metadata": {
    "hidden": true
   },
   "outputs": [],
   "source": [
    "# houses[(houses[\"PoolArea\"] != 0)][\"SalePrice\"]"
   ]
  },
  {
   "cell_type": "code",
   "execution_count": null,
   "metadata": {
    "hidden": true
   },
   "outputs": [],
   "source": [
    "# houses[\"SalePrice\"].mean()"
   ]
  },
  {
   "cell_type": "code",
   "execution_count": null,
   "metadata": {
    "hidden": true
   },
   "outputs": [],
   "source": [
    "# gargqual = houses.replace(np.nan, \"NA\").groupby([\"GarageQual\"])[\"GarageQual\"].count()\n",
    "# gargfin = houses.replace(np.nan, \"NA\").groupby([\"GarageFinish\"])[\"GarageFinish\"].count()\n",
    "# plt.bar(x=gargqual.index, height=gargqual.values)"
   ]
  },
  {
   "cell_type": "code",
   "execution_count": null,
   "metadata": {
    "hidden": true
   },
   "outputs": [],
   "source": [
    "# houses.groupby(\"MasVnrType\")[[\"MasVnrType\"]].count().plot.bar()\n",
    "# houses[\"AvgMasArea\"] = houses.cut(\"MasVnrArea\", 20)\n",
    "# houses[[\"MasVnrArea\", \"SalePrice\"]].plot.scatter(x=\"MasVnrArea\" , y=\"SalePrice\" )"
   ]
  },
  {
   "cell_type": "code",
   "execution_count": null,
   "metadata": {
    "hidden": true
   },
   "outputs": [],
   "source": [
    "# houses[\"YearBuilt\"].sort_values(ascending=False)"
   ]
  },
  {
   "cell_type": "code",
   "execution_count": null,
   "metadata": {
    "hidden": true
   },
   "outputs": [],
   "source": []
  }
 ],
 "metadata": {
  "kernelspec": {
   "display_name": "Python 3",
   "language": "python",
   "name": "python3"
  },
  "language_info": {
   "codemirror_mode": {
    "name": "ipython",
    "version": 3
   },
   "file_extension": ".py",
   "mimetype": "text/x-python",
   "name": "python",
   "nbconvert_exporter": "python",
   "pygments_lexer": "ipython3",
   "version": "3.7.6"
  },
  "varInspector": {
   "cols": {
    "lenName": 16,
    "lenType": 16,
    "lenVar": 40
   },
   "kernels_config": {
    "python": {
     "delete_cmd_postfix": "",
     "delete_cmd_prefix": "del ",
     "library": "var_list.py",
     "varRefreshCmd": "print(var_dic_list())"
    },
    "r": {
     "delete_cmd_postfix": ") ",
     "delete_cmd_prefix": "rm(",
     "library": "var_list.r",
     "varRefreshCmd": "cat(var_dic_list()) "
    }
   },
   "types_to_exclude": [
    "module",
    "function",
    "builtin_function_or_method",
    "instance",
    "_Feature"
   ],
   "window_display": false
  }
 },
 "nbformat": 4,
 "nbformat_minor": 4
}
