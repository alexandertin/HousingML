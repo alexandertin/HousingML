{
 "cells": [
  {
   "cell_type": "code",
   "execution_count": 405,
   "metadata": {},
   "outputs": [
    {
     "data": {
      "text/plain": [
       "{'MSSubClass': 0,\n",
       " 'MSZoning': 0,\n",
       " 'LotFrontage': 0,\n",
       " 'LotArea': 0,\n",
       " 'Street': 0,\n",
       " 'Alley': 0,\n",
       " 'LotShape': 0,\n",
       " 'LandContour': 0,\n",
       " 'Utilities': 0,\n",
       " 'LandSlope': 0,\n",
       " 'Neighborhood': 0,\n",
       " 'Condition1': 0,\n",
       " 'Condition2': 0,\n",
       " 'BldgType': 0,\n",
       " 'HouseStyle': 0,\n",
       " 'OverallQual': 0,\n",
       " 'OverallCond': 0,\n",
       " 'YearBuilt': 0,\n",
       " 'YearRemodAdd': 0,\n",
       " 'RoofStyle': 0,\n",
       " 'RoofMatl': 0,\n",
       " 'Exterior1st': 0,\n",
       " 'Exterior2nd': 0,\n",
       " 'MasVnrType': 0,\n",
       " 'MasVnrArea': 0,\n",
       " 'ExterQual': 0,\n",
       " 'ExterCond': 0,\n",
       " 'Foundation': 0,\n",
       " 'BsmtQual': 0,\n",
       " 'BsmtCond': 0,\n",
       " 'BsmtExposure': 0,\n",
       " 'BsmtFinType1': 0,\n",
       " 'BsmtFinType2': 0,\n",
       " 'BsmtUnfSF': 0,\n",
       " 'TotalBsmtSF': 0,\n",
       " 'Heating': 0,\n",
       " 'HeatingQC': 0,\n",
       " 'CentralAir': 0,\n",
       " 'Electrical': 0,\n",
       " '1stFlrSF': 0,\n",
       " '2ndFlrSF': 0,\n",
       " 'LowQualFinSF': 0,\n",
       " 'GrLivArea': 0,\n",
       " 'BsmtFullBath': 0,\n",
       " 'BsmtHalfBath': 0,\n",
       " 'FullBath': 0,\n",
       " 'HalfBath': 0,\n",
       " 'BedroomAbvGr': 0,\n",
       " 'KitchenAbvGr': 0,\n",
       " 'KitchenQual': 0,\n",
       " 'TotRmsAbvGrd': 0,\n",
       " 'Functional': 0,\n",
       " 'Fireplaces': 0,\n",
       " 'FireplaceQu': 0,\n",
       " 'GarageType': 81,\n",
       " 'GarageYrBlt': 81,\n",
       " 'GarageFinish': 0,\n",
       " 'GarageArea': 0,\n",
       " 'GarageQual': 0,\n",
       " 'PavedDrive': 0,\n",
       " 'WoodDeckSF': 0,\n",
       " 'OpenPorchSF': 0,\n",
       " 'EnclosedPorch': 0,\n",
       " '3SsnPorch': 0,\n",
       " 'ScreenPorch': 0,\n",
       " 'MiscVal': 0,\n",
       " 'MoSold': 0,\n",
       " 'YrSold': 0,\n",
       " 'SaleType': 0,\n",
       " 'SaleCondition': 0,\n",
       " 'SalePrice': 0}"
      ]
     },
     "execution_count": 405,
     "metadata": {},
     "output_type": "execute_result"
    }
   ],
   "source": [
    "import pandas as pd\n",
    "import numpy as np\n",
    "import matplotlib.pyplot as plt\n",
    "\n",
    "pd.set_option('display.max_columns', None, \"display.max_rows\", None)\n",
    "\n",
    "# Read in csv\n",
    "houses = pd.read_csv(\"HousingML/data/train.csv\", index_col = \"Id\")\n",
    "\n",
    "# Drop Columns\n",
    "houses = houses.drop([\"MiscFeature\", \"Fence\", \"PoolArea\", \"PoolQC\", \"GarageCond\", \n",
    "                      \"GarageCars\", \"BsmtFinSF1\", \"BsmtFinSF2\"], axis=1)\n",
    "\n",
    "# Adjust MSSubClass to string\n",
    "houses[\"MSSubClass\"] = houses[\"MSSubClass\"].astype('str')\n",
    "\n",
    "# Convert Alley to Factor\n",
    "houses[\"Alley\"] = houses[\"Alley\"].map(lambda x: 1 if x is True else 0)\n",
    "\n",
    "# Bin LotConfig to impute missing LotFrontage\n",
    "mean_frontage = dict(houses.groupby(\"LotConfig\")[\"LotFrontage\"].mean())\n",
    "mean_frontage\n",
    "houses.loc[pd.isna(houses[\"LotFrontage\"]), \"LotFrontage\"] = houses.loc[pd.isna(houses[\"LotFrontage\"]), \"LotConfig\"].replace(mean_frontage)\n",
    "houses = houses.drop(\"LotConfig\", axis = 1)\n",
    "\n",
    "# Convert Fireplace Quality to Scale\n",
    "houses[\"FireplaceQu\"] = houses[\"FireplaceQu\"].apply(lambda x: 0 if False else 1 if \"Po\" else 2 if \"Fa\" else 3 if \"TA\" else 4 if \"Gd\" else 5)\n",
    "\n",
    "# Convert Exterior Quality and Condition to Scale\n",
    "houses[\"ExterQual\"] = houses[\"ExterQual\"].apply(lambda x: 0 if \"Po\" else 1 if \"Fa\" else 2 if \"TA\" else 3 if \"Gd\" else 5)\n",
    "houses[\"ExterCond\"] = houses[\"ExterCond\"].apply(lambda x: 0 if \"Po\" else 1 if \"Fa\" else 2 if \"TA\" else 3 if \"Gd\" else 5)\n",
    "\n",
    "# Convert Basement Quality and Condition to Scale\n",
    "houses[\"BsmtQual\"] = houses[\"BsmtQual\"].apply(lambda x: 0 if False else 1 if \"Po\" else 2 if \"Fa\" else 3 if \"TA\" else 4 if \"Gd\" else 5)\n",
    "houses[\"BsmtCond\"] = houses[\"BsmtCond\"].apply(lambda x: 0 if False else 1 if \"Po\" else 2 if \"Fa\" else 3 if \"TA\" else 4 if \"Gd\" else 5)\n",
    "houses[\"BsmtExposure\"] = houses[\"BsmtExposure\"].apply(lambda x: 0 if False else 1 if \"No\" else 2 if \"Mn\" else 3 if \"Av\" else 4)\n",
    "houses[\"BsmtFinType1\"] = houses[\"BsmtFinType1\"].apply(lambda x: 0 if False else 1 if \"Unf\" else 2 if \"LwQ\" else 3 if \"Rec\" else 4 if \"BLQ\" else 5 if \"ALQ\" else 6)\n",
    "houses[\"BsmtFinType2\"] = houses[\"BsmtFinType2\"].apply(lambda x: 0 if False else 1 if \"Unf\" else 2 if \"LwQ\" else 3 if \"Rec\" else 4 if \"BLQ\" else 5 if \"ALQ\" else 6)\n",
    "\n",
    "# Convert Heating, Kitchen, and Garage Quality and Finish to Scale\n",
    "houses[\"HeatingQC\"] = houses[\"HeatingQC\"].apply(lambda x: 0 if False else 1 if \"Po\" else 2 if \"Fa\" else 3 if \"TA\" else 4 if \"Gd\" else 5)\n",
    "houses[\"KitchenQual\"] = houses[\"KitchenQual\"].apply(lambda x: 0 if False else 1 if \"Po\" else 2 if \"Fa\" else 3 if \"TA\" else 4 if \"Gd\" else 5)\n",
    "houses[\"GarageQual\"] = houses[\"GarageQual\"].apply(lambda x: 0 if False else 1 if \"Po\" else 2 if \"Fa\" else 3 if \"TA\" else 4 if \"Gd\" else 5)\n",
    "houses[\"GarageFinish\"] = houses[\"GarageFinish\"].apply(lambda x: 0 if False else 1 if \"Unf\" else 2 if \"RFn\" else 3)\n",
    "\n",
    "# Feature Engineer total Porch Area\n",
    "\n",
    "\n",
    "# Drop Rows with NA (9 total) from Electrical, MasVnrType, and MasVnrArea\n",
    "houses = houses[~pd.isna(houses[\"Electrical\"])]\n",
    "houses = houses[~pd.isna(houses[\"MasVnrType\"])]\n",
    "\n",
    "houses.dtypes\n",
    "dict(houses.isna().sum())\n",
    "# houses.head(10)\n",
    "# houses.shape"
   ]
  },
  {
   "cell_type": "code",
   "execution_count": 372,
   "metadata": {},
   "outputs": [],
   "source": [
    "from sklearn import ensemble\n",
    "from sklearn.model_selection import train_test_split\n",
    "randomForest = ensemble.RandomForestRegressor()"
   ]
  },
  {
   "cell_type": "markdown",
   "metadata": {},
   "source": [
    "## Findings:\n",
    "When the randomforest uses all columns, train score is .9784431341050297 and test score is 0.9109712507382508.\n",
    "\n",
    "So far the best model results have been using this subset of columns:\n",
    "        \n",
    "        [\"MSSubClass\", \"MSZoning\", \"LotFrontage\", \"Alley\", \"Utilities\", \"Neighborhood\", \"Condition1\", \"BldgType\",\n",
    "        \"OverallQual\", \"YearBuilt\", \"YearRemodAdd\", \"Exterior1st\", \"TotalBsmtSF\", \"Heating\", \"CentralAir\", \n",
    "        \"1stFlrSF\", \"2ndFlrSF\", \"Fireplaces\", \"FireplaceQu\", \"KitchenAbvGr\", \"GarageType\", \n",
    "        \"GarageArea\", \"GarageQual\", \"SaleType\", \"SaleCondition\"]\n",
    "        \n",
    "        with params = n_estimators=800, max_features=25\n",
    "        \n",
    "        train score is 0.9788223251669004\n",
    "        test score is 0.9103308675663784\n",
    "        "
   ]
  },
  {
   "cell_type": "code",
   "execution_count": 432,
   "metadata": {},
   "outputs": [],
   "source": [
    "use_columns = [\"MSSubClass\", \"MSZoning\", \"LotFrontage\", \"Alley\", \"Utilities\", \"Neighborhood\", \"Condition1\", \"BldgType\",\n",
    "              \"OverallQual\", \"YearBuilt\", \"YearRemodAdd\", \"Exterior1st\", \"TotalBsmtSF\", \"Heating\", \"CentralAir\", \n",
    "               \"1stFlrSF\", \"2ndFlrSF\", \"Fireplaces\", \"KitchenAbvGr\", \"FireplaceQu\", \"GarageType\", \"GarageArea\", \"GarageQual\", \"SaleType\", \"SaleCondition\"]\n",
    "X = pd.get_dummies(houses[use_columns], drop_first=True, dummy_na=True)\n",
    "y = houses['SalePrice']\n",
    "X_train, X_test, y_train, y_test = train_test_split(X, y, test_size=0.2, random_state=42)"
   ]
  },
  {
   "cell_type": "code",
   "execution_count": 433,
   "metadata": {},
   "outputs": [
    {
     "data": {
      "text/plain": [
       "0.9788223251669004"
      ]
     },
     "execution_count": 433,
     "metadata": {},
     "output_type": "execute_result"
    }
   ],
   "source": [
    "randomForest.set_params(random_state=42, n_estimators=800, max_features=25, oob_score=True)\n",
    "randomForest.fit(X_train, y_train) # fit \n",
    "randomForest.score(X_train, y_train) # accuracy #0.9787624083170859"
   ]
  },
  {
   "cell_type": "code",
   "execution_count": 434,
   "metadata": {},
   "outputs": [
    {
     "data": {
      "text/plain": [
       "0.9103308675663784"
      ]
     },
     "execution_count": 434,
     "metadata": {},
     "output_type": "execute_result"
    }
   ],
   "source": [
    "randomForest.score(X_test, y_test) #0.9112301205842435"
   ]
  },
  {
   "cell_type": "code",
   "execution_count": 419,
   "metadata": {},
   "outputs": [
    {
     "data": {
      "text/plain": [
       "0.8393755443982529"
      ]
     },
     "execution_count": 419,
     "metadata": {},
     "output_type": "execute_result"
    }
   ],
   "source": [
    "randomForest.oob_score_ #0.8420239853952032"
   ]
  },
  {
   "cell_type": "code",
   "execution_count": 415,
   "metadata": {
    "scrolled": true
   },
   "outputs": [
    {
     "data": {
      "text/plain": [
       "<matplotlib.axes._subplots.AxesSubplot at 0x1bac557c50>"
      ]
     },
     "execution_count": 415,
     "metadata": {},
     "output_type": "execute_result"
    },
    {
     "data": {
      "image/png": "[encoded data removed]",
      "text/plain": [
       "<Figure size 432x288 with 1 Axes>"
      ]
     },
     "metadata": {
      "needs_background": "light"
     },
     "output_type": "display_data"
    }
   ],
   "source": [
    "feature_importance = list(zip(X_train.columns, randomForest.feature_importances_))\n",
    "dtype = [('feature', 'S10'), ('importance', 'float')]\n",
    "feature_importance = np.array(feature_importance, dtype=dtype)\n",
    "feature_sort = np.sort(feature_importance, order='importance')[::-1]\n",
    "name, score = zip(*list(feature_sort))\n",
    "pd.DataFrame({'name':name,'score':score})[:15].plot.bar(x='name', y='score')"
   ]
  },
  {
   "cell_type": "code",
   "execution_count": 336,
   "metadata": {},
   "outputs": [
    {
     "data": {
      "text/plain": [
       "GridSearchCV(cv=5, error_score='raise',\n",
       "             estimator=RandomForestRegressor(bootstrap=True, ccp_alpha=0.0,\n",
       "                                             criterion='mse', max_depth=None,\n",
       "                                             max_features=25,\n",
       "                                             max_leaf_nodes=None,\n",
       "                                             max_samples=None,\n",
       "                                             min_impurity_decrease=0.0,\n",
       "                                             min_impurity_split=None,\n",
       "                                             min_samples_leaf=1,\n",
       "                                             min_samples_split=2,\n",
       "                                             min_weight_fraction_leaf=0.0,\n",
       "                                             n_estimators=910, n_jobs=None,\n",
       "                                             oob_score=True, random_state=42,\n",
       "                                             verbose=0, warm_start=False),\n",
       "             iid='deprecated', n_jobs=-1,\n",
       "             param_grid=[{'max_features': array([ 2,  4,  6,  8, 10, 12, 14, 16, 18, 20, 22, 24, 26, 28, 30]),\n",
       "                          'n_estimators': [250, 500, 1000],\n",
       "                          'random_state': [42]}],\n",
       "             pre_dispatch='2*n_jobs', refit=True, return_train_score=False,\n",
       "             scoring='accuracy', verbose=0)"
      ]
     },
     "execution_count": 336,
     "metadata": {},
     "output_type": "execute_result"
    }
   ],
   "source": [
    "from sklearn.model_selection import GridSearchCV\n",
    "grid_para_forest = [{\n",
    "    \"n_estimators\": [250, 500, 1000],\n",
    "#     \"min_samples_leaf\": range(1, 10),\n",
    "    \"max_features\": np.linspace(start=2, stop=30, num=15, dtype=int),\n",
    "    \"random_state\": [42]}]\n",
    "grid_search_forest = GridSearchCV(randomForest, grid_para_forest, error_score = \"raise\", refit = True, scoring='accuracy', cv=5, n_jobs=-1)\n",
    "# grid_search_forest.best_params_\n",
    "# grid_search_forest.best_score_\n",
    "grid_search_forest"
   ]
  },
  {
   "cell_type": "code",
   "execution_count": 327,
   "metadata": {},
   "outputs": [
    {
     "name": "stderr",
     "output_type": "stream",
     "text": [
      "/opt/anaconda3/lib/python3.7/site-packages/sklearn/ensemble/_forest.py:815: UserWarning: Some inputs do not have OOB scores. This probably means too few trees were used to compute any reliable oob estimates.\n",
      "  warn(\"Some inputs do not have OOB scores. \"\n"
     ]
    }
   ],
   "source": [
    "n_trees_range = range(10, 1000, 100)  # OOB score will warning if too few trees\n",
    "train_error2 = []\n",
    "test_error2 = []\n",
    "oob_error = []\n",
    "\n",
    "for n_trees in n_trees_range:\n",
    "#     for n_feat in n_feat_range:\n",
    "    randomForest.set_params(n_estimators=n_trees, random_state=42, oob_score=True)\n",
    "    randomForest.fit(X_train, y_train)\n",
    "    train_error2.append(1 - randomForest.score(X_train, y_train))\n",
    "    test_error2.append(1 - randomForest.score(X_test, y_test))\n",
    "    oob_error.append(1 - randomForest.oob_score_)"
   ]
  },
  {
   "cell_type": "code",
   "execution_count": 328,
   "metadata": {},
   "outputs": [
    {
     "data": {
      "image/png": "[encoded data removed]",
      "text/plain": [
       "<Figure size 432x288 with 1 Axes>"
      ]
     },
     "metadata": {
      "needs_background": "light"
     },
     "output_type": "display_data"
    }
   ],
   "source": [
    "import matplotlib.pyplot as plt\n",
    "plt.plot(n_trees_range, train_error2, c='red', label='training error')\n",
    "plt.plot(n_trees_range, test_error2, c='blue', label='test error')\n",
    "plt.plot(n_trees_range, oob_error, c='pink', label='oob error')\n",
    "plt.ylabel('Error')\n",
    "plt.xlabel('Number of trees')\n",
    "plt.legend()\n",
    "plt.show()"
   ]
  },
  {
   "cell_type": "code",
   "execution_count": null,
   "metadata": {},
   "outputs": [],
   "source": []
  },
  {
   "cell_type": "code",
   "execution_count": null,
   "metadata": {},
   "outputs": [],
   "source": []
  },
  {
   "cell_type": "code",
   "execution_count": null,
   "metadata": {},
   "outputs": [],
   "source": []
  },
  {
   "cell_type": "code",
   "execution_count": null,
   "metadata": {},
   "outputs": [],
   "source": []
  },
  {
   "cell_type": "code",
   "execution_count": null,
   "metadata": {},
   "outputs": [],
   "source": []
  },
  {
   "cell_type": "code",
   "execution_count": null,
   "metadata": {},
   "outputs": [],
   "source": []
  },
  {
   "cell_type": "code",
   "execution_count": 245,
   "metadata": {
    "scrolled": true
   },
   "outputs": [],
   "source": [
    "# houses[(houses['CentralAir'] == \"N\")][[\"SalePrice\", \"YearBuilt\"]].plot.scatter(x=\"YearBuilt\", y=\"SalePrice\")\n",
    "# houses[(houses['Alley'] == \"Grvl\")].plot.bar()#[[\"SalePrice\", \"YearBuilt\"]].plot.scatter(x=\"YearBuilt\", y=\"SalePrice\")"
   ]
  },
  {
   "cell_type": "code",
   "execution_count": 246,
   "metadata": {},
   "outputs": [],
   "source": [
    "# houses['CentralAir'].hist()"
   ]
  },
  {
   "cell_type": "code",
   "execution_count": 247,
   "metadata": {},
   "outputs": [],
   "source": [
    "# houses.groupby([\"BsmtFinType1\", \"MSSubClass\"])[[\"MSSubClass\"]].count().plot.bar(figsize = (15, 5))"
   ]
  },
  {
   "cell_type": "code",
   "execution_count": 248,
   "metadata": {},
   "outputs": [],
   "source": [
    "# houses[(houses[\"PoolArea\"] != 0)][\"SalePrice\"]"
   ]
  },
  {
   "cell_type": "code",
   "execution_count": 249,
   "metadata": {},
   "outputs": [],
   "source": [
    "# houses[\"SalePrice\"].mean()"
   ]
  },
  {
   "cell_type": "code",
   "execution_count": 250,
   "metadata": {},
   "outputs": [],
   "source": [
    "# gargqual = houses.replace(np.nan, \"NA\").groupby([\"GarageQual\"])[\"GarageQual\"].count()\n",
    "# gargfin = houses.replace(np.nan, \"NA\").groupby([\"GarageFinish\"])[\"GarageFinish\"].count()\n",
    "# plt.bar(x=gargqual.index, height=gargqual.values)"
   ]
  },
  {
   "cell_type": "code",
   "execution_count": 251,
   "metadata": {},
   "outputs": [],
   "source": [
    "# houses.groupby(\"MasVnrType\")[[\"MasVnrType\"]].count().plot.bar()\n",
    "# houses[\"AvgMasArea\"] = houses.cut(\"MasVnrArea\", 20)\n",
    "# houses[[\"MasVnrArea\", \"SalePrice\"]].plot.scatter(x=\"MasVnrArea\" , y=\"SalePrice\" )"
   ]
  },
  {
   "cell_type": "code",
   "execution_count": 252,
   "metadata": {},
   "outputs": [],
   "source": [
    "# houses[\"YearBuilt\"].sort_values(ascending=False)"
   ]
  },
  {
   "cell_type": "code",
   "execution_count": null,
   "metadata": {},
   "outputs": [],
   "source": []
  }
 ],
 "metadata": {
  "kernelspec": {
   "display_name": "Python 3",
   "language": "python",
   "name": "python3"
  },
  "language_info": {
   "codemirror_mode": {
    "name": "ipython",
    "version": 3
   },
   "file_extension": ".py",
   "mimetype": "text/x-python",
   "name": "python",
   "nbconvert_exporter": "python",
   "pygments_lexer": "ipython3",
   "version": "3.7.6"
  }
 },
 "nbformat": 4,
 "nbformat_minor": 4
}
