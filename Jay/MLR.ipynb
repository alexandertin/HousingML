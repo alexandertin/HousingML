{
 "cells": [
  {
   "cell_type": "code",
   "execution_count": 1,
   "metadata": {},
   "outputs": [],
   "source": [
    "import numpy as np\n",
    "import pandas as pd\n",
    "import matplotlib.pyplot as plt\n",
    "plt.style.use('ggplot')\n",
    "%matplotlib inline\n",
    "pd.set_option('display.max_columns', None, \"display.max_rows\", None)"
   ]
  },
  {
   "cell_type": "code",
   "execution_count": 2,
   "metadata": {},
   "outputs": [],
   "source": [
    "houses = pd.read_csv('/Users/jaycohen/Documents/NYCDSA/Machine_Learning_Housing_Project/HousingML/train05-23.csv')"
   ]
  },
  {
   "cell_type": "code",
   "execution_count": 3,
   "metadata": {},
   "outputs": [],
   "source": [
    "houses[\"ExterQual\"] = houses[\"ExterQual\"].apply(lambda x: 2 if x == \"Po\" else 4 if x == \"Fa\" else 6 if x == \"TA\" else 8 if x == \"Gd\" else 10)\n",
    "houses[\"KitchenQual\"] = houses[\"KitchenQual\"].apply(lambda x: 0 if x == False else 2 if x == \"Po\" else 4 if x == \"Fa\" else 6 if x == \"TA\" else 8 if x == \"Gd\" else 10)\n",
    "houses[\"TotalBsmtSF\"] = houses[\"TotalBsmtSF\"].apply(lambda x: 1 if x == 0 else x)\n",
    "houses[\"GarageArea\"] = houses[\"GarageArea\"].apply(lambda x: 1 if x == 0 else x)\n",
    "houses[\"TotalBsmtSF\"] = houses[\"TotalBsmtSF\"].fillna(value=1)\n",
    "houses[\"GarageArea\"] = houses[\"GarageArea\"].fillna(value=1)"
   ]
  },
  {
   "cell_type": "code",
   "execution_count": 4,
   "metadata": {},
   "outputs": [],
   "source": [
    "houses['log_SalePrice']=np.log(houses['SalePrice'])\n",
    "houses['log_LotArea']=np.log(houses['LotArea'])\n",
    "houses['log_GrLivArea']=np.log(houses['GrLivArea'])\n",
    "houses['log_GarageArea']=np.log(houses['GarageArea'])\n",
    "houses['log_TotalBsmtSF']=np.log(houses['TotalBsmtSF'])"
   ]
  },
  {
   "cell_type": "code",
   "execution_count": 17,
   "metadata": {},
   "outputs": [],
   "source": [
    "houses = houses.drop([523,1298] ,axis=0)"
   ]
  },
  {
   "cell_type": "code",
   "execution_count": 5,
   "metadata": {},
   "outputs": [],
   "source": [
    "from sklearn import ensemble\n",
    "from sklearn.model_selection import train_test_split\n",
    "from sklearn import linear_model\n",
    "from sklearn.metrics import r2_score\n",
    "ols = linear_model.LinearRegression() \n",
    "from sklearn.model_selection import KFold, cross_val_score\n",
    "from scipy.stats import skew, norm\n",
    "from scipy.special import boxcox1p\n",
    "from scipy.stats import boxcox_normmax\n",
    "from sklearn.pipeline import make_pipeline\n",
    "from sklearn.preprocessing import RobustScaler\n",
    "from sklearn.linear_model import Ridge, RidgeCV"
   ]
  },
  {
   "cell_type": "code",
   "execution_count": 6,
   "metadata": {},
   "outputs": [],
   "source": [
    "featurestoselect = houses[['log_GrLivArea', 'log_LotArea', 'log_TotalBsmtSF', 'log_GarageArea', 'OverallQual', 'ExterQual', 'KitchenQual', 'YrSold', 'YearBuilt']]\n",
    "targetlogsaleprice = houses.log_SalePrice"
   ]
  },
  {
   "cell_type": "code",
   "execution_count": 7,
   "metadata": {},
   "outputs": [],
   "source": [
    "X = pd.get_dummies(featurestoselect, drop_first=True, dummy_na=True)\n",
    "y = targetlogsaleprice\n",
    "X_train, X_test, y_train, y_test = train_test_split(X, y, test_size=0.2, random_state=42)"
   ]
  },
  {
   "cell_type": "code",
   "execution_count": 8,
   "metadata": {},
   "outputs": [
    {
     "data": {
      "text/plain": [
       "0.8457530275761557"
      ]
     },
     "execution_count": 8,
     "metadata": {},
     "output_type": "execute_result"
    }
   ],
   "source": [
    "ols.fit(X_train, y_train)\n",
    "ols.score(X_train, y_train)"
   ]
  },
  {
   "cell_type": "code",
   "execution_count": 9,
   "metadata": {},
   "outputs": [
    {
     "data": {
      "text/plain": [
       "0.8419312210490425"
      ]
     },
     "execution_count": 9,
     "metadata": {},
     "output_type": "execute_result"
    }
   ],
   "source": [
    "ols.score(X_test, y_test)"
   ]
  },
  {
   "cell_type": "code",
   "execution_count": 23,
   "metadata": {},
   "outputs": [
    {
     "data": {
      "text/html": [
       "<div>\n",
       "<style scoped>\n",
       "    .dataframe tbody tr th:only-of-type {\n",
       "        vertical-align: middle;\n",
       "    }\n",
       "\n",
       "    .dataframe tbody tr th {\n",
       "        vertical-align: top;\n",
       "    }\n",
       "\n",
       "    .dataframe thead th {\n",
       "        text-align: right;\n",
       "    }\n",
       "</style>\n",
       "<table border=\"1\" class=\"dataframe\">\n",
       "  <thead>\n",
       "    <tr style=\"text-align: right;\">\n",
       "      <th></th>\n",
       "      <th>Coefficient</th>\n",
       "    </tr>\n",
       "  </thead>\n",
       "  <tbody>\n",
       "    <tr>\n",
       "      <th>log_GrLivArea</th>\n",
       "      <td>0.393874</td>\n",
       "    </tr>\n",
       "    <tr>\n",
       "      <th>log_LotArea</th>\n",
       "      <td>0.145287</td>\n",
       "    </tr>\n",
       "    <tr>\n",
       "      <th>log_TotalBsmtSF</th>\n",
       "      <td>0.029652</td>\n",
       "    </tr>\n",
       "    <tr>\n",
       "      <th>log_GarageArea</th>\n",
       "      <td>0.017314</td>\n",
       "    </tr>\n",
       "    <tr>\n",
       "      <th>OverallQual</th>\n",
       "      <td>0.083565</td>\n",
       "    </tr>\n",
       "    <tr>\n",
       "      <th>ExterQual</th>\n",
       "      <td>0.020214</td>\n",
       "    </tr>\n",
       "    <tr>\n",
       "      <th>KitchenQual</th>\n",
       "      <td>0.042584</td>\n",
       "    </tr>\n",
       "    <tr>\n",
       "      <th>YrSold</th>\n",
       "      <td>-0.000267</td>\n",
       "    </tr>\n",
       "    <tr>\n",
       "      <th>YearBuilt</th>\n",
       "      <td>0.002497</td>\n",
       "    </tr>\n",
       "  </tbody>\n",
       "</table>\n",
       "</div>"
      ],
      "text/plain": [
       "                 Coefficient\n",
       "log_GrLivArea       0.393874\n",
       "log_LotArea         0.145287\n",
       "log_TotalBsmtSF     0.029652\n",
       "log_GarageArea      0.017314\n",
       "OverallQual         0.083565\n",
       "ExterQual           0.020214\n",
       "KitchenQual         0.042584\n",
       "YrSold             -0.000267\n",
       "YearBuilt           0.002497"
      ]
     },
     "execution_count": 23,
     "metadata": {},
     "output_type": "execute_result"
    }
   ],
   "source": [
    "coeff_df = pd.DataFrame(ols.coef_, X.columns, columns=['Coefficient'])\n",
    "coeff_df"
   ]
  },
  {
   "cell_type": "code",
   "execution_count": 24,
   "metadata": {},
   "outputs": [],
   "source": [
    "testdata = pd.read_csv('/Users/jaycohen/Documents/NYCDSA/Machine_Learning_Housing_Project/HousingML/data/test.csv')"
   ]
  },
  {
   "cell_type": "code",
   "execution_count": 25,
   "metadata": {},
   "outputs": [],
   "source": [
    "testdata[\"ExterQual\"] = testdata[\"ExterQual\"].apply(lambda x: 2 if x == \"Po\" else 4 if x == \"Fa\" else 6 if x == \"TA\" else 8 if x == \"Gd\" else 10)\n",
    "testdata[\"KitchenQual\"] = testdata[\"KitchenQual\"].apply(lambda x: 0 if x == False else 2 if x == \"Po\" else 4 if x == \"Fa\" else 6 if x == \"TA\" else 8 if x == \"Gd\" else 10)\n",
    "testdata[\"TotalBsmtSF\"] = testdata[\"TotalBsmtSF\"].apply(lambda x: 1 if x == 0 else x)\n",
    "testdata[\"GarageArea\"] = testdata[\"GarageArea\"].apply(lambda x: 1 if x == 0 else x)\n",
    "testdata[\"TotalBsmtSF\"] = testdata[\"TotalBsmtSF\"].fillna(value=1)\n",
    "testdata[\"GarageArea\"] = testdata[\"GarageArea\"].fillna(value=1)"
   ]
  },
  {
   "cell_type": "code",
   "execution_count": 26,
   "metadata": {},
   "outputs": [],
   "source": [
    "testdata['log_LotArea']=np.log(testdata['LotArea'])\n",
    "testdata['log_GrLivArea']=np.log(testdata['GrLivArea'])\n",
    "testdata['log_GarageArea']=np.log(testdata['GarageArea'])\n",
    "testdata['log_TotalBsmtSF']=np.log(testdata['TotalBsmtSF'])"
   ]
  },
  {
   "cell_type": "code",
   "execution_count": 27,
   "metadata": {},
   "outputs": [],
   "source": [
    "for col in ['SaleType']:\n",
    "    testdata[col] = testdata[col].astype('category')"
   ]
  },
  {
   "cell_type": "code",
   "execution_count": 28,
   "metadata": {},
   "outputs": [],
   "source": [
    "testdata2 = testdata[['log_GrLivArea', 'log_LotArea', 'log_TotalBsmtSF', 'log_GarageArea', 'OverallQual', 'ExterQual', 'KitchenQual', 'YrSold', 'YearBuilt']]"
   ]
  },
  {
   "cell_type": "code",
   "execution_count": 29,
   "metadata": {},
   "outputs": [
    {
     "data": {
      "text/plain": [
       "[]"
      ]
     },
     "execution_count": 29,
     "metadata": {},
     "output_type": "execute_result"
    }
   ],
   "source": [
    "testdata2.columns[testdata2.isna().any()].tolist()"
   ]
  },
  {
   "cell_type": "code",
   "execution_count": 114,
   "metadata": {},
   "outputs": [],
   "source": [
    "logSalePrice_pred = ols.predict(testdata2)"
   ]
  },
  {
   "cell_type": "code",
   "execution_count": 115,
   "metadata": {},
   "outputs": [],
   "source": [
    "logSubmission = pd.DataFrame({'Id': testdata['Id'], 'LogSalePrice': logSalePrice_pred})"
   ]
  },
  {
   "cell_type": "code",
   "execution_count": 116,
   "metadata": {},
   "outputs": [
    {
     "data": {
      "text/html": [
       "<div>\n",
       "<style scoped>\n",
       "    .dataframe tbody tr th:only-of-type {\n",
       "        vertical-align: middle;\n",
       "    }\n",
       "\n",
       "    .dataframe tbody tr th {\n",
       "        vertical-align: top;\n",
       "    }\n",
       "\n",
       "    .dataframe thead th {\n",
       "        text-align: right;\n",
       "    }\n",
       "</style>\n",
       "<table border=\"1\" class=\"dataframe\">\n",
       "  <thead>\n",
       "    <tr style=\"text-align: right;\">\n",
       "      <th></th>\n",
       "      <th>Id</th>\n",
       "      <th>LogSalePrice</th>\n",
       "    </tr>\n",
       "  </thead>\n",
       "  <tbody>\n",
       "    <tr>\n",
       "      <th>0</th>\n",
       "      <td>1461</td>\n",
       "      <td>11.942187</td>\n",
       "    </tr>\n",
       "    <tr>\n",
       "      <th>1</th>\n",
       "      <td>1462</td>\n",
       "      <td>12.191214</td>\n",
       "    </tr>\n",
       "    <tr>\n",
       "      <th>2</th>\n",
       "      <td>1463</td>\n",
       "      <td>12.274269</td>\n",
       "    </tr>\n",
       "    <tr>\n",
       "      <th>3</th>\n",
       "      <td>1464</td>\n",
       "      <td>12.315820</td>\n",
       "    </tr>\n",
       "    <tr>\n",
       "      <th>4</th>\n",
       "      <td>1465</td>\n",
       "      <td>12.312582</td>\n",
       "    </tr>\n",
       "    <tr>\n",
       "      <th>5</th>\n",
       "      <td>1466</td>\n",
       "      <td>12.307917</td>\n",
       "    </tr>\n",
       "    <tr>\n",
       "      <th>6</th>\n",
       "      <td>1467</td>\n",
       "      <td>12.162165</td>\n",
       "    </tr>\n",
       "    <tr>\n",
       "      <th>7</th>\n",
       "      <td>1468</td>\n",
       "      <td>12.250561</td>\n",
       "    </tr>\n",
       "    <tr>\n",
       "      <th>8</th>\n",
       "      <td>1469</td>\n",
       "      <td>12.331127</td>\n",
       "    </tr>\n",
       "    <tr>\n",
       "      <th>9</th>\n",
       "      <td>1470</td>\n",
       "      <td>11.820030</td>\n",
       "    </tr>\n",
       "    <tr>\n",
       "      <th>10</th>\n",
       "      <td>1471</td>\n",
       "      <td>12.281876</td>\n",
       "    </tr>\n",
       "    <tr>\n",
       "      <th>11</th>\n",
       "      <td>1472</td>\n",
       "      <td>11.795326</td>\n",
       "    </tr>\n",
       "    <tr>\n",
       "      <th>12</th>\n",
       "      <td>1473</td>\n",
       "      <td>11.750593</td>\n",
       "    </tr>\n",
       "    <tr>\n",
       "      <th>13</th>\n",
       "      <td>1474</td>\n",
       "      <td>12.018954</td>\n",
       "    </tr>\n",
       "    <tr>\n",
       "      <th>14</th>\n",
       "      <td>1475</td>\n",
       "      <td>11.892493</td>\n",
       "    </tr>\n",
       "    <tr>\n",
       "      <th>15</th>\n",
       "      <td>1476</td>\n",
       "      <td>12.810788</td>\n",
       "    </tr>\n",
       "    <tr>\n",
       "      <th>16</th>\n",
       "      <td>1477</td>\n",
       "      <td>12.570110</td>\n",
       "    </tr>\n",
       "    <tr>\n",
       "      <th>17</th>\n",
       "      <td>1478</td>\n",
       "      <td>12.668233</td>\n",
       "    </tr>\n",
       "    <tr>\n",
       "      <th>18</th>\n",
       "      <td>1479</td>\n",
       "      <td>12.633171</td>\n",
       "    </tr>\n",
       "    <tr>\n",
       "      <th>19</th>\n",
       "      <td>1480</td>\n",
       "      <td>12.885100</td>\n",
       "    </tr>\n",
       "    <tr>\n",
       "      <th>20</th>\n",
       "      <td>1481</td>\n",
       "      <td>12.699516</td>\n",
       "    </tr>\n",
       "    <tr>\n",
       "      <th>21</th>\n",
       "      <td>1482</td>\n",
       "      <td>12.422546</td>\n",
       "    </tr>\n",
       "    <tr>\n",
       "      <th>22</th>\n",
       "      <td>1483</td>\n",
       "      <td>12.353108</td>\n",
       "    </tr>\n",
       "    <tr>\n",
       "      <th>23</th>\n",
       "      <td>1484</td>\n",
       "      <td>12.152181</td>\n",
       "    </tr>\n",
       "    <tr>\n",
       "      <th>24</th>\n",
       "      <td>1485</td>\n",
       "      <td>12.372542</td>\n",
       "    </tr>\n",
       "  </tbody>\n",
       "</table>\n",
       "</div>"
      ],
      "text/plain": [
       "      Id  LogSalePrice\n",
       "0   1461     11.942187\n",
       "1   1462     12.191214\n",
       "2   1463     12.274269\n",
       "3   1464     12.315820\n",
       "4   1465     12.312582\n",
       "5   1466     12.307917\n",
       "6   1467     12.162165\n",
       "7   1468     12.250561\n",
       "8   1469     12.331127\n",
       "9   1470     11.820030\n",
       "10  1471     12.281876\n",
       "11  1472     11.795326\n",
       "12  1473     11.750593\n",
       "13  1474     12.018954\n",
       "14  1475     11.892493\n",
       "15  1476     12.810788\n",
       "16  1477     12.570110\n",
       "17  1478     12.668233\n",
       "18  1479     12.633171\n",
       "19  1480     12.885100\n",
       "20  1481     12.699516\n",
       "21  1482     12.422546\n",
       "22  1483     12.353108\n",
       "23  1484     12.152181\n",
       "24  1485     12.372542"
      ]
     },
     "execution_count": 116,
     "metadata": {},
     "output_type": "execute_result"
    }
   ],
   "source": [
    "logSubmission.head(25)"
   ]
  },
  {
   "cell_type": "code",
   "execution_count": 119,
   "metadata": {},
   "outputs": [],
   "source": [
    "logSubmission['SalePrice'] = np.exp(logSubmission['LogSalePrice'])"
   ]
  },
  {
   "cell_type": "code",
   "execution_count": 120,
   "metadata": {},
   "outputs": [
    {
     "data": {
      "text/html": [
       "<div>\n",
       "<style scoped>\n",
       "    .dataframe tbody tr th:only-of-type {\n",
       "        vertical-align: middle;\n",
       "    }\n",
       "\n",
       "    .dataframe tbody tr th {\n",
       "        vertical-align: top;\n",
       "    }\n",
       "\n",
       "    .dataframe thead th {\n",
       "        text-align: right;\n",
       "    }\n",
       "</style>\n",
       "<table border=\"1\" class=\"dataframe\">\n",
       "  <thead>\n",
       "    <tr style=\"text-align: right;\">\n",
       "      <th></th>\n",
       "      <th>Id</th>\n",
       "      <th>LogSalePrice</th>\n",
       "      <th>SalePrice</th>\n",
       "    </tr>\n",
       "  </thead>\n",
       "  <tbody>\n",
       "    <tr>\n",
       "      <th>0</th>\n",
       "      <td>1461</td>\n",
       "      <td>11.942187</td>\n",
       "      <td>153612.267090</td>\n",
       "    </tr>\n",
       "    <tr>\n",
       "      <th>1</th>\n",
       "      <td>1462</td>\n",
       "      <td>12.191214</td>\n",
       "      <td>197050.168345</td>\n",
       "    </tr>\n",
       "    <tr>\n",
       "      <th>2</th>\n",
       "      <td>1463</td>\n",
       "      <td>12.274269</td>\n",
       "      <td>214115.066727</td>\n",
       "    </tr>\n",
       "    <tr>\n",
       "      <th>3</th>\n",
       "      <td>1464</td>\n",
       "      <td>12.315820</td>\n",
       "      <td>223199.232586</td>\n",
       "    </tr>\n",
       "    <tr>\n",
       "      <th>4</th>\n",
       "      <td>1465</td>\n",
       "      <td>12.312582</td>\n",
       "      <td>222477.668599</td>\n",
       "    </tr>\n",
       "    <tr>\n",
       "      <th>5</th>\n",
       "      <td>1466</td>\n",
       "      <td>12.307917</td>\n",
       "      <td>221442.330865</td>\n",
       "    </tr>\n",
       "    <tr>\n",
       "      <th>6</th>\n",
       "      <td>1467</td>\n",
       "      <td>12.162165</td>\n",
       "      <td>191408.474938</td>\n",
       "    </tr>\n",
       "    <tr>\n",
       "      <th>7</th>\n",
       "      <td>1468</td>\n",
       "      <td>12.250561</td>\n",
       "      <td>209098.586326</td>\n",
       "    </tr>\n",
       "    <tr>\n",
       "      <th>8</th>\n",
       "      <td>1469</td>\n",
       "      <td>12.331127</td>\n",
       "      <td>226641.961623</td>\n",
       "    </tr>\n",
       "    <tr>\n",
       "      <th>9</th>\n",
       "      <td>1470</td>\n",
       "      <td>11.820030</td>\n",
       "      <td>135948.362808</td>\n",
       "    </tr>\n",
       "    <tr>\n",
       "      <th>10</th>\n",
       "      <td>1471</td>\n",
       "      <td>12.281876</td>\n",
       "      <td>215750.018591</td>\n",
       "    </tr>\n",
       "    <tr>\n",
       "      <th>11</th>\n",
       "      <td>1472</td>\n",
       "      <td>11.795326</td>\n",
       "      <td>132630.998895</td>\n",
       "    </tr>\n",
       "    <tr>\n",
       "      <th>12</th>\n",
       "      <td>1473</td>\n",
       "      <td>11.750593</td>\n",
       "      <td>126828.783087</td>\n",
       "    </tr>\n",
       "    <tr>\n",
       "      <th>13</th>\n",
       "      <td>1474</td>\n",
       "      <td>12.018954</td>\n",
       "      <td>165869.018567</td>\n",
       "    </tr>\n",
       "    <tr>\n",
       "      <th>14</th>\n",
       "      <td>1475</td>\n",
       "      <td>11.892493</td>\n",
       "      <td>146165.230489</td>\n",
       "    </tr>\n",
       "    <tr>\n",
       "      <th>15</th>\n",
       "      <td>1476</td>\n",
       "      <td>12.810788</td>\n",
       "      <td>366146.245450</td>\n",
       "    </tr>\n",
       "    <tr>\n",
       "      <th>16</th>\n",
       "      <td>1477</td>\n",
       "      <td>12.570110</td>\n",
       "      <td>287825.507897</td>\n",
       "    </tr>\n",
       "    <tr>\n",
       "      <th>17</th>\n",
       "      <td>1478</td>\n",
       "      <td>12.668233</td>\n",
       "      <td>317499.949398</td>\n",
       "    </tr>\n",
       "    <tr>\n",
       "      <th>18</th>\n",
       "      <td>1479</td>\n",
       "      <td>12.633171</td>\n",
       "      <td>306560.800690</td>\n",
       "    </tr>\n",
       "    <tr>\n",
       "      <th>19</th>\n",
       "      <td>1480</td>\n",
       "      <td>12.885100</td>\n",
       "      <td>394391.821317</td>\n",
       "    </tr>\n",
       "    <tr>\n",
       "      <th>20</th>\n",
       "      <td>1481</td>\n",
       "      <td>12.699516</td>\n",
       "      <td>327589.383801</td>\n",
       "    </tr>\n",
       "    <tr>\n",
       "      <th>21</th>\n",
       "      <td>1482</td>\n",
       "      <td>12.422546</td>\n",
       "      <td>248337.996549</td>\n",
       "    </tr>\n",
       "    <tr>\n",
       "      <th>22</th>\n",
       "      <td>1483</td>\n",
       "      <td>12.353108</td>\n",
       "      <td>231678.899794</td>\n",
       "    </tr>\n",
       "    <tr>\n",
       "      <th>23</th>\n",
       "      <td>1484</td>\n",
       "      <td>12.152181</td>\n",
       "      <td>189507.029890</td>\n",
       "    </tr>\n",
       "    <tr>\n",
       "      <th>24</th>\n",
       "      <td>1485</td>\n",
       "      <td>12.372542</td>\n",
       "      <td>236225.543284</td>\n",
       "    </tr>\n",
       "  </tbody>\n",
       "</table>\n",
       "</div>"
      ],
      "text/plain": [
       "      Id  LogSalePrice      SalePrice\n",
       "0   1461     11.942187  153612.267090\n",
       "1   1462     12.191214  197050.168345\n",
       "2   1463     12.274269  214115.066727\n",
       "3   1464     12.315820  223199.232586\n",
       "4   1465     12.312582  222477.668599\n",
       "5   1466     12.307917  221442.330865\n",
       "6   1467     12.162165  191408.474938\n",
       "7   1468     12.250561  209098.586326\n",
       "8   1469     12.331127  226641.961623\n",
       "9   1470     11.820030  135948.362808\n",
       "10  1471     12.281876  215750.018591\n",
       "11  1472     11.795326  132630.998895\n",
       "12  1473     11.750593  126828.783087\n",
       "13  1474     12.018954  165869.018567\n",
       "14  1475     11.892493  146165.230489\n",
       "15  1476     12.810788  366146.245450\n",
       "16  1477     12.570110  287825.507897\n",
       "17  1478     12.668233  317499.949398\n",
       "18  1479     12.633171  306560.800690\n",
       "19  1480     12.885100  394391.821317\n",
       "20  1481     12.699516  327589.383801\n",
       "21  1482     12.422546  248337.996549\n",
       "22  1483     12.353108  231678.899794\n",
       "23  1484     12.152181  189507.029890\n",
       "24  1485     12.372542  236225.543284"
      ]
     },
     "execution_count": 120,
     "metadata": {},
     "output_type": "execute_result"
    }
   ],
   "source": [
    "logSubmission.head(25)"
   ]
  },
  {
   "cell_type": "code",
   "execution_count": 121,
   "metadata": {},
   "outputs": [],
   "source": [
    "SubmissionDF = logSubmission[['Id','SalePrice']]"
   ]
  },
  {
   "cell_type": "code",
   "execution_count": 122,
   "metadata": {},
   "outputs": [],
   "source": [
    "SubmissionDF.to_csv(r'/Users/jaycohen/Documents/NYCDSA/Machine_Learning_Housing_Project/HousingML/Jay/Submission1DF.csv', index = False)"
   ]
  },
  {
   "cell_type": "code",
   "execution_count": null,
   "metadata": {},
   "outputs": [],
   "source": []
  }
 ],
 "metadata": {
  "kernelspec": {
   "display_name": "Python 3",
   "language": "python",
   "name": "python3"
  },
  "language_info": {
   "codemirror_mode": {
    "name": "ipython",
    "version": 3
   },
   "file_extension": ".py",
   "mimetype": "text/x-python",
   "name": "python",
   "nbconvert_exporter": "python",
   "pygments_lexer": "ipython3",
   "version": "3.7.6"
  }
 },
 "nbformat": 4,
 "nbformat_minor": 4
}
