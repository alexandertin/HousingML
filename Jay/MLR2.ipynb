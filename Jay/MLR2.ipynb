{
 "cells": [
  {
   "cell_type": "code",
   "execution_count": 49,
   "metadata": {},
   "outputs": [],
   "source": [
    "import numpy as np\n",
    "import pandas as pd\n",
    "import matplotlib.pyplot as plt\n",
    "plt.style.use('ggplot')\n",
    "%matplotlib inline\n",
    "pd.set_option('display.max_columns', None, \"display.max_rows\", None)\n",
    "from sklearn import ensemble\n",
    "from sklearn.model_selection import train_test_split\n",
    "from sklearn import linear_model\n",
    "from sklearn.metrics import r2_score\n",
    "ols = linear_model.LinearRegression() \n",
    "from sklearn.model_selection import KFold, cross_val_score\n",
    "from scipy.stats import skew, norm\n",
    "from scipy.special import boxcox1p\n",
    "from scipy.stats import boxcox_normmax\n",
    "from sklearn.pipeline import make_pipeline\n",
    "from sklearn.preprocessing import RobustScaler\n",
    "from sklearn.linear_model import Ridge, RidgeCV"
   ]
  },
  {
   "cell_type": "code",
   "execution_count": 50,
   "metadata": {},
   "outputs": [],
   "source": [
    "houses = pd.read_csv('/Users/jaycohen/Documents/NYCDSA/Machine_Learning_Housing_Project/HousingML/train05-23.csv')"
   ]
  },
  {
   "cell_type": "code",
   "execution_count": 51,
   "metadata": {},
   "outputs": [],
   "source": [
    "houses[\"ExterQual\"] = houses[\"ExterQual\"].apply(lambda x: 2 if x == \"Po\" else 4 if x == \"Fa\" else 6 if x == \"TA\" else 8 if x == \"Gd\" else 10)\n",
    "houses[\"KitchenQual\"] = houses[\"KitchenQual\"].apply(lambda x: 0 if x == False else 2 if x == \"Po\" else 4 if x == \"Fa\" else 6 if x == \"TA\" else 8 if x == \"Gd\" else 10)\n",
    "houses[\"TotalBsmtSF\"] = houses[\"TotalBsmtSF\"].apply(lambda x: 1 if x == 0 else x)\n",
    "houses[\"GarageArea\"] = houses[\"GarageArea\"].apply(lambda x: 1 if x == 0 else x)\n",
    "houses[\"TotalBsmtSF\"] = houses[\"TotalBsmtSF\"].fillna(value=1)\n",
    "houses[\"GarageArea\"] = houses[\"GarageArea\"].fillna(value=1)"
   ]
  },
  {
   "cell_type": "code",
   "execution_count": 52,
   "metadata": {},
   "outputs": [],
   "source": [
    "houses = houses.drop([523,1298] ,axis=0)"
   ]
  },
  {
   "cell_type": "code",
   "execution_count": 42,
   "metadata": {},
   "outputs": [],
   "source": [
    "skew_index = houses[['GrLivArea', 'TotalBsmtSF', 'GarageArea', 'OverallQual', 'FullBath', 'TotRmsAbvGrd', 'ExterQual', 'KitchenQual', 'YrSold', 'YearBuilt']]"
   ]
  },
  {
   "cell_type": "code",
   "execution_count": 53,
   "metadata": {},
   "outputs": [],
   "source": [
    "houses['log_SalePrice']=np.log(houses['SalePrice'])"
   ]
  },
  {
   "cell_type": "code",
   "execution_count": 44,
   "metadata": {},
   "outputs": [],
   "source": [
    "for i in skew_index:\n",
    "    houses[i] = boxcox1p(houses[i], boxcox_normmax(houses[i] + 1))"
   ]
  },
  {
   "cell_type": "code",
   "execution_count": 54,
   "metadata": {},
   "outputs": [],
   "source": [
    "featurestoselect = houses[['GrLivArea', 'TotalBsmtSF', 'GarageArea', 'OverallQual', 'FullBath', 'TotRmsAbvGrd', 'ExterQual', 'KitchenQual', 'YrSold', 'YearBuilt']]\n",
    "targetlogsaleprice = houses.log_SalePrice"
   ]
  },
  {
   "cell_type": "code",
   "execution_count": 55,
   "metadata": {},
   "outputs": [],
   "source": [
    "X = pd.get_dummies(featurestoselect, drop_first=True, dummy_na=True)\n",
    "y = targetlogsaleprice\n",
    "X_train, X_test, y_train, y_test = train_test_split(X, y, test_size=0.2, random_state=42)"
   ]
  },
  {
   "cell_type": "code",
   "execution_count": 56,
   "metadata": {},
   "outputs": [
    {
     "data": {
      "text/plain": [
       "0.8470520086921788"
      ]
     },
     "execution_count": 56,
     "metadata": {},
     "output_type": "execute_result"
    }
   ],
   "source": [
    "ols.fit(X_train, y_train)\n",
    "ols.score(X_train, y_train)"
   ]
  },
  {
   "cell_type": "code",
   "execution_count": 57,
   "metadata": {},
   "outputs": [
    {
     "data": {
      "text/plain": [
       "0.650048616957638"
      ]
     },
     "execution_count": 57,
     "metadata": {},
     "output_type": "execute_result"
    }
   ],
   "source": [
    "ols.score(X_test, y_test)"
   ]
  },
  {
   "cell_type": "code",
   "execution_count": null,
   "metadata": {},
   "outputs": [],
   "source": []
  }
 ],
 "metadata": {
  "kernelspec": {
   "display_name": "Python 3",
   "language": "python",
   "name": "python3"
  },
  "language_info": {
   "codemirror_mode": {
    "name": "ipython",
    "version": 3
   },
   "file_extension": ".py",
   "mimetype": "text/x-python",
   "name": "python",
   "nbconvert_exporter": "python",
   "pygments_lexer": "ipython3",
   "version": "3.7.6"
  }
 },
 "nbformat": 4,
 "nbformat_minor": 4
}
